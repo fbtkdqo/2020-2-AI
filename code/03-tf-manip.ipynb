{
  "nbformat": 4,
  "nbformat_minor": 0,
  "metadata": {
    "colab": {
      "name": "Untitled14.ipynb",
      "provenance": [],
      "authorship_tag": "ABX9TyO6rR6JV8hbTwB1KtVl/qOc",
      "include_colab_link": true
    },
    "kernelspec": {
      "name": "python3",
      "display_name": "Python 3"
    }
  },
  "cells": [
    {
      "cell_type": "markdown",
      "metadata": {
        "id": "view-in-github",
        "colab_type": "text"
      },
      "source": [
        "<a href=\"https://colab.research.google.com/github/fbtkdqo/2020-2-AI/blob/master/code/03-tf-manip.ipynb\" target=\"_parent\"><img src=\"https://colab.research.google.com/assets/colab-badge.svg\" alt=\"Open In Colab\"/></a>"
      ]
    },
    {
      "cell_type": "code",
      "metadata": {
        "colab": {
          "base_uri": "https://localhost:8080/",
          "height": 35
        },
        "id": "ZDyz0l9uELEv",
        "outputId": "f1f795fc-2341-4558-a84f-1db404449f9a"
      },
      "source": [
        "import tensorflow as tf\n",
        "import numpy as np\n",
        "tf.__version__"
      ],
      "execution_count": 1,
      "outputs": [
        {
          "output_type": "execute_result",
          "data": {
            "application/vnd.google.colaboratory.intrinsic+json": {
              "type": "string"
            },
            "text/plain": [
              "'2.3.0'"
            ]
          },
          "metadata": {
            "tags": []
          },
          "execution_count": 1
        }
      ]
    },
    {
      "cell_type": "code",
      "metadata": {
        "colab": {
          "base_uri": "https://localhost:8080/"
        },
        "id": "KXS-q1cnEcVL",
        "outputId": "0d60c898-ce7d-4615-d66f-05018bb853c2"
      },
      "source": [
        "a = 2\n",
        "b = 3\n",
        "c = tf.add(a, b)\n",
        "print(c.numpy())"
      ],
      "execution_count": 2,
      "outputs": [
        {
          "output_type": "stream",
          "text": [
            "5\n"
          ],
          "name": "stdout"
        }
      ]
    },
    {
      "cell_type": "code",
      "metadata": {
        "colab": {
          "base_uri": "https://localhost:8080/"
        },
        "id": "rdnq03iDEcXe",
        "outputId": "5d74a103-f30f-44c3-a40d-d2d2e9fa4f74"
      },
      "source": [
        "x = 2\n",
        "y = 3\n",
        "add_op = tf.add(x, y)\n",
        "mul_op = tf.multiply(x, y)\n",
        "pow_op = tf.pow(add_op, mul_op)\n",
        "\n",
        "print(pow_op.numpy())"
      ],
      "execution_count": 3,
      "outputs": [
        {
          "output_type": "stream",
          "text": [
            "15625\n"
          ],
          "name": "stdout"
        }
      ]
    },
    {
      "cell_type": "code",
      "metadata": {
        "colab": {
          "base_uri": "https://localhost:8080/"
        },
        "id": "QYDHK2h6EcZr",
        "outputId": "185c09e7-0b63-485d-a189-87831cb3f309"
      },
      "source": [
        "a = tf.constant(2.)\n",
        "b = tf.constant(3.)\n",
        "c = tf.constant(5.)\n",
        "\n",
        "# Some more operations.\n",
        "mean = tf.reduce_mean([a, b, c])\n",
        "sum = tf.reduce_sum([a, b, c])\n",
        "\n",
        "print(\"mean = \", mean.numpy())\n",
        "print(\"sum = \", sum.numpy())"
      ],
      "execution_count": 4,
      "outputs": [
        {
          "output_type": "stream",
          "text": [
            "mean =  3.3333333\n",
            "sum =  10.0\n"
          ],
          "name": "stdout"
        }
      ]
    },
    {
      "cell_type": "code",
      "metadata": {
        "colab": {
          "base_uri": "https://localhost:8080/"
        },
        "id": "N0WB31i6EccK",
        "outputId": "01f36325-3db6-4b93-b534-ea6ebc417bb9"
      },
      "source": [
        "matrix1 = tf.constant([[1., 2.], [3., 4.]])\n",
        "matrix2 = tf.constant([[2., 0.], [1., 2.]])\n",
        "\n",
        "gop = tf.matmul(matrix1, matrix2)\n",
        "print(gop.numpy())\n",
        "\n",
        "gop = tf.matmul(matrix2, matrix1)\n",
        "print(gop.numpy())"
      ],
      "execution_count": 5,
      "outputs": [
        {
          "output_type": "stream",
          "text": [
            "[[ 4.  4.]\n",
            " [10.  8.]]\n",
            "[[ 2.  4.]\n",
            " [ 7. 10.]]\n"
          ],
          "name": "stdout"
        }
      ]
    },
    {
      "cell_type": "markdown",
      "metadata": {
        "id": "clJnEuyFEm5H"
      },
      "source": [
        "Tensor Manipulation"
      ]
    },
    {
      "cell_type": "code",
      "metadata": {
        "colab": {
          "base_uri": "https://localhost:8080/"
        },
        "id": "Fg-NKsoiEcef",
        "outputId": "b693d4da-8ad2-41bb-fc9f-a16b84b1de3d"
      },
      "source": [
        "import pprint\n",
        "\n",
        "pp = pprint.PrettyPrinter(indent=4)\n",
        "print(tf.__version__)"
      ],
      "execution_count": 6,
      "outputs": [
        {
          "output_type": "stream",
          "text": [
            "2.3.0\n"
          ],
          "name": "stdout"
        }
      ]
    },
    {
      "cell_type": "markdown",
      "metadata": {
        "id": "ESxQK4u2ErwX"
      },
      "source": [
        "Simple Array"
      ]
    },
    {
      "cell_type": "code",
      "metadata": {
        "colab": {
          "base_uri": "https://localhost:8080/"
        },
        "id": "JYTAnBqMEmLu",
        "outputId": "41b03d93-e64b-4842-ffcf-610700f8a7c8"
      },
      "source": [
        "t = np.array([0., 1., 2., 3., 4., 5., 6.])\n",
        "pp.pprint(t)\n",
        "print(t.ndim) # rank\n",
        "print(t.shape) # shape\n",
        "print(t[0], t[1], t[-1])\n",
        "print(t[2:5], t[4:-1])\n",
        "print(t[:2], t[3:])"
      ],
      "execution_count": 7,
      "outputs": [
        {
          "output_type": "stream",
          "text": [
            "array([0., 1., 2., 3., 4., 5., 6.])\n",
            "1\n",
            "(7,)\n",
            "0.0 1.0 6.0\n",
            "[2. 3. 4.] [4. 5.]\n",
            "[0. 1.] [3. 4. 5. 6.]\n"
          ],
          "name": "stdout"
        }
      ]
    },
    {
      "cell_type": "markdown",
      "metadata": {
        "id": "_va9X4hPEu3E"
      },
      "source": [
        "2D Array"
      ]
    },
    {
      "cell_type": "code",
      "metadata": {
        "colab": {
          "base_uri": "https://localhost:8080/"
        },
        "id": "mbOGJV8CEmN9",
        "outputId": "c7d32b92-0f76-4e82-a302-9af8befab74b"
      },
      "source": [
        "t = np.array([[1., 2., 3.], [4., 5., 6.], [7., 8., 9.], [10., 11., 12.]])\n",
        "pp.pprint(t)\n",
        "print(t.ndim) # rank\n",
        "print(t.shape) # shape"
      ],
      "execution_count": 8,
      "outputs": [
        {
          "output_type": "stream",
          "text": [
            "array([[ 1.,  2.,  3.],\n",
            "       [ 4.,  5.,  6.],\n",
            "       [ 7.,  8.,  9.],\n",
            "       [10., 11., 12.]])\n",
            "2\n",
            "(4, 3)\n"
          ],
          "name": "stdout"
        }
      ]
    },
    {
      "cell_type": "markdown",
      "metadata": {
        "id": "HibTnpeXExye"
      },
      "source": [
        "Shape, Rank, Axis"
      ]
    },
    {
      "cell_type": "code",
      "metadata": {
        "colab": {
          "base_uri": "https://localhost:8080/"
        },
        "id": "N_IJLCh0EmP9",
        "outputId": "71eff375-0075-4ebf-d0ba-ae85126fb038"
      },
      "source": [
        "t = tf.constant([1,2,3,4])\n",
        "tf.shape(t).numpy()"
      ],
      "execution_count": 9,
      "outputs": [
        {
          "output_type": "execute_result",
          "data": {
            "text/plain": [
              "array([4], dtype=int32)"
            ]
          },
          "metadata": {
            "tags": []
          },
          "execution_count": 9
        }
      ]
    },
    {
      "cell_type": "code",
      "metadata": {
        "colab": {
          "base_uri": "https://localhost:8080/"
        },
        "id": "Ig3svE74EmSa",
        "outputId": "fe9d3c3c-269f-497e-e748-92253fddc66e"
      },
      "source": [
        "t = tf.constant([[1,2],\n",
        "                 [3,4]])\n",
        "tf.shape(t).numpy()"
      ],
      "execution_count": 10,
      "outputs": [
        {
          "output_type": "execute_result",
          "data": {
            "text/plain": [
              "array([2, 2], dtype=int32)"
            ]
          },
          "metadata": {
            "tags": []
          },
          "execution_count": 10
        }
      ]
    },
    {
      "cell_type": "code",
      "metadata": {
        "colab": {
          "base_uri": "https://localhost:8080/"
        },
        "id": "YecnGsQ9EmVt",
        "outputId": "e7512a7b-8f71-44ac-e6c2-a369acefe159"
      },
      "source": [
        "t = tf.constant([[[[1, 2, 3, 4], [5, 6, 7, 8], [9, 10, 11, 12]],[[13, 14, 15, 16], [17, 18, 19, 20], [21, 22, 23, 24]]]])\n",
        "print(t)\n",
        "tf.shape(t).numpy()"
      ],
      "execution_count": 11,
      "outputs": [
        {
          "output_type": "stream",
          "text": [
            "tf.Tensor(\n",
            "[[[[ 1  2  3  4]\n",
            "   [ 5  6  7  8]\n",
            "   [ 9 10 11 12]]\n",
            "\n",
            "  [[13 14 15 16]\n",
            "   [17 18 19 20]\n",
            "   [21 22 23 24]]]], shape=(1, 2, 3, 4), dtype=int32)\n"
          ],
          "name": "stdout"
        },
        {
          "output_type": "execute_result",
          "data": {
            "text/plain": [
              "array([1, 2, 3, 4], dtype=int32)"
            ]
          },
          "metadata": {
            "tags": []
          },
          "execution_count": 11
        }
      ]
    },
    {
      "cell_type": "code",
      "metadata": {
        "colab": {
          "base_uri": "https://localhost:8080/"
        },
        "id": "YQAZ5hPOEmYY",
        "outputId": "7d3e7318-73b1-41f5-a2f1-f8e009bdf75e"
      },
      "source": [
        "[\n",
        "    [\n",
        "        [\n",
        "            [1,2,3,4], \n",
        "            [5,6,7,8],\n",
        "            [9,10,11,12]\n",
        "        ],\n",
        "        [\n",
        "            [13,14,15,16],\n",
        "            [17,18,19,20], \n",
        "            [21,22,23,24]\n",
        "        ]\n",
        "    ]\n",
        "]"
      ],
      "execution_count": 12,
      "outputs": [
        {
          "output_type": "execute_result",
          "data": {
            "text/plain": [
              "[[[[1, 2, 3, 4], [5, 6, 7, 8], [9, 10, 11, 12]],\n",
              "  [[13, 14, 15, 16], [17, 18, 19, 20], [21, 22, 23, 24]]]]"
            ]
          },
          "metadata": {
            "tags": []
          },
          "execution_count": 12
        }
      ]
    },
    {
      "cell_type": "markdown",
      "metadata": {
        "id": "VaB9U3hAE78O"
      },
      "source": [
        "Matmul VS multiply"
      ]
    },
    {
      "cell_type": "code",
      "metadata": {
        "colab": {
          "base_uri": "https://localhost:8080/"
        },
        "id": "XIj6E-3UEmbO",
        "outputId": "edbe4612-ef2f-474e-bb37-cdfcf3ff0748"
      },
      "source": [
        "matrix1 = tf.constant([[3., 3.]])\n",
        "matrix2 = tf.constant([[2.],[2.]])\n",
        "tf.matmul(matrix1, matrix2).numpy()"
      ],
      "execution_count": 13,
      "outputs": [
        {
          "output_type": "execute_result",
          "data": {
            "text/plain": [
              "array([[12.]], dtype=float32)"
            ]
          },
          "metadata": {
            "tags": []
          },
          "execution_count": 13
        }
      ]
    },
    {
      "cell_type": "code",
      "metadata": {
        "colab": {
          "base_uri": "https://localhost:8080/"
        },
        "id": "N-yHGgnNEmdV",
        "outputId": "6d1cf132-0396-432a-c007-d0e4b871fa8f"
      },
      "source": [
        "(matrix1 * matrix2).numpy()"
      ],
      "execution_count": 14,
      "outputs": [
        {
          "output_type": "execute_result",
          "data": {
            "text/plain": [
              "array([[6., 6.],\n",
              "       [6., 6.]], dtype=float32)"
            ]
          },
          "metadata": {
            "tags": []
          },
          "execution_count": 14
        }
      ]
    },
    {
      "cell_type": "code",
      "metadata": {
        "colab": {
          "base_uri": "https://localhost:8080/"
        },
        "id": "nf_T-W_DFA2P",
        "outputId": "13175979-865a-4618-9c6d-d9358fe4de18"
      },
      "source": [
        "matrix1 = tf.constant([[3., 3.]])\n",
        "matrix2 = tf.constant([[2.],[2.]])\n",
        "(matrix1 + matrix2).numpy()"
      ],
      "execution_count": 15,
      "outputs": [
        {
          "output_type": "execute_result",
          "data": {
            "text/plain": [
              "array([[5., 5.],\n",
              "       [5., 5.]], dtype=float32)"
            ]
          },
          "metadata": {
            "tags": []
          },
          "execution_count": 15
        }
      ]
    },
    {
      "cell_type": "code",
      "metadata": {
        "colab": {
          "base_uri": "https://localhost:8080/"
        },
        "id": "qgb1L6ylFA5Q",
        "outputId": "9b3dd444-63d1-45ee-d409-7dac9fe090b5"
      },
      "source": [
        "matrix1 = tf.constant([[3., 3.]])\n",
        "matrix2 = tf.constant([[2., 2.]])\n",
        "(matrix1 + matrix2).numpy()"
      ],
      "execution_count": 16,
      "outputs": [
        {
          "output_type": "execute_result",
          "data": {
            "text/plain": [
              "array([[5., 5.]], dtype=float32)"
            ]
          },
          "metadata": {
            "tags": []
          },
          "execution_count": 16
        }
      ]
    },
    {
      "cell_type": "code",
      "metadata": {
        "colab": {
          "base_uri": "https://localhost:8080/"
        },
        "id": "wAebkeL6FA7n",
        "outputId": "723f4ae2-3962-42fe-f2ad-aeac18d69591"
      },
      "source": [
        "tf.random.normal([3]).numpy()"
      ],
      "execution_count": 17,
      "outputs": [
        {
          "output_type": "execute_result",
          "data": {
            "text/plain": [
              "array([ 1.8601309, -0.535251 , -1.5787617], dtype=float32)"
            ]
          },
          "metadata": {
            "tags": []
          },
          "execution_count": 17
        }
      ]
    },
    {
      "cell_type": "code",
      "metadata": {
        "colab": {
          "base_uri": "https://localhost:8080/"
        },
        "id": "6fl_fsnAFA9p",
        "outputId": "2c8f9374-4d1c-4f8a-e255-9d6d23bc6c06"
      },
      "source": [
        "tf.random.uniform([2]).numpy()"
      ],
      "execution_count": 18,
      "outputs": [
        {
          "output_type": "execute_result",
          "data": {
            "text/plain": [
              "array([0.5743072 , 0.30852902], dtype=float32)"
            ]
          },
          "metadata": {
            "tags": []
          },
          "execution_count": 18
        }
      ]
    },
    {
      "cell_type": "code",
      "metadata": {
        "colab": {
          "base_uri": "https://localhost:8080/"
        },
        "id": "aKfGDfNGFFn-",
        "outputId": "0b8e819c-2ad1-4659-e26a-953dc40f72c6"
      },
      "source": [
        "tf.random.uniform([2, 3]).numpy()"
      ],
      "execution_count": 19,
      "outputs": [
        {
          "output_type": "execute_result",
          "data": {
            "text/plain": [
              "array([[0.06730056, 0.52896917, 0.62806976],\n",
              "       [0.8255532 , 0.34366035, 0.476897  ]], dtype=float32)"
            ]
          },
          "metadata": {
            "tags": []
          },
          "execution_count": 19
        }
      ]
    },
    {
      "cell_type": "code",
      "metadata": {
        "colab": {
          "base_uri": "https://localhost:8080/"
        },
        "id": "w7IGa0VZFFrM",
        "outputId": "7bec01cf-a4d5-4568-d4f1-0432d1bb02aa"
      },
      "source": [
        "tf.reduce_mean([1, 2], axis=0).numpy()"
      ],
      "execution_count": 20,
      "outputs": [
        {
          "output_type": "execute_result",
          "data": {
            "text/plain": [
              "1"
            ]
          },
          "metadata": {
            "tags": []
          },
          "execution_count": 20
        }
      ]
    },
    {
      "cell_type": "code",
      "metadata": {
        "colab": {
          "base_uri": "https://localhost:8080/"
        },
        "id": "IjAUTjfrFFtR",
        "outputId": "036406fb-02a0-463a-9b4f-e3f4f35d7bcb"
      },
      "source": [
        "tf.reduce_mean([1., 2.], axis=0).numpy()"
      ],
      "execution_count": 21,
      "outputs": [
        {
          "output_type": "execute_result",
          "data": {
            "text/plain": [
              "1.5"
            ]
          },
          "metadata": {
            "tags": []
          },
          "execution_count": 21
        }
      ]
    },
    {
      "cell_type": "code",
      "metadata": {
        "colab": {
          "base_uri": "https://localhost:8080/"
        },
        "id": "gATgU2-NFFvw",
        "outputId": "5a2a204e-e3d8-4bd7-833f-549c73391de6"
      },
      "source": [
        "x = [[1., 2.],\n",
        "     [3., 4.]]\n",
        "\n",
        "tf.reduce_mean(x).numpy()"
      ],
      "execution_count": 22,
      "outputs": [
        {
          "output_type": "execute_result",
          "data": {
            "text/plain": [
              "2.5"
            ]
          },
          "metadata": {
            "tags": []
          },
          "execution_count": 22
        }
      ]
    },
    {
      "cell_type": "code",
      "metadata": {
        "colab": {
          "base_uri": "https://localhost:8080/"
        },
        "id": "8rAcYAnMFKKB",
        "outputId": "e9625eb2-eb2c-46dd-8b00-1bc90fc7bcb7"
      },
      "source": [
        "tf.reduce_mean(x, axis=0).numpy()"
      ],
      "execution_count": 23,
      "outputs": [
        {
          "output_type": "execute_result",
          "data": {
            "text/plain": [
              "array([2., 3.], dtype=float32)"
            ]
          },
          "metadata": {
            "tags": []
          },
          "execution_count": 23
        }
      ]
    },
    {
      "cell_type": "code",
      "metadata": {
        "colab": {
          "base_uri": "https://localhost:8080/"
        },
        "id": "-0-jMcxoFKNA",
        "outputId": "28d32f5e-484d-4df6-9c80-61e33803952d"
      },
      "source": [
        "tf.reduce_mean(x, axis=1).numpy()"
      ],
      "execution_count": 24,
      "outputs": [
        {
          "output_type": "execute_result",
          "data": {
            "text/plain": [
              "array([1.5, 3.5], dtype=float32)"
            ]
          },
          "metadata": {
            "tags": []
          },
          "execution_count": 24
        }
      ]
    },
    {
      "cell_type": "code",
      "metadata": {
        "colab": {
          "base_uri": "https://localhost:8080/"
        },
        "id": "b_NyQoNaFKPc",
        "outputId": "86d1c2f1-0327-4139-962a-f397a2225200"
      },
      "source": [
        "tf.reduce_mean(x, axis=-1).numpy()"
      ],
      "execution_count": 25,
      "outputs": [
        {
          "output_type": "execute_result",
          "data": {
            "text/plain": [
              "array([1.5, 3.5], dtype=float32)"
            ]
          },
          "metadata": {
            "tags": []
          },
          "execution_count": 25
        }
      ]
    },
    {
      "cell_type": "code",
      "metadata": {
        "colab": {
          "base_uri": "https://localhost:8080/"
        },
        "id": "Ecldk6W_FKRy",
        "outputId": "f268c76f-97a6-4299-8568-e11cc69359bd"
      },
      "source": [
        "x = [[1., 2.],\n",
        "     [3., 4.]]\n",
        "\n",
        "tf.reduce_sum(x).numpy()"
      ],
      "execution_count": 26,
      "outputs": [
        {
          "output_type": "execute_result",
          "data": {
            "text/plain": [
              "10.0"
            ]
          },
          "metadata": {
            "tags": []
          },
          "execution_count": 26
        }
      ]
    },
    {
      "cell_type": "code",
      "metadata": {
        "colab": {
          "base_uri": "https://localhost:8080/"
        },
        "id": "7Ah8FTrFFOqG",
        "outputId": "cd6c3fc6-a838-41db-f2cd-048bae2cdaa4"
      },
      "source": [
        "tf.reduce_sum(x, axis=0).numpy()"
      ],
      "execution_count": 27,
      "outputs": [
        {
          "output_type": "execute_result",
          "data": {
            "text/plain": [
              "array([4., 6.], dtype=float32)"
            ]
          },
          "metadata": {
            "tags": []
          },
          "execution_count": 27
        }
      ]
    },
    {
      "cell_type": "code",
      "metadata": {
        "colab": {
          "base_uri": "https://localhost:8080/"
        },
        "id": "pPFuGbqtFP3U",
        "outputId": "88b65661-c959-4ad2-860b-7303232ceaeb"
      },
      "source": [
        "tf.reduce_sum(x, axis=1).numpy()"
      ],
      "execution_count": 28,
      "outputs": [
        {
          "output_type": "execute_result",
          "data": {
            "text/plain": [
              "array([3., 7.], dtype=float32)"
            ]
          },
          "metadata": {
            "tags": []
          },
          "execution_count": 28
        }
      ]
    },
    {
      "cell_type": "code",
      "metadata": {
        "colab": {
          "base_uri": "https://localhost:8080/"
        },
        "id": "JEL3PkhxFP6r",
        "outputId": "83851acb-9c3c-4918-fc01-e99963adc5fb"
      },
      "source": [
        "tf.reduce_sum(x, axis=-1).numpy()"
      ],
      "execution_count": 29,
      "outputs": [
        {
          "output_type": "execute_result",
          "data": {
            "text/plain": [
              "array([3., 7.], dtype=float32)"
            ]
          },
          "metadata": {
            "tags": []
          },
          "execution_count": 29
        }
      ]
    },
    {
      "cell_type": "code",
      "metadata": {
        "colab": {
          "base_uri": "https://localhost:8080/"
        },
        "id": "SEvGBUmDFP83",
        "outputId": "1499808e-1904-4676-a36c-503b8b563d3b"
      },
      "source": [
        "tf.reduce_mean(tf.reduce_sum(x, axis=-1)).numpy()"
      ],
      "execution_count": 30,
      "outputs": [
        {
          "output_type": "execute_result",
          "data": {
            "text/plain": [
              "5.0"
            ]
          },
          "metadata": {
            "tags": []
          },
          "execution_count": 30
        }
      ]
    },
    {
      "cell_type": "code",
      "metadata": {
        "colab": {
          "base_uri": "https://localhost:8080/"
        },
        "id": "u3rE74x0FUZ6",
        "outputId": "3dddd3cf-4d4a-4dff-933d-d29b56a0e783"
      },
      "source": [
        "x = [[0, 1, 2],\n",
        "     [2, 1, 0]]\n",
        "tf.argmax(x, axis=0).numpy()"
      ],
      "execution_count": 31,
      "outputs": [
        {
          "output_type": "execute_result",
          "data": {
            "text/plain": [
              "array([1, 0, 0])"
            ]
          },
          "metadata": {
            "tags": []
          },
          "execution_count": 31
        }
      ]
    },
    {
      "cell_type": "code",
      "metadata": {
        "colab": {
          "base_uri": "https://localhost:8080/"
        },
        "id": "Kk22mGHrFUdZ",
        "outputId": "dafcc142-2541-4595-bd37-7c5076a8282e"
      },
      "source": [
        "tf.argmax(x, axis=1).numpy()"
      ],
      "execution_count": 32,
      "outputs": [
        {
          "output_type": "execute_result",
          "data": {
            "text/plain": [
              "array([2, 0])"
            ]
          },
          "metadata": {
            "tags": []
          },
          "execution_count": 32
        }
      ]
    },
    {
      "cell_type": "code",
      "metadata": {
        "colab": {
          "base_uri": "https://localhost:8080/"
        },
        "id": "fOVruk8rFUfp",
        "outputId": "1a98f414-97dc-48b2-9393-cc7f622575e6"
      },
      "source": [
        "tf.argmax(x, axis=-1).numpy()"
      ],
      "execution_count": 33,
      "outputs": [
        {
          "output_type": "execute_result",
          "data": {
            "text/plain": [
              "array([2, 0])"
            ]
          },
          "metadata": {
            "tags": []
          },
          "execution_count": 33
        }
      ]
    },
    {
      "cell_type": "code",
      "metadata": {
        "colab": {
          "base_uri": "https://localhost:8080/"
        },
        "id": "-Ocl8yqoFUh-",
        "outputId": "3e1b7c23-c1e1-4e7e-b46b-5166537c3df2"
      },
      "source": [
        "t = np.array([[[0, 1, 2], \n",
        "               [3, 4, 5]],\n",
        "              \n",
        "              [[6, 7, 8], \n",
        "               [9, 10, 11]]])\n",
        "t.shape"
      ],
      "execution_count": 34,
      "outputs": [
        {
          "output_type": "execute_result",
          "data": {
            "text/plain": [
              "(2, 2, 3)"
            ]
          },
          "metadata": {
            "tags": []
          },
          "execution_count": 34
        }
      ]
    },
    {
      "cell_type": "code",
      "metadata": {
        "colab": {
          "base_uri": "https://localhost:8080/"
        },
        "id": "mFUQA52IFUkO",
        "outputId": "3f1c5e92-8148-4636-bd6e-7131830c156b"
      },
      "source": [
        "tf.reshape(t, shape=[-1, 3]).numpy()"
      ],
      "execution_count": 35,
      "outputs": [
        {
          "output_type": "execute_result",
          "data": {
            "text/plain": [
              "array([[ 0,  1,  2],\n",
              "       [ 3,  4,  5],\n",
              "       [ 6,  7,  8],\n",
              "       [ 9, 10, 11]])"
            ]
          },
          "metadata": {
            "tags": []
          },
          "execution_count": 35
        }
      ]
    },
    {
      "cell_type": "code",
      "metadata": {
        "colab": {
          "base_uri": "https://localhost:8080/"
        },
        "id": "QcOeArXcFUmt",
        "outputId": "8ee580dd-e9e5-4a75-aa6e-382e5d284a0c"
      },
      "source": [
        "tf.reshape(t, shape=[-1, 1, 3]).numpy()"
      ],
      "execution_count": 36,
      "outputs": [
        {
          "output_type": "execute_result",
          "data": {
            "text/plain": [
              "array([[[ 0,  1,  2]],\n",
              "\n",
              "       [[ 3,  4,  5]],\n",
              "\n",
              "       [[ 6,  7,  8]],\n",
              "\n",
              "       [[ 9, 10, 11]]])"
            ]
          },
          "metadata": {
            "tags": []
          },
          "execution_count": 36
        }
      ]
    },
    {
      "cell_type": "code",
      "metadata": {
        "colab": {
          "base_uri": "https://localhost:8080/"
        },
        "id": "fYYHb-JMFbln",
        "outputId": "6c10b795-cb16-4c20-b2fe-e10545c69b02"
      },
      "source": [
        "a = np.array([[0], [1], [2]])\n",
        "print(a.shape)\n",
        "b = tf.squeeze(a)\n",
        "print(b.shape)\n",
        "b.numpy()"
      ],
      "execution_count": 37,
      "outputs": [
        {
          "output_type": "stream",
          "text": [
            "(3, 1)\n",
            "(3,)\n"
          ],
          "name": "stdout"
        },
        {
          "output_type": "execute_result",
          "data": {
            "text/plain": [
              "array([0, 1, 2])"
            ]
          },
          "metadata": {
            "tags": []
          },
          "execution_count": 37
        }
      ]
    },
    {
      "cell_type": "code",
      "metadata": {
        "colab": {
          "base_uri": "https://localhost:8080/"
        },
        "id": "P4juNtmWFbpW",
        "outputId": "b1c7dd76-0e7c-4753-e9c5-9f955dec3ad1"
      },
      "source": [
        "a = np.array([[[0, 1], [2, 3]]])\n",
        "print(a.shape)\n",
        "b = tf.squeeze(a)\n",
        "print(b.shape)\n",
        "b.numpy()"
      ],
      "execution_count": 38,
      "outputs": [
        {
          "output_type": "stream",
          "text": [
            "(1, 2, 2)\n",
            "(2, 2)\n"
          ],
          "name": "stdout"
        },
        {
          "output_type": "execute_result",
          "data": {
            "text/plain": [
              "array([[0, 1],\n",
              "       [2, 3]])"
            ]
          },
          "metadata": {
            "tags": []
          },
          "execution_count": 38
        }
      ]
    },
    {
      "cell_type": "code",
      "metadata": {
        "colab": {
          "base_uri": "https://localhost:8080/"
        },
        "id": "cYFcDg3_FbsF",
        "outputId": "7934b5ad-1fdd-4962-c3c1-b752500ed603"
      },
      "source": [
        "a = np.array([[[0, 1]], [[2, 3]]])\n",
        "print(a.shape)\n",
        "b = tf.squeeze(a)\n",
        "print(b.shape)\n",
        "b.numpy()"
      ],
      "execution_count": 39,
      "outputs": [
        {
          "output_type": "stream",
          "text": [
            "(2, 1, 2)\n",
            "(2, 2)\n"
          ],
          "name": "stdout"
        },
        {
          "output_type": "execute_result",
          "data": {
            "text/plain": [
              "array([[0, 1],\n",
              "       [2, 3]])"
            ]
          },
          "metadata": {
            "tags": []
          },
          "execution_count": 39
        }
      ]
    },
    {
      "cell_type": "code",
      "metadata": {
        "colab": {
          "base_uri": "https://localhost:8080/"
        },
        "id": "_KGxk9u7FbuV",
        "outputId": "cf76aa9c-5a98-466c-e6da-23d1984f82bf"
      },
      "source": [
        "a = np.array([0, 1, 2])\n",
        "print(a.shape)\n",
        "b = tf.expand_dims(a, 0)\n",
        "print(b.shape)\n",
        "b.numpy()"
      ],
      "execution_count": 40,
      "outputs": [
        {
          "output_type": "stream",
          "text": [
            "(3,)\n",
            "(1, 3)\n"
          ],
          "name": "stdout"
        },
        {
          "output_type": "execute_result",
          "data": {
            "text/plain": [
              "array([[0, 1, 2]])"
            ]
          },
          "metadata": {
            "tags": []
          },
          "execution_count": 40
        }
      ]
    },
    {
      "cell_type": "code",
      "metadata": {
        "colab": {
          "base_uri": "https://localhost:8080/"
        },
        "id": "gj9dpDb_FkhA",
        "outputId": "991f920e-8d5d-4906-d4a1-f9eb9f25034e"
      },
      "source": [
        "a = np.array([0, 1, 2])\n",
        "print(a.shape)\n",
        "b = tf.expand_dims(a, 1)\n",
        "print(b.shape)\n",
        "b.numpy()"
      ],
      "execution_count": 41,
      "outputs": [
        {
          "output_type": "stream",
          "text": [
            "(3,)\n",
            "(3, 1)\n"
          ],
          "name": "stdout"
        },
        {
          "output_type": "execute_result",
          "data": {
            "text/plain": [
              "array([[0],\n",
              "       [1],\n",
              "       [2]])"
            ]
          },
          "metadata": {
            "tags": []
          },
          "execution_count": 41
        }
      ]
    },
    {
      "cell_type": "code",
      "metadata": {
        "colab": {
          "base_uri": "https://localhost:8080/"
        },
        "id": "TQ4SCJlIFk6u",
        "outputId": "4f85d779-fc0f-4c19-9bbc-93b127488daa"
      },
      "source": [
        "# 차수가 하나 늘어나며, depth는 유형 종류의 수\n",
        "tf.one_hot([[0], [1], [2], [0]], depth=3).numpy()"
      ],
      "execution_count": 42,
      "outputs": [
        {
          "output_type": "execute_result",
          "data": {
            "text/plain": [
              "array([[[1., 0., 0.]],\n",
              "\n",
              "       [[0., 1., 0.]],\n",
              "\n",
              "       [[0., 0., 1.]],\n",
              "\n",
              "       [[1., 0., 0.]]], dtype=float32)"
            ]
          },
          "metadata": {
            "tags": []
          },
          "execution_count": 42
        }
      ]
    },
    {
      "cell_type": "code",
      "metadata": {
        "colab": {
          "base_uri": "https://localhost:8080/"
        },
        "id": "jqO6VAQ_Fk-g",
        "outputId": "1bdd4be7-430b-4686-e127-ff2c48beaed0"
      },
      "source": [
        "# 차수가 하나 늘어나며, depth는 유형 종류의 수\n",
        "tf.one_hot([[0], [1], [2], [0]], depth=2).numpy()"
      ],
      "execution_count": 43,
      "outputs": [
        {
          "output_type": "execute_result",
          "data": {
            "text/plain": [
              "array([[[1., 0.]],\n",
              "\n",
              "       [[0., 1.]],\n",
              "\n",
              "       [[0., 0.]],\n",
              "\n",
              "       [[1., 0.]]], dtype=float32)"
            ]
          },
          "metadata": {
            "tags": []
          },
          "execution_count": 43
        }
      ]
    },
    {
      "cell_type": "code",
      "metadata": {
        "colab": {
          "base_uri": "https://localhost:8080/"
        },
        "id": "4P_vUhjfFp7w",
        "outputId": "47869a78-7562-454e-8583-e22a37d5e6d2"
      },
      "source": [
        "tf.one_hot([[0], [1], [2], [0]], depth=4).numpy()"
      ],
      "execution_count": 44,
      "outputs": [
        {
          "output_type": "execute_result",
          "data": {
            "text/plain": [
              "array([[[1., 0., 0., 0.]],\n",
              "\n",
              "       [[0., 1., 0., 0.]],\n",
              "\n",
              "       [[0., 0., 1., 0.]],\n",
              "\n",
              "       [[1., 0., 0., 0.]]], dtype=float32)"
            ]
          },
          "metadata": {
            "tags": []
          },
          "execution_count": 44
        }
      ]
    },
    {
      "cell_type": "code",
      "metadata": {
        "colab": {
          "base_uri": "https://localhost:8080/"
        },
        "id": "qMeL_Vi7Fp_t",
        "outputId": "b3663b03-cce3-4a1c-fce4-7e5ecc6c4eee"
      },
      "source": [
        "tf.one_hot([[0], [1], [2], [0]], depth=5).numpy()"
      ],
      "execution_count": 45,
      "outputs": [
        {
          "output_type": "execute_result",
          "data": {
            "text/plain": [
              "array([[[1., 0., 0., 0., 0.]],\n",
              "\n",
              "       [[0., 1., 0., 0., 0.]],\n",
              "\n",
              "       [[0., 0., 1., 0., 0.]],\n",
              "\n",
              "       [[1., 0., 0., 0., 0.]]], dtype=float32)"
            ]
          },
          "metadata": {
            "tags": []
          },
          "execution_count": 45
        }
      ]
    },
    {
      "cell_type": "code",
      "metadata": {
        "colab": {
          "base_uri": "https://localhost:8080/"
        },
        "id": "q9U62W7DFqCS",
        "outputId": "d4f446f7-a260-4ed3-864d-42124b05dc5c"
      },
      "source": [
        "t = tf.one_hot([[0], [1], [2], [0]], depth=3)\n",
        "print(t.numpy())\n",
        "tf.reshape(t, shape=[-1, 3]).numpy()"
      ],
      "execution_count": 46,
      "outputs": [
        {
          "output_type": "stream",
          "text": [
            "[[[1. 0. 0.]]\n",
            "\n",
            " [[0. 1. 0.]]\n",
            "\n",
            " [[0. 0. 1.]]\n",
            "\n",
            " [[1. 0. 0.]]]\n"
          ],
          "name": "stdout"
        },
        {
          "output_type": "execute_result",
          "data": {
            "text/plain": [
              "array([[1., 0., 0.],\n",
              "       [0., 1., 0.],\n",
              "       [0., 0., 1.],\n",
              "       [1., 0., 0.]], dtype=float32)"
            ]
          },
          "metadata": {
            "tags": []
          },
          "execution_count": 46
        }
      ]
    },
    {
      "cell_type": "code",
      "metadata": {
        "colab": {
          "base_uri": "https://localhost:8080/"
        },
        "id": "Yie82Wg9FvEX",
        "outputId": "663b846a-6143-4925-894e-eba560080002"
      },
      "source": [
        "t = tf.one_hot([[0], [1], [2], [0]], depth=3)\n",
        "print(t.numpy())\n",
        "tf.squeeze(t).numpy()"
      ],
      "execution_count": 47,
      "outputs": [
        {
          "output_type": "stream",
          "text": [
            "[[[1. 0. 0.]]\n",
            "\n",
            " [[0. 1. 0.]]\n",
            "\n",
            " [[0. 0. 1.]]\n",
            "\n",
            " [[1. 0. 0.]]]\n"
          ],
          "name": "stdout"
        },
        {
          "output_type": "execute_result",
          "data": {
            "text/plain": [
              "array([[1., 0., 0.],\n",
              "       [0., 1., 0.],\n",
              "       [0., 0., 1.],\n",
              "       [1., 0., 0.]], dtype=float32)"
            ]
          },
          "metadata": {
            "tags": []
          },
          "execution_count": 47
        }
      ]
    },
    {
      "cell_type": "code",
      "metadata": {
        "colab": {
          "base_uri": "https://localhost:8080/"
        },
        "id": "iyL8arAcFvG6",
        "outputId": "22c7ca54-2c12-4d1a-afb7-a6fb424744a4"
      },
      "source": [
        "tf.cast([1.8, 2.2, 3.3, 4.9], tf.int32).numpy()"
      ],
      "execution_count": 48,
      "outputs": [
        {
          "output_type": "execute_result",
          "data": {
            "text/plain": [
              "array([1, 2, 3, 4], dtype=int32)"
            ]
          },
          "metadata": {
            "tags": []
          },
          "execution_count": 48
        }
      ]
    },
    {
      "cell_type": "code",
      "metadata": {
        "colab": {
          "base_uri": "https://localhost:8080/"
        },
        "id": "GMzsXcuoFvJS",
        "outputId": "c77d0f3c-825a-4753-a774-baec44381c7a"
      },
      "source": [
        "tf.cast([True, False, 1 == 1, 0 == 1], tf.int32).numpy()"
      ],
      "execution_count": 49,
      "outputs": [
        {
          "output_type": "execute_result",
          "data": {
            "text/plain": [
              "array([1, 0, 1, 0], dtype=int32)"
            ]
          },
          "metadata": {
            "tags": []
          },
          "execution_count": 49
        }
      ]
    },
    {
      "cell_type": "code",
      "metadata": {
        "colab": {
          "base_uri": "https://localhost:8080/"
        },
        "id": "D_F7J1v4GMqi",
        "outputId": "32563bc1-a558-44aa-e7b8-054214e52cc3"
      },
      "source": [
        "x = [1, 4]\n",
        "y = [2, 5]\n",
        "z = [3, 6]\n",
        "\n",
        "# Pack along first dim.\n",
        "tf.stack([x, y, z]).numpy()"
      ],
      "execution_count": 50,
      "outputs": [
        {
          "output_type": "execute_result",
          "data": {
            "text/plain": [
              "array([[1, 4],\n",
              "       [2, 5],\n",
              "       [3, 6]], dtype=int32)"
            ]
          },
          "metadata": {
            "tags": []
          },
          "execution_count": 50
        }
      ]
    },
    {
      "cell_type": "code",
      "metadata": {
        "colab": {
          "base_uri": "https://localhost:8080/"
        },
        "id": "cDCiuHYhGMtF",
        "outputId": "722e41a2-0071-42b0-e3cd-4a93c7a70556"
      },
      "source": [
        "tf.stack([x, y, z], axis=1).numpy()"
      ],
      "execution_count": 51,
      "outputs": [
        {
          "output_type": "execute_result",
          "data": {
            "text/plain": [
              "array([[1, 2, 3],\n",
              "       [4, 5, 6]], dtype=int32)"
            ]
          },
          "metadata": {
            "tags": []
          },
          "execution_count": 51
        }
      ]
    },
    {
      "cell_type": "code",
      "metadata": {
        "colab": {
          "base_uri": "https://localhost:8080/"
        },
        "id": "esgcqFcJGMxr",
        "outputId": "ea47becb-5718-4967-863c-0c0e3ec3b580"
      },
      "source": [
        "x = [[0, 1, 2],\n",
        "     [2, 1, 0]]\n",
        "\n",
        "tf.ones_like(x).numpy()"
      ],
      "execution_count": 52,
      "outputs": [
        {
          "output_type": "execute_result",
          "data": {
            "text/plain": [
              "array([[1, 1, 1],\n",
              "       [1, 1, 1]], dtype=int32)"
            ]
          },
          "metadata": {
            "tags": []
          },
          "execution_count": 52
        }
      ]
    },
    {
      "cell_type": "code",
      "metadata": {
        "colab": {
          "base_uri": "https://localhost:8080/"
        },
        "id": "9TlVIg_-GQod",
        "outputId": "eeae59e5-114f-4dac-d28c-eb5336c1251c"
      },
      "source": [
        "tf.zeros_like(x).numpy()"
      ],
      "execution_count": 53,
      "outputs": [
        {
          "output_type": "execute_result",
          "data": {
            "text/plain": [
              "array([[0, 0, 0],\n",
              "       [0, 0, 0]], dtype=int32)"
            ]
          },
          "metadata": {
            "tags": []
          },
          "execution_count": 53
        }
      ]
    },
    {
      "cell_type": "code",
      "metadata": {
        "colab": {
          "base_uri": "https://localhost:8080/"
        },
        "id": "-kO7ZLNNGQrJ",
        "outputId": "341b6bc5-ad84-473f-b2fe-6f68a02b7503"
      },
      "source": [
        "for x, y in zip([1, 2, 3], [4, 5, 6]):\n",
        "    print(x, y)"
      ],
      "execution_count": 54,
      "outputs": [
        {
          "output_type": "stream",
          "text": [
            "1 4\n",
            "2 5\n",
            "3 6\n"
          ],
          "name": "stdout"
        }
      ]
    },
    {
      "cell_type": "code",
      "metadata": {
        "colab": {
          "base_uri": "https://localhost:8080/"
        },
        "id": "70WCWGi8GQus",
        "outputId": "6b37b041-80e6-4ba5-b4db-031ed6d7c5fe"
      },
      "source": [
        "for x, y, z in zip([1, 2, 3], [4, 5, 6], [7, 8, 9]):\n",
        "    print(x, y, z)"
      ],
      "execution_count": 55,
      "outputs": [
        {
          "output_type": "stream",
          "text": [
            "1 4 7\n",
            "2 5 8\n",
            "3 6 9\n"
          ],
          "name": "stdout"
        }
      ]
    },
    {
      "cell_type": "code",
      "metadata": {
        "colab": {
          "base_uri": "https://localhost:8080/"
        },
        "id": "FmjklTE2GU-4",
        "outputId": "0c63e491-2e98-401d-94ea-2aa3ff494264"
      },
      "source": [
        "t = np.array([[[0, 1, 2], [3, 4, 5]], [[6, 7, 8], [9, 10, 11]]])\n",
        "pp.pprint(t.shape)\n",
        "pp.pprint(t)"
      ],
      "execution_count": 56,
      "outputs": [
        {
          "output_type": "stream",
          "text": [
            "(2, 2, 3)\n",
            "array([[[ 0,  1,  2],\n",
            "        [ 3,  4,  5]],\n",
            "\n",
            "       [[ 6,  7,  8],\n",
            "        [ 9, 10, 11]]])\n"
          ],
          "name": "stdout"
        }
      ]
    },
    {
      "cell_type": "code",
      "metadata": {
        "colab": {
          "base_uri": "https://localhost:8080/"
        },
        "id": "j_zJHiGNGVBb",
        "outputId": "b7422852-35b6-43a3-bff0-9f8b03ab51b1"
      },
      "source": [
        "t1 = tf.transpose(t, [0, 1, 2])\n",
        "pp.pprint(t1.shape)\n",
        "pp.pprint(t1)"
      ],
      "execution_count": 57,
      "outputs": [
        {
          "output_type": "stream",
          "text": [
            "TensorShape([2, 2, 3])\n",
            "<tf.Tensor: shape=(2, 2, 3), dtype=int64, numpy=\n",
            "array([[[ 0,  1,  2],\n",
            "        [ 3,  4,  5]],\n",
            "\n",
            "       [[ 6,  7,  8],\n",
            "        [ 9, 10, 11]]])>\n"
          ],
          "name": "stdout"
        }
      ]
    },
    {
      "cell_type": "code",
      "metadata": {
        "colab": {
          "base_uri": "https://localhost:8080/"
        },
        "id": "3dYhK2gXGVEJ",
        "outputId": "22405f5e-6e97-4ee2-bd09-a84fd2388880"
      },
      "source": [
        "t1 = tf.transpose(t, [0, 2, 1])\n",
        "pp.pprint(t1.shape)\n",
        "pp.pprint(t1)"
      ],
      "execution_count": 58,
      "outputs": [
        {
          "output_type": "stream",
          "text": [
            "TensorShape([2, 3, 2])\n",
            "<tf.Tensor: shape=(2, 3, 2), dtype=int64, numpy=\n",
            "array([[[ 0,  3],\n",
            "        [ 1,  4],\n",
            "        [ 2,  5]],\n",
            "\n",
            "       [[ 6,  9],\n",
            "        [ 7, 10],\n",
            "        [ 8, 11]]])>\n"
          ],
          "name": "stdout"
        }
      ]
    },
    {
      "cell_type": "code",
      "metadata": {
        "colab": {
          "base_uri": "https://localhost:8080/"
        },
        "id": "wpDpQTZMGYir",
        "outputId": "cf6de27e-199d-4c59-cedb-c16dd1406b34"
      },
      "source": [
        "t1 = tf.transpose(t, [1, 0, 2])\n",
        "pp.pprint(t1.shape)\n",
        "pp.pprint(t1)"
      ],
      "execution_count": 59,
      "outputs": [
        {
          "output_type": "stream",
          "text": [
            "TensorShape([2, 2, 3])\n",
            "<tf.Tensor: shape=(2, 2, 3), dtype=int64, numpy=\n",
            "array([[[ 0,  1,  2],\n",
            "        [ 6,  7,  8]],\n",
            "\n",
            "       [[ 3,  4,  5],\n",
            "        [ 9, 10, 11]]])>\n"
          ],
          "name": "stdout"
        }
      ]
    },
    {
      "cell_type": "code",
      "metadata": {
        "colab": {
          "base_uri": "https://localhost:8080/"
        },
        "id": "IXr05dOUGYlJ",
        "outputId": "98d84e39-a91e-4731-ea90-352de9a91de4"
      },
      "source": [
        "t1 = tf.transpose(t, [1, 2, 0])\n",
        "pp.pprint(t1.shape)\n",
        "pp.pprint(t1)"
      ],
      "execution_count": 60,
      "outputs": [
        {
          "output_type": "stream",
          "text": [
            "TensorShape([2, 3, 2])\n",
            "<tf.Tensor: shape=(2, 3, 2), dtype=int64, numpy=\n",
            "array([[[ 0,  6],\n",
            "        [ 1,  7],\n",
            "        [ 2,  8]],\n",
            "\n",
            "       [[ 3,  9],\n",
            "        [ 4, 10],\n",
            "        [ 5, 11]]])>\n"
          ],
          "name": "stdout"
        }
      ]
    },
    {
      "cell_type": "code",
      "metadata": {
        "colab": {
          "base_uri": "https://localhost:8080/"
        },
        "id": "s3CYY35CGYoI",
        "outputId": "c5ae1a5b-1958-4031-d08d-7a62fed66c07"
      },
      "source": [
        "t1 = tf.transpose(t, [2, 0, 1])\n",
        "pp.pprint(t1.shape)\n",
        "pp.pprint(t1)"
      ],
      "execution_count": 61,
      "outputs": [
        {
          "output_type": "stream",
          "text": [
            "TensorShape([3, 2, 2])\n",
            "<tf.Tensor: shape=(3, 2, 2), dtype=int64, numpy=\n",
            "array([[[ 0,  3],\n",
            "        [ 6,  9]],\n",
            "\n",
            "       [[ 1,  4],\n",
            "        [ 7, 10]],\n",
            "\n",
            "       [[ 2,  5],\n",
            "        [ 8, 11]]])>\n"
          ],
          "name": "stdout"
        }
      ]
    },
    {
      "cell_type": "code",
      "metadata": {
        "colab": {
          "base_uri": "https://localhost:8080/"
        },
        "id": "UZdxwHSkGcId",
        "outputId": "b87674c7-314c-401c-96f5-ccff0c7c5e0e"
      },
      "source": [
        "t1 = tf.transpose(t, [2, 1, 0])\n",
        "pp.pprint(t1.shape)\n",
        "pp.pprint(t1)"
      ],
      "execution_count": 62,
      "outputs": [
        {
          "output_type": "stream",
          "text": [
            "TensorShape([3, 2, 2])\n",
            "<tf.Tensor: shape=(3, 2, 2), dtype=int64, numpy=\n",
            "array([[[ 0,  6],\n",
            "        [ 3,  9]],\n",
            "\n",
            "       [[ 1,  7],\n",
            "        [ 4, 10]],\n",
            "\n",
            "       [[ 2,  8],\n",
            "        [ 5, 11]]])>\n"
          ],
          "name": "stdout"
        }
      ]
    }
  ]
}