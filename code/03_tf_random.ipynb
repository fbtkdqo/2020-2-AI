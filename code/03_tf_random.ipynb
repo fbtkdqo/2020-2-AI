{
  "nbformat": 4,
  "nbformat_minor": 0,
  "metadata": {
    "colab": {
      "name": "Untitled8.ipynb",
      "provenance": [],
      "authorship_tag": "ABX9TyPdSS7bPwfjfKl5Ox+BHuSh",
      "include_colab_link": true
    },
    "kernelspec": {
      "name": "python3",
      "display_name": "Python 3"
    }
  },
  "cells": [
    {
      "cell_type": "markdown",
      "metadata": {
        "id": "view-in-github",
        "colab_type": "text"
      },
      "source": [
        "<a href=\"https://colab.research.google.com/github/fbtkdqo/2020-2-AI/blob/master/code/03_tf_random.ipynb\" target=\"_parent\"><img src=\"https://colab.research.google.com/assets/colab-badge.svg\" alt=\"Open In Colab\"/></a>"
      ]
    },
    {
      "cell_type": "code",
      "metadata": {
        "id": "C329gijrgdcP",
        "outputId": "c8bcc991-ec1f-400f-ee34-8d5dc720b23b",
        "colab": {
          "base_uri": "https://localhost:8080/",
          "height": 35
        }
      },
      "source": [
        "import tensorflow as tf\n",
        "tf.__version__"
      ],
      "execution_count": 1,
      "outputs": [
        {
          "output_type": "execute_result",
          "data": {
            "application/vnd.google.colaboratory.intrinsic+json": {
              "type": "string"
            },
            "text/plain": [
              "'2.3.0'"
            ]
          },
          "metadata": {
            "tags": []
          },
          "execution_count": 1
        }
      ]
    },
    {
      "cell_type": "code",
      "metadata": {
        "id": "6qcpeHWQgkDj",
        "outputId": "55106af2-ce36-4650-ae1b-9a92903daafe",
        "colab": {
          "base_uri": "https://localhost:8080/",
          "height": 35
        }
      },
      "source": [
        "rand = tf.random.uniform([1], 0, 1)\n",
        "print(rand)"
      ],
      "execution_count": 2,
      "outputs": [
        {
          "output_type": "stream",
          "text": [
            "tf.Tensor([0.02795398], shape=(1,), dtype=float32)\n"
          ],
          "name": "stdout"
        }
      ]
    },
    {
      "cell_type": "code",
      "metadata": {
        "id": "EY2VCroHgnMp",
        "outputId": "2ef07e4d-64cb-4b59-cbf2-13182a08c88c",
        "colab": {
          "base_uri": "https://localhost:8080/",
          "height": 124
        }
      },
      "source": [
        "rand = tf.random.uniform([5,4],0,1)\n",
        "print(rand)"
      ],
      "execution_count": 3,
      "outputs": [
        {
          "output_type": "stream",
          "text": [
            "tf.Tensor(\n",
            "[[0.93310106 0.08058739 0.6019194  0.9941119 ]\n",
            " [0.07927585 0.6312591  0.0761621  0.86549866]\n",
            " [0.4671278  0.30221808 0.5693586  0.69641984]\n",
            " [0.98384583 0.6717315  0.95763445 0.40234196]\n",
            " [0.6043521  0.5621952  0.25337172 0.77223027]], shape=(5, 4), dtype=float32)\n"
          ],
          "name": "stdout"
        }
      ]
    },
    {
      "cell_type": "code",
      "metadata": {
        "id": "a63V-2oggpoy",
        "outputId": "ba2ec057-1bd4-447b-c7bb-8df1edaf86b2",
        "colab": {
          "base_uri": "https://localhost:8080/",
          "height": 70
        }
      },
      "source": [
        "rand = tf.random.uniform([1000],0,100)\n",
        "print(rand[:10])"
      ],
      "execution_count": 4,
      "outputs": [
        {
          "output_type": "stream",
          "text": [
            "tf.Tensor(\n",
            "[21.581577  48.83158    1.7717838 35.161674  78.62623   68.58828\n",
            " 46.091057  67.467026  81.8492    72.67574  ], shape=(10,), dtype=float32)\n"
          ],
          "name": "stdout"
        }
      ]
    },
    {
      "cell_type": "code",
      "metadata": {
        "id": "T1ovQCxsgqfp",
        "outputId": "7e7824d0-4209-4f7f-e7fd-8b0b727b683d",
        "colab": {
          "base_uri": "https://localhost:8080/",
          "height": 354
        }
      },
      "source": [
        "import matplotlib.pyplot as plt\n",
        "rand = tf.random.uniform([1000],0,50)\n",
        "plt.hist(rand, bins =10)"
      ],
      "execution_count": 5,
      "outputs": [
        {
          "output_type": "execute_result",
          "data": {
            "text/plain": [
              "(array([ 98.,  99.,  95., 113.,  99.,  96., 104., 108.,  77., 111.]),\n",
              " array([2.8991699e-02, 5.0259972e+00, 1.0023003e+01, 1.5020008e+01,\n",
              "        2.0017014e+01, 2.5014019e+01, 3.0011024e+01, 3.5008030e+01,\n",
              "        4.0005035e+01, 4.5002041e+01, 4.9999046e+01], dtype=float32),\n",
              " <a list of 10 Patch objects>)"
            ]
          },
          "metadata": {
            "tags": []
          },
          "execution_count": 5
        },
        {
          "output_type": "display_data",
          "data": {
            "image/png": "[encoded data removed]",
            "text/plain": [
              "<Figure size 432x288 with 1 Axes>"
            ]
          },
          "metadata": {
            "tags": [],
            "needs_background": "light"
          }
        }
      ]
    },
    {
      "cell_type": "code",
      "metadata": {
        "id": "tKmFjyWhgsgI",
        "outputId": "9b9818b9-3ef9-4001-b02e-81c671b7db2e",
        "colab": {
          "base_uri": "https://localhost:8080/",
          "height": 35
        }
      },
      "source": [
        "rand = tf.random.normal([4],0,1)\n",
        "print(rand)"
      ],
      "execution_count": 6,
      "outputs": [
        {
          "output_type": "stream",
          "text": [
            "tf.Tensor([ 0.45953372 -0.2770294  -1.0137868  -1.50223   ], shape=(4,), dtype=float32)\n"
          ],
          "name": "stdout"
        }
      ]
    },
    {
      "cell_type": "code",
      "metadata": {
        "id": "MQ9Fsn5OgtoP",
        "outputId": "69f3116a-9522-4736-a763-f63794028537",
        "colab": {
          "base_uri": "https://localhost:8080/",
          "height": 70
        }
      },
      "source": [
        "rand = tf.random.normal([2, 4],0,2)\n",
        "print(rand)"
      ],
      "execution_count": 7,
      "outputs": [
        {
          "output_type": "stream",
          "text": [
            "tf.Tensor(\n",
            "[[-1.1119789  -1.3216962   2.8590672  -0.32913625]\n",
            " [ 1.3818614   0.78401417  2.9046924  -4.141245  ]], shape=(2, 4), dtype=float32)\n"
          ],
          "name": "stdout"
        }
      ]
    },
    {
      "cell_type": "code",
      "metadata": {
        "id": "EU3y-rI_gvvk",
        "outputId": "92d904fa-8d9d-4e8a-9f71-6bff8eb7a1fb",
        "colab": {
          "base_uri": "https://localhost:8080/",
          "height": 354
        }
      },
      "source": [
        "import matplotlib.pyplot as plt\n",
        "rand = tf.random.normal([100], 0, 1)\n",
        "plt.hist(rand, bins =10)"
      ],
      "execution_count": 8,
      "outputs": [
        {
          "output_type": "execute_result",
          "data": {
            "text/plain": [
              "(array([ 2.,  5., 18.,  7., 21., 19., 11.,  9.,  5.,  3.]),\n",
              " array([-2.0896006 , -1.6284169 , -1.1672332 , -0.7060496 , -0.24486598,\n",
              "         0.21631765,  0.6775013 ,  1.138685  ,  1.5998685 ,  2.0610523 ,\n",
              "         2.5222359 ], dtype=float32),\n",
              " <a list of 10 Patch objects>)"
            ]
          },
          "metadata": {
            "tags": []
          },
          "execution_count": 8
        },
        {
          "output_type": "display_data",
          "data": {
            "image/png": "[encoded data removed]",
            "text/plain": [
              "<Figure size 432x288 with 1 Axes>"
            ]
          },
          "metadata": {
            "tags": [],
            "needs_background": "light"
          }
        }
      ]
    },
    {
      "cell_type": "code",
      "metadata": {
        "id": "_nUFyqqRgw-a",
        "outputId": "13f451dd-59f9-4abe-8332-1c831d854342",
        "colab": {
          "base_uri": "https://localhost:8080/",
          "height": 887
        }
      },
      "source": [
        "import matplotlib.pyplot as plt\n",
        "rand1 = tf.random.normal([1000],0,1)\n",
        "rand2 = tf.random.uniform([2000],0,1)\n",
        "plt.hist(rand1, bins =100)\n",
        "plt.hist(rand2, bins=100)"
      ],
      "execution_count": 9,
      "outputs": [
        {
          "output_type": "execute_result",
          "data": {
            "text/plain": [
              "(array([23., 17., 25., 11., 18., 18., 17., 17., 24., 20., 17., 21., 17.,\n",
              "        13., 18., 19., 16., 21., 16., 17., 12., 15., 28., 13., 18., 27.,\n",
              "        22., 30., 21., 13., 19., 17., 22., 15., 14., 13., 25., 17., 21.,\n",
              "        31., 17., 23., 20., 23., 16., 21., 22., 21., 16., 20., 22., 25.,\n",
              "        12., 17., 16., 26., 20., 19., 16., 19., 18., 25., 20., 26., 16.,\n",
              "        17., 19., 25., 15., 30., 17., 30., 27., 22., 24., 13., 20., 21.,\n",
              "        16., 23., 21., 22., 18., 20., 17., 20., 25., 14., 33., 28., 17.,\n",
              "        14., 28., 20., 21., 21., 16., 34., 19., 19.]),\n",
              " array([6.81996346e-04, 1.06698787e-02, 2.06577610e-02, 3.06456443e-02,\n",
              "        4.06335257e-02, 5.06214090e-02, 6.06092922e-02, 7.05971718e-02,\n",
              "        8.05850551e-02, 9.05729383e-02, 1.00560822e-01, 1.10548705e-01,\n",
              "        1.20536588e-01, 1.30524471e-01, 1.40512347e-01, 1.50500238e-01,\n",
              "        1.60488114e-01, 1.70475990e-01, 1.80463880e-01, 1.90451756e-01,\n",
              "        2.00439647e-01, 2.10427523e-01, 2.20415413e-01, 2.30403289e-01,\n",
              "        2.40391180e-01, 2.50379056e-01, 2.60366946e-01, 2.70354807e-01,\n",
              "        2.80342698e-01, 2.90330589e-01, 3.00318480e-01, 3.10306340e-01,\n",
              "        3.20294231e-01, 3.30282122e-01, 3.40269983e-01, 3.50257874e-01,\n",
              "        3.60245764e-01, 3.70233655e-01, 3.80221516e-01, 3.90209407e-01,\n",
              "        4.00197297e-01, 4.10185188e-01, 4.20173049e-01, 4.30160940e-01,\n",
              "        4.40148830e-01, 4.50136691e-01, 4.60124582e-01, 4.70112473e-01,\n",
              "        4.80100363e-01, 4.90088224e-01, 5.00076115e-01, 5.10064006e-01,\n",
              "        5.20051897e-01, 5.30039787e-01, 5.40027618e-01, 5.50015509e-01,\n",
              "        5.60003400e-01, 5.69991291e-01, 5.79979181e-01, 5.89967072e-01,\n",
              "        5.99954963e-01, 6.09942794e-01, 6.19930685e-01, 6.29918575e-01,\n",
              "        6.39906466e-01, 6.49894357e-01, 6.59882247e-01, 6.69870138e-01,\n",
              "        6.79857969e-01, 6.89845860e-01, 6.99833751e-01, 7.09821641e-01,\n",
              "        7.19809532e-01, 7.29797423e-01, 7.39785314e-01, 7.49773145e-01,\n",
              "        7.59761035e-01, 7.69748926e-01, 7.79736817e-01, 7.89724708e-01,\n",
              "        7.99712598e-01, 8.09700489e-01, 8.19688380e-01, 8.29676211e-01,\n",
              "        8.39664102e-01, 8.49651992e-01, 8.59639883e-01, 8.69627774e-01,\n",
              "        8.79615664e-01, 8.89603555e-01, 8.99591386e-01, 9.09579277e-01,\n",
              "        9.19567168e-01, 9.29555058e-01, 9.39542949e-01, 9.49530840e-01,\n",
              "        9.59518731e-01, 9.69506562e-01, 9.79494452e-01, 9.89482343e-01,\n",
              "        9.99470234e-01], dtype=float32),\n",
              " <a list of 100 Patch objects>)"
            ]
          },
          "metadata": {
            "tags": []
          },
          "execution_count": 9
        },
        {
          "output_type": "display_data",
          "data": {
            "image/png": "[encoded data removed]",
            "text/plain": [
              "<Figure size 432x288 with 1 Axes>"
            ]
          },
          "metadata": {
            "tags": [],
            "needs_background": "light"
          }
        }
      ]
    },
    {
      "cell_type": "code",
      "metadata": {
        "id": "yXcWBdEVgz6t",
        "outputId": "a93b9e93-cd68-41bf-d560-57fe80ce6f8c",
        "colab": {
          "base_uri": "https://localhost:8080/",
          "height": 996
        }
      },
      "source": [
        "import matplotlib.pyplot as plt\n",
        "rand1 = tf.random.normal([1000],0,1)\n",
        "rand2 = tf.random.uniform([2000],0,1)\n",
        "\n",
        "plt.rcParams[\"figure.figsize\"] = (12,6) # 가로 12인치, 세로 6인치\n",
        "fig, axes = plt.subplots(1,2, sharex = True, sharey = True) #1행에 2개를 그리겠다.\n",
        "axes[0].hist(rand1, bins=100)\n",
        "axes[1].hist(rand2, bins=100)"
      ],
      "execution_count": 10,
      "outputs": [
        {
          "output_type": "execute_result",
          "data": {
            "text/plain": [
              "(array([14., 20., 22., 19., 17., 26., 23., 23., 19., 30., 26., 24.,  7.,\n",
              "        24., 18., 23., 23., 18., 20., 20., 12., 31., 20., 24., 19., 19.,\n",
              "        14., 26., 24., 17., 23., 11., 13., 16., 20., 25., 11., 11., 16.,\n",
              "        24., 20., 15., 21., 19., 23., 20., 18., 14., 22., 28., 18., 22.,\n",
              "         9., 17., 18., 28., 12., 22., 24., 27., 21., 19., 20., 17., 24.,\n",
              "        18., 26., 18., 18., 17., 20., 18., 25., 17., 24., 21., 23., 19.,\n",
              "        16., 20., 21., 22., 16., 18., 16., 20., 18., 26., 15., 19., 19.,\n",
              "        17., 19., 24., 22., 14., 35., 23., 25., 21.]),\n",
              " array([9.6440315e-05, 1.0094094e-02, 2.0091748e-02, 3.0089403e-02,\n",
              "        4.0087055e-02, 5.0084710e-02, 6.0082365e-02, 7.0080020e-02,\n",
              "        8.0077671e-02, 9.0075329e-02, 1.0007298e-01, 1.1007063e-01,\n",
              "        1.2006829e-01, 1.3006595e-01, 1.4006360e-01, 1.5006125e-01,\n",
              "        1.6005890e-01, 1.7005655e-01, 1.8005422e-01, 1.9005187e-01,\n",
              "        2.0004952e-01, 2.1004717e-01, 2.2004482e-01, 2.3004249e-01,\n",
              "        2.4004014e-01, 2.5003779e-01, 2.6003546e-01, 2.7003309e-01,\n",
              "        2.8003076e-01, 2.9002839e-01, 3.0002606e-01, 3.1002373e-01,\n",
              "        3.2002136e-01, 3.3001903e-01, 3.4001666e-01, 3.5001433e-01,\n",
              "        3.6001199e-01, 3.7000963e-01, 3.8000730e-01, 3.9000493e-01,\n",
              "        4.0000260e-01, 4.1000026e-01, 4.1999790e-01, 4.2999557e-01,\n",
              "        4.3999320e-01, 4.4999087e-01, 4.5998853e-01, 4.6998617e-01,\n",
              "        4.7998384e-01, 4.8998147e-01, 4.9997914e-01, 5.0997680e-01,\n",
              "        5.1997447e-01, 5.2997208e-01, 5.3996974e-01, 5.4996741e-01,\n",
              "        5.5996507e-01, 5.6996274e-01, 5.7996035e-01, 5.8995801e-01,\n",
              "        5.9995568e-01, 6.0995334e-01, 6.1995101e-01, 6.2994862e-01,\n",
              "        6.3994628e-01, 6.4994395e-01, 6.5994161e-01, 6.6993928e-01,\n",
              "        6.7993689e-01, 6.8993455e-01, 6.9993222e-01, 7.0992988e-01,\n",
              "        7.1992755e-01, 7.2992516e-01, 7.3992282e-01, 7.4992049e-01,\n",
              "        7.5991815e-01, 7.6991582e-01, 7.7991343e-01, 7.8991109e-01,\n",
              "        7.9990876e-01, 8.0990642e-01, 8.1990409e-01, 8.2990170e-01,\n",
              "        8.3989936e-01, 8.4989703e-01, 8.5989469e-01, 8.6989236e-01,\n",
              "        8.7988997e-01, 8.8988763e-01, 8.9988530e-01, 9.0988296e-01,\n",
              "        9.1988063e-01, 9.2987823e-01, 9.3987590e-01, 9.4987357e-01,\n",
              "        9.5987123e-01, 9.6986890e-01, 9.7986650e-01, 9.8986417e-01,\n",
              "        9.9986184e-01], dtype=float32),\n",
              " <a list of 100 Patch objects>)"
            ]
          },
          "metadata": {
            "tags": []
          },
          "execution_count": 10
        },
        {
          "output_type": "display_data",
          "data": {
            "image/png": "[encoded data removed]",
            "text/plain": [
              "<Figure size 864x432 with 2 Axes>"
            ]
          },
          "metadata": {
            "tags": [],
            "needs_background": "light"
          }
        }
      ]
    },
    {
      "cell_type": "code",
      "metadata": {
        "id": "9UskDRqIg1PX",
        "outputId": "77e6b724-c697-40f3-e287-088f0f80c970",
        "colab": {
          "base_uri": "https://localhost:8080/",
          "height": 52
        }
      },
      "source": [
        "import numpy as np\n",
        "a = np.arange(10)\n",
        "print(a)\n",
        "tf.random.shuffle(a)"
      ],
      "execution_count": 11,
      "outputs": [
        {
          "output_type": "stream",
          "text": [
            "[0 1 2 3 4 5 6 7 8 9]\n"
          ],
          "name": "stdout"
        },
        {
          "output_type": "execute_result",
          "data": {
            "text/plain": [
              "<tf.Tensor: shape=(10,), dtype=int64, numpy=array([8, 1, 4, 6, 0, 2, 7, 5, 9, 3])>"
            ]
          },
          "metadata": {
            "tags": []
          },
          "execution_count": 11
        }
      ]
    },
    {
      "cell_type": "code",
      "metadata": {
        "id": "N2cJ_r-2g3Bz",
        "outputId": "3212b402-2196-44f4-81f8-9924304af0dd",
        "colab": {
          "base_uri": "https://localhost:8080/",
          "height": 88
        }
      },
      "source": [
        "import numpy as np\n",
        "a = np.arange(20).reshape(4, 5)\n",
        "a"
      ],
      "execution_count": 12,
      "outputs": [
        {
          "output_type": "execute_result",
          "data": {
            "text/plain": [
              "array([[ 0,  1,  2,  3,  4],\n",
              "       [ 5,  6,  7,  8,  9],\n",
              "       [10, 11, 12, 13, 14],\n",
              "       [15, 16, 17, 18, 19]])"
            ]
          },
          "metadata": {
            "tags": []
          },
          "execution_count": 12
        }
      ]
    },
    {
      "cell_type": "code",
      "metadata": {
        "id": "sf4pYJCbg4HH",
        "outputId": "789f64c0-fa27-432c-a4ae-4f4f0bec5dda",
        "colab": {
          "base_uri": "https://localhost:8080/",
          "height": 106
        }
      },
      "source": [
        "tf.random.shuffle(a)"
      ],
      "execution_count": 13,
      "outputs": [
        {
          "output_type": "execute_result",
          "data": {
            "text/plain": [
              "<tf.Tensor: shape=(4, 5), dtype=int64, numpy=\n",
              "array([[15, 16, 17, 18, 19],\n",
              "       [10, 11, 12, 13, 14],\n",
              "       [ 0,  1,  2,  3,  4],\n",
              "       [ 5,  6,  7,  8,  9]])>"
            ]
          },
          "metadata": {
            "tags": []
          },
          "execution_count": 13
        }
      ]
    },
    {
      "cell_type": "code",
      "metadata": {
        "id": "bTruC2lZg46z"
      },
      "source": [
        ""
      ],
      "execution_count": null,
      "outputs": []
    }
  ]
}