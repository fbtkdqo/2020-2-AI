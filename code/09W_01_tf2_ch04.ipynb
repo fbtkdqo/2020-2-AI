{
  "nbformat": 4,
  "nbformat_minor": 0,
  "metadata": {
    "colab": {
      "name": "09W-01-tf2-ch04.ipynb",
      "provenance": [],
      "collapsed_sections": [],
      "include_colab_link": true
    },
    "kernelspec": {
      "name": "python3",
      "display_name": "Python 3"
    }
  },
  "cells": [
    {
      "cell_type": "markdown",
      "metadata": {
        "id": "view-in-github",
        "colab_type": "text"
      },
      "source": [
        "<a href=\"https://colab.research.google.com/github/fbtkdqo/2020-2-AI/blob/master/code/09W_01_tf2_ch04.ipynb\" target=\"_parent\"><img src=\"https://colab.research.google.com/assets/colab-badge.svg\" alt=\"Open In Colab\"/></a>"
      ]
    },
    {
      "cell_type": "markdown",
      "metadata": {
        "id": "67IEUgtf8bsz"
      },
      "source": [
        "활성화 함수 tanh"
      ]
    },
    {
      "cell_type": "code",
      "metadata": {
        "id": "CdWn-X6i8eCn",
        "outputId": "0d5a8e24-c706-4e84-919f-1d47418d7015",
        "colab": {
          "base_uri": "https://localhost:8080/",
          "height": 374
        }
      },
      "source": [
        "# 그림 4.2 출력 코드\n",
        "import math\n",
        "import numpy as np\n",
        "import matplotlib.pyplot as plt\n",
        "\n",
        "def sigmoid(x):\n",
        "    return 1 / (1 + math.exp(-x))\n",
        "\n",
        "x = np.arange(-6, 6, 0.01)\n",
        "sigmoid_x = [sigmoid(z) for z in x]\n",
        "tanh_x = [math.tanh(z) for z in x]\n",
        "\n",
        "plt.figure(figsize=(8, 6)) \n",
        "\n",
        "plt.axhline(0, color='gray')\n",
        "plt.axvline(0, color='gray')\n",
        "plt.plot(x, sigmoid_x, 'b-', label='sigmoid')\n",
        "plt.plot(x, tanh_x, 'r--', label='tanh')\n",
        "plt.legend()\n",
        "plt.show()"
      ],
      "execution_count": 1,
      "outputs": [
        {
          "output_type": "display_data",
          "data": {
            "image/png": "[encoded data removed]",
            "text/plain": [
              "<Figure size 576x432 with 1 Axes>"
            ]
          },
          "metadata": {
            "tags": [],
            "needs_background": "light"
          }
        }
      ]
    },
    {
      "cell_type": "markdown",
      "metadata": {
        "id": "HqffE-Hv8i9C"
      },
      "source": [
        "인구증가율과 고령인구비율 회귀 분석"
      ]
    },
    {
      "cell_type": "code",
      "metadata": {
        "id": "5hCo5VuX8imS",
        "outputId": "561d1252-cb55-4690-ef3c-582730feace5",
        "colab": {
          "base_uri": "https://localhost:8080/"
        }
      },
      "source": [
        "# 4.7 딥러닝 네트워크를 이용한 회귀\n",
        "import tensorflow as tf\n",
        "import numpy as np\n",
        "\n",
        "# 인구증가율과 고령인구비율\n",
        "X = [0.3, -0.78, 1.26, 0.03, 1.11, 0.24, -0.24, -0.47, -0.77, -0.37, -0.85, -0.41, -0.27, 0.02, -0.76, 2.66]\n",
        "Y = [12.27, 14.44, 11.87, 18.75, 17.52, 16.37, 19.78, 19.51, 12.65, 14.74, 10.72, 21.94, 12.83, 15.51, 17.14, 14.42]\n",
        "\n",
        "model = tf.keras.Sequential([\n",
        "    tf.keras.layers.Dense(units=6, activation='tanh', input_shape=(1,)),\n",
        "    tf.keras.layers.Dense(units=1)\n",
        "])\n",
        "\n",
        "model.compile(optimizer=tf.keras.optimizers.SGD(lr=0.1), loss='mse')\n",
        "\n",
        "model.summary()"
      ],
      "execution_count": 2,
      "outputs": [
        {
          "output_type": "stream",
          "text": [
            "Model: \"sequential\"\n",
            "_________________________________________________________________\n",
            "Layer (type)                 Output Shape              Param #   \n",
            "=================================================================\n",
            "dense (Dense)                (None, 6)                 12        \n",
            "_________________________________________________________________\n",
            "dense_1 (Dense)              (None, 1)                 7         \n",
            "=================================================================\n",
            "Total params: 19\n",
            "Trainable params: 19\n",
            "Non-trainable params: 0\n",
            "_________________________________________________________________\n"
          ],
          "name": "stdout"
        }
      ]
    },
    {
      "cell_type": "code",
      "metadata": {
        "id": "LcA_CLSQ8njD",
        "outputId": "79b236ef-27c8-413a-e7b2-c7a091dd4f53",
        "colab": {
          "base_uri": "https://localhost:8080/"
        }
      },
      "source": [
        "# 4.8 딥러닝 네트워크의 학습\n",
        "model.fit(X, Y, epochs=10)"
      ],
      "execution_count": 3,
      "outputs": [
        {
          "output_type": "stream",
          "text": [
            "Epoch 1/10\n",
            "1/1 [==============================] - 0s 1ms/step - loss: 254.1226\n",
            "Epoch 2/10\n",
            "1/1 [==============================] - 0s 1ms/step - loss: 101.9375\n",
            "Epoch 3/10\n",
            "1/1 [==============================] - 0s 1ms/step - loss: 10.3184\n",
            "Epoch 4/10\n",
            "1/1 [==============================] - 0s 1ms/step - loss: 9.7777\n",
            "Epoch 5/10\n",
            "1/1 [==============================] - 0s 928us/step - loss: 9.7088\n",
            "Epoch 6/10\n",
            "1/1 [==============================] - 0s 1ms/step - loss: 9.6933\n",
            "Epoch 7/10\n",
            "1/1 [==============================] - 0s 1ms/step - loss: 9.6873\n",
            "Epoch 8/10\n",
            "1/1 [==============================] - 0s 1ms/step - loss: 9.6842\n",
            "Epoch 9/10\n",
            "1/1 [==============================] - 0s 1ms/step - loss: 9.6821\n",
            "Epoch 10/10\n",
            "1/1 [==============================] - 0s 1ms/step - loss: 9.6804\n"
          ],
          "name": "stdout"
        },
        {
          "output_type": "execute_result",
          "data": {
            "text/plain": [
              "<tensorflow.python.keras.callbacks.History at 0x7f9b95300cc0>"
            ]
          },
          "metadata": {
            "tags": []
          },
          "execution_count": 3
        }
      ]
    },
    {
      "cell_type": "code",
      "metadata": {
        "id": "YDv_nU4u8qAb",
        "outputId": "375834ef-b0e0-4498-b40c-c629ea2684c8",
        "colab": {
          "base_uri": "https://localhost:8080/"
        }
      },
      "source": [
        "# 4.9 딥러닝 네트워크의 Y값 예측\n",
        "model.predict(X)"
      ],
      "execution_count": 4,
      "outputs": [
        {
          "output_type": "execute_result",
          "data": {
            "text/plain": [
              "array([[15.628942],\n",
              "       [15.972114],\n",
              "       [15.117802],\n",
              "       [15.744783],\n",
              "       [15.203105],\n",
              "       [15.656284],\n",
              "       [15.840519],\n",
              "       [15.905758],\n",
              "       [15.97032 ],\n",
              "       [15.879186],\n",
              "       [15.984083],\n",
              "       [15.890138],\n",
              "       [15.849865],\n",
              "       [15.7487  ],\n",
              "       [15.968506],\n",
              "       [14.133826]], dtype=float32)"
            ]
          },
          "metadata": {
            "tags": []
          },
          "execution_count": 4
        }
      ]
    },
    {
      "cell_type": "code",
      "metadata": {
        "id": "76Kzcqcj8rnL",
        "outputId": "70e72d55-07eb-4889-ef4d-6085fe74bfcf",
        "colab": {
          "base_uri": "https://localhost:8080/",
          "height": 279
        }
      },
      "source": [
        "# 4.10 딥러닝 네트워크의 회귀선 확인\n",
        "import matplotlib.pyplot as plt\n",
        "\n",
        "line_x = np.arange(min(X), max(X), 0.01)\n",
        "line_y = model.predict(line_x)\n",
        "\n",
        "plt.plot(line_x, line_y, 'r-')\n",
        "plt.plot(X, Y, 'bo')\n",
        "\n",
        "plt.xlabel('Population Growth Rate (%)')\n",
        "plt.ylabel('Elderly Population Rate (%)')\n",
        "plt.show()"
      ],
      "execution_count": 5,
      "outputs": [
        {
          "output_type": "display_data",
          "data": {
            "image/png": "[encoded data removed]",
            "text/plain": [
              "<Figure size 432x288 with 1 Axes>"
            ]
          },
          "metadata": {
            "tags": [],
            "needs_background": "light"
          }
        }
      ]
    },
    {
      "cell_type": "code",
      "metadata": {
        "id": "MsnKjPef8tC3",
        "outputId": "0e0c5110-5483-4f5b-991e-87fce1534f52",
        "colab": {
          "base_uri": "https://localhost:8080/"
        }
      },
      "source": [
        "# 4.7 딥러닝 네트워크를 이용한 회귀\n",
        "import tensorflow as tf\n",
        "import numpy as np\n",
        "\n",
        "# 인구증가율과 고령인구비율\n",
        "X = [0.3, -0.78, 1.26, 0.03, 1.11, 0.24, -0.24, -0.47, -0.77, -0.37, -0.85, -0.41, -0.27, 0.02, -0.76, 2.66]\n",
        "Y = [12.27, 14.44, 11.87, 18.75, 17.52, 16.37, 19.78, 19.51, 12.65, 14.74, 10.72, 21.94, 12.83, 15.51, 17.14, 14.42]\n",
        "\n",
        "model = tf.keras.Sequential([\n",
        "    tf.keras.layers.Dense(units=6, activation='tanh', input_shape=(1,)),\n",
        "    tf.keras.layers.Dense(units=1)\n",
        "])\n",
        "\n",
        "model.compile(optimizer=tf.keras.optimizers.SGD(lr=0.1), loss='mse')\n",
        "\n",
        "model.summary()\n",
        "\n",
        "# 4.8 딥러닝 네트워크의 학습\n",
        "model.fit(X, Y, epochs=10)\n",
        "\n",
        "# 4.9 딥러닝 네트워크의 Y값 예측\n",
        "model.predict(X)"
      ],
      "execution_count": 6,
      "outputs": [
        {
          "output_type": "stream",
          "text": [
            "Model: \"sequential_1\"\n",
            "_________________________________________________________________\n",
            "Layer (type)                 Output Shape              Param #   \n",
            "=================================================================\n",
            "dense_2 (Dense)              (None, 6)                 12        \n",
            "_________________________________________________________________\n",
            "dense_3 (Dense)              (None, 1)                 7         \n",
            "=================================================================\n",
            "Total params: 19\n",
            "Trainable params: 19\n",
            "Non-trainable params: 0\n",
            "_________________________________________________________________\n",
            "Epoch 1/10\n",
            "1/1 [==============================] - 0s 2ms/step - loss: 254.4445\n",
            "Epoch 2/10\n",
            "1/1 [==============================] - 0s 1ms/step - loss: 133.5649\n",
            "Epoch 3/10\n",
            "1/1 [==============================] - 0s 938us/step - loss: 17.4023\n",
            "Epoch 4/10\n",
            "1/1 [==============================] - 0s 1ms/step - loss: 9.8618\n",
            "Epoch 5/10\n",
            "1/1 [==============================] - 0s 1ms/step - loss: 9.6245\n",
            "Epoch 6/10\n",
            "1/1 [==============================] - 0s 1ms/step - loss: 9.5764\n",
            "Epoch 7/10\n",
            "1/1 [==============================] - 0s 1ms/step - loss: 9.5502\n",
            "Epoch 8/10\n",
            "1/1 [==============================] - 0s 1ms/step - loss: 9.5329\n",
            "Epoch 9/10\n",
            "1/1 [==============================] - 0s 1ms/step - loss: 9.5176\n",
            "Epoch 10/10\n",
            "1/1 [==============================] - 0s 1ms/step - loss: 9.5016\n"
          ],
          "name": "stdout"
        },
        {
          "output_type": "execute_result",
          "data": {
            "text/plain": [
              "array([[15.946425],\n",
              "       [15.569228],\n",
              "       [15.595091],\n",
              "       [15.936025],\n",
              "       [15.687452],\n",
              "       [15.948619],\n",
              "       [15.871284],\n",
              "       [15.771051],\n",
              "       [15.576919],\n",
              "       [15.819812],\n",
              "       [15.51325 ],\n",
              "       [15.801268],\n",
              "       [15.860595],\n",
              "       [15.934616],\n",
              "       [15.584532],\n",
              "       [13.976859]], dtype=float32)"
            ]
          },
          "metadata": {
            "tags": []
          },
          "execution_count": 6
        }
      ]
    },
    {
      "cell_type": "markdown",
      "metadata": {
        "id": "AVqKFiSS8uLy"
      },
      "source": [
        "인구증가율과 고령인구비율 회귀 분석\n",
        " - 텐서플로만을 이용한 회귀 분석"
      ]
    },
    {
      "cell_type": "code",
      "metadata": {
        "id": "KVHvRGLm8zE8",
        "outputId": "e26a8281-e712-490f-acf7-ef7ba489252a",
        "colab": {
          "base_uri": "https://localhost:8080/"
        }
      },
      "source": [
        "# 4.4 텐서플로를 이용해서 회귀선 구하기\n",
        "import tensorflow as tf\n",
        "import numpy as np\n",
        "# import random\n",
        "\n",
        "X = [0.3, -0.78, 1.26, 0.03, 1.11, 0.24, -0.24, -0.47, -0.77, -0.37, -0.85, -0.41, -0.27, 0.02, -0.76, 2.66]\n",
        "Y = [12.27, 14.44, 11.87, 18.75, 17.52, 16.37, 19.78, 19.51, 12.65, 14.74, 10.72, 21.94, 12.83, 15.51, 17.14, 14.42]\n",
        "\n",
        "# a와 b를 랜덤한 값으로 초기화합니다.\n",
        "# a = tf.Variable(random.random())\n",
        "# b = tf.Variable(random.random())\n",
        "a = tf.Variable(tf.random.uniform([1], 0, 1))\n",
        "b = tf.Variable(tf.random.uniform([1], 0, 1))\n",
        "\n",
        "# 잔차의 제곱의 평균을 반환하는 함수입니다.\n",
        "def compute_loss():\n",
        "    y_pred = a * X + b\n",
        "    loss = tf.reduce_mean((Y - y_pred) ** 2)\n",
        "    return loss\n",
        "\n",
        "optimizer = tf.keras.optimizers.Adam(lr=0.07)\n",
        "for i in range(1000):\n",
        "    # 잔차의 제곱의 평균을 최소화(minimize)합니다.\n",
        "    optimizer.minimize(compute_loss, var_list=[a, b])\n",
        "    \n",
        "    if i % 100 == 99:\n",
        "        print(i, 'a:', a.numpy(), 'b:', b.numpy(), 'loss:', compute_loss().numpy())"
      ],
      "execution_count": 7,
      "outputs": [
        {
          "output_type": "stream",
          "text": [
            "99 a: [0.11000004] b: [6.890029] loss: 86.67792\n",
            "199 a: [-0.12598506] b: [11.342235] loss: 28.46102\n",
            "299 a: [-0.26192674] b: [13.901362] loss: 12.8992195\n",
            "399 a: [-0.3244781] b: [15.078989] loss: 10.128484\n",
            "499 a: [-0.34731984] b: [15.509024] loss: 9.806438\n",
            "599 a: [-0.35396254] b: [15.634085] loss: 9.782042\n",
            "699 a: [-0.3555037] b: [15.663103] loss: 9.780842\n",
            "799 a: [-0.3557878] b: [15.668448] loss: 9.780804\n",
            "899 a: [-0.3558289] b: [15.669224] loss: 9.780805\n",
            "999 a: [-0.35583332] b: [15.669302] loss: 9.780805\n"
          ],
          "name": "stdout"
        }
      ]
    },
    {
      "cell_type": "code",
      "metadata": {
        "id": "T5Ug1HoZ82RE",
        "outputId": "fad61656-3467-4bb3-b122-6f4e22c63afe",
        "colab": {
          "base_uri": "https://localhost:8080/",
          "height": 279
        }
      },
      "source": [
        "import matplotlib.pyplot as plt\n",
        "\n",
        "line_x = np.arange(min(X), max(X), 0.01)\n",
        "line_y = a * line_x + b\n",
        "\n",
        "# 그래프를 그립니다.\n",
        "plt.plot(line_x, line_y, 'r-')\n",
        "plt.plot(X, Y, 'bo')\n",
        "plt.xlabel('Population Growth Rate (%)')\n",
        "plt.ylabel('Elderly Population Rate (%)')\n",
        "plt.show()"
      ],
      "execution_count": 8,
      "outputs": [
        {
          "output_type": "display_data",
          "data": {
            "image/png": "[encoded data removed]",
            "text/plain": [
              "<Figure size 432x288 with 1 Axes>"
            ]
          },
          "metadata": {
            "tags": [],
            "needs_background": "light"
          }
        }
      ]
    },
    {
      "cell_type": "markdown",
      "metadata": {
        "id": "qR6JVvdQ9JNP"
      },
      "source": [
        "보스턴 주택 가격 데이터세트(Boston Housing Dataset)"
      ]
    },
    {
      "cell_type": "code",
      "metadata": {
        "id": "8sEQraEN9K_b",
        "outputId": "d92acdce-fdcd-4f77-ecd5-ec3e4bd80c64",
        "colab": {
          "base_uri": "https://localhost:8080/",
          "height": 374
        }
      },
      "source": [
        "# 활성화 함수\n",
        "import math\n",
        "def sigmoid(x):\n",
        "    return 1 / (1 + math.exp(-x))\n",
        "\n",
        "x = np.arange(-5, 5, 0.01)\n",
        "sigmoid_x = [sigmoid(z) for z in x]\n",
        "tanh_x = [math.tanh(z) for z in x]\n",
        "relu = [0 if z < 0 else z for z in x]\n",
        "\n",
        "plt.figure(figsize=(8, 6)) \n",
        "\n",
        "plt.axhline(0, color='gray')\n",
        "plt.axvline(0, color='gray')\n",
        "plt.plot(x, sigmoid_x, 'b-', label='sigmoid')\n",
        "plt.plot(x, tanh_x, 'r--', label='tanh')\n",
        "plt.plot(x, relu, 'g.', label='relu')\n",
        "plt.legend()\n",
        "plt.show()"
      ],
      "execution_count": 9,
      "outputs": [
        {
          "output_type": "display_data",
          "data": {
            "image/png": "[encoded data removed]",
            "text/plain": [
              "<Figure size 576x432 with 1 Axes>"
            ]
          },
          "metadata": {
            "tags": [],
            "needs_background": "light"
          }
        }
      ]
    },
    {
      "cell_type": "code",
      "metadata": {
        "id": "PN791kNC9Mez",
        "outputId": "ee71abf3-9310-4e18-8e2e-dd5fb2c70dc9",
        "colab": {
          "base_uri": "https://localhost:8080/"
        }
      },
      "source": [
        "# 4.11 데이터 불러오기\n",
        "from tensorflow.keras.datasets import boston_housing\n",
        "(train_X, train_Y), (test_X, test_Y) = boston_housing.load_data()\n",
        "\n",
        "print(train_X.shape, test_X.shape)\n",
        "print(train_X[0])\n",
        "print(train_Y[0])"
      ],
      "execution_count": 10,
      "outputs": [
        {
          "output_type": "stream",
          "text": [
            "Downloading data from https://storage.googleapis.com/tensorflow/tf-keras-datasets/boston_housing.npz\n",
            "57344/57026 [==============================] - 0s 0us/step\n",
            "(404, 13) (102, 13)\n",
            "[  1.23247   0.        8.14      0.        0.538     6.142    91.7\n",
            "   3.9769    4.      307.       21.      396.9      18.72   ]\n",
            "15.2\n"
          ],
          "name": "stdout"
        }
      ]
    },
    {
      "cell_type": "code",
      "metadata": {
        "id": "caUjnj1S9O8L",
        "outputId": "b0b05fec-70df-4e84-91ca-7ce756625559",
        "colab": {
          "base_uri": "https://localhost:8080/"
        }
      },
      "source": [
        "# 4.12 데이터 전처리(정규화)\n",
        "x_mean = train_X.mean(axis=0)\n",
        "x_std = train_X.std(axis=0)\n",
        "train_X -= x_mean\n",
        "train_X /= x_std\n",
        "test_X -= x_mean\n",
        "test_X /= x_std\n",
        "\n",
        "y_mean = train_Y.mean(axis=0)\n",
        "y_std = train_Y.std(axis=0)\n",
        "train_Y -= y_mean\n",
        "train_Y /= y_std\n",
        "test_Y -= y_mean\n",
        "test_Y /= y_std\n",
        "\n",
        "print(train_X[0])\n",
        "print(train_Y[0])"
      ],
      "execution_count": 11,
      "outputs": [
        {
          "output_type": "stream",
          "text": [
            "[-0.27224633 -0.48361547 -0.43576161 -0.25683275 -0.1652266  -0.1764426\n",
            "  0.81306188  0.1166983  -0.62624905 -0.59517003  1.14850044  0.44807713\n",
            "  0.8252202 ]\n",
            "-0.7821526033779157\n"
          ],
          "name": "stdout"
        }
      ]
    },
    {
      "cell_type": "code",
      "metadata": {
        "id": "55jathIc9TJ3",
        "outputId": "4a344302-209e-4410-a30f-ea828b434848",
        "colab": {
          "base_uri": "https://localhost:8080/"
        }
      },
      "source": [
        "# 4.13 Boston Housing Dataset 회귀 모델 생성\n",
        "model = tf.keras.models.Sequential([\n",
        "    tf.keras.layers.Dense(units=52, activation='relu', input_shape=(13,)),\n",
        "    tf.keras.layers.Dense(units=39, activation='relu'),\n",
        "    tf.keras.layers.Dense(units=26, activation='relu'),\n",
        "    tf.keras.layers.Dense(units=1)\n",
        "])\n",
        "\n",
        "model.compile(optimizer=tf.keras.optimizers.Adam(lr=0.07), loss='mse')\n",
        "\n",
        "model.summary()"
      ],
      "execution_count": 12,
      "outputs": [
        {
          "output_type": "stream",
          "text": [
            "Model: \"sequential_2\"\n",
            "_________________________________________________________________\n",
            "Layer (type)                 Output Shape              Param #   \n",
            "=================================================================\n",
            "dense_4 (Dense)              (None, 52)                728       \n",
            "_________________________________________________________________\n",
            "dense_5 (Dense)              (None, 39)                2067      \n",
            "_________________________________________________________________\n",
            "dense_6 (Dense)              (None, 26)                1040      \n",
            "_________________________________________________________________\n",
            "dense_7 (Dense)              (None, 1)                 27        \n",
            "=================================================================\n",
            "Total params: 3,862\n",
            "Trainable params: 3,862\n",
            "Non-trainable params: 0\n",
            "_________________________________________________________________\n"
          ],
          "name": "stdout"
        }
      ]
    },
    {
      "cell_type": "code",
      "metadata": {
        "id": "AFHLi4cj9Uwj",
        "outputId": "7446dc6c-44a4-4458-c71d-bbc21e2b27ca",
        "colab": {
          "base_uri": "https://localhost:8080/"
        }
      },
      "source": [
        "# 4.14 회귀 모델 학습\n",
        "history = model.fit(train_X, train_Y, epochs=25, batch_size=32, validation_split=0.25)"
      ],
      "execution_count": 13,
      "outputs": [
        {
          "output_type": "stream",
          "text": [
            "Epoch 1/25\n",
            "10/10 [==============================] - 0s 14ms/step - loss: 1.2111 - val_loss: 0.5532\n",
            "Epoch 2/25\n",
            "10/10 [==============================] - 0s 3ms/step - loss: 0.3363 - val_loss: 0.4327\n",
            "Epoch 3/25\n",
            "10/10 [==============================] - 0s 4ms/step - loss: 0.2955 - val_loss: 0.2537\n",
            "Epoch 4/25\n",
            "10/10 [==============================] - 0s 3ms/step - loss: 0.2519 - val_loss: 0.2084\n",
            "Epoch 5/25\n",
            "10/10 [==============================] - 0s 3ms/step - loss: 0.2079 - val_loss: 0.2484\n",
            "Epoch 6/25\n",
            "10/10 [==============================] - 0s 3ms/step - loss: 0.2211 - val_loss: 0.3154\n",
            "Epoch 7/25\n",
            "10/10 [==============================] - 0s 3ms/step - loss: 0.2089 - val_loss: 0.2701\n",
            "Epoch 8/25\n",
            "10/10 [==============================] - 0s 3ms/step - loss: 0.2172 - val_loss: 0.2966\n",
            "Epoch 9/25\n",
            "10/10 [==============================] - 0s 3ms/step - loss: 0.2142 - val_loss: 0.1688\n",
            "Epoch 10/25\n",
            "10/10 [==============================] - 0s 3ms/step - loss: 0.1540 - val_loss: 0.3403\n",
            "Epoch 11/25\n",
            "10/10 [==============================] - 0s 3ms/step - loss: 0.1431 - val_loss: 0.1790\n",
            "Epoch 12/25\n",
            "10/10 [==============================] - 0s 3ms/step - loss: 0.1815 - val_loss: 0.1241\n",
            "Epoch 13/25\n",
            "10/10 [==============================] - 0s 3ms/step - loss: 0.0983 - val_loss: 0.1763\n",
            "Epoch 14/25\n",
            "10/10 [==============================] - 0s 3ms/step - loss: 0.1312 - val_loss: 0.1276\n",
            "Epoch 15/25\n",
            "10/10 [==============================] - 0s 3ms/step - loss: 0.0791 - val_loss: 0.1750\n",
            "Epoch 16/25\n",
            "10/10 [==============================] - 0s 3ms/step - loss: 0.0859 - val_loss: 0.2097\n",
            "Epoch 17/25\n",
            "10/10 [==============================] - 0s 4ms/step - loss: 0.1589 - val_loss: 0.2138\n",
            "Epoch 18/25\n",
            "10/10 [==============================] - 0s 3ms/step - loss: 0.1212 - val_loss: 0.1741\n",
            "Epoch 19/25\n",
            "10/10 [==============================] - 0s 3ms/step - loss: 0.1100 - val_loss: 0.1428\n",
            "Epoch 20/25\n",
            "10/10 [==============================] - 0s 3ms/step - loss: 0.1815 - val_loss: 0.1962\n",
            "Epoch 21/25\n",
            "10/10 [==============================] - 0s 3ms/step - loss: 0.1798 - val_loss: 0.1918\n",
            "Epoch 22/25\n",
            "10/10 [==============================] - 0s 3ms/step - loss: 0.7718 - val_loss: 0.2644\n",
            "Epoch 23/25\n",
            "10/10 [==============================] - 0s 3ms/step - loss: 0.2013 - val_loss: 0.2984\n",
            "Epoch 24/25\n",
            "10/10 [==============================] - 0s 3ms/step - loss: 0.2071 - val_loss: 0.3156\n",
            "Epoch 25/25\n",
            "10/10 [==============================] - 0s 3ms/step - loss: 0.1994 - val_loss: 0.2226\n"
          ],
          "name": "stdout"
        }
      ]
    },
    {
      "cell_type": "code",
      "metadata": {
        "id": "oYEa7J7P9Vxr",
        "outputId": "b95a31cf-6ac2-46e7-8340-fc45d57629fd",
        "colab": {
          "base_uri": "https://localhost:8080/",
          "height": 279
        }
      },
      "source": [
        "# 4.15 회귀 모델 학습 결과 시각화\n",
        "import matplotlib.pyplot as plt\n",
        "plt.plot(history.history['loss'], 'b-', label='loss')\n",
        "plt.plot(history.history['val_loss'], 'r--', label='val_loss')\n",
        "plt.xlabel('Epoch')\n",
        "plt.legend()\n",
        "plt.show()"
      ],
      "execution_count": 14,
      "outputs": [
        {
          "output_type": "display_data",
          "data": {
            "image/png": "[encoded data removed]",
            "text/plain": [
              "<Figure size 432x288 with 1 Axes>"
            ]
          },
          "metadata": {
            "tags": [],
            "needs_background": "light"
          }
        }
      ]
    },
    {
      "cell_type": "code",
      "metadata": {
        "id": "YXcUVCxE9Xb-",
        "outputId": "6f594cd9-8226-41f0-fdfc-745cd9abf0de",
        "colab": {
          "base_uri": "https://localhost:8080/"
        }
      },
      "source": [
        "# 4.16 회귀 모델 평가\n",
        "model.evaluate(test_X, test_Y)"
      ],
      "execution_count": 15,
      "outputs": [
        {
          "output_type": "stream",
          "text": [
            "4/4 [==============================] - 0s 2ms/step - loss: 0.3251\n"
          ],
          "name": "stdout"
        },
        {
          "output_type": "execute_result",
          "data": {
            "text/plain": [
              "0.3251012861728668"
            ]
          },
          "metadata": {
            "tags": []
          },
          "execution_count": 15
        }
      ]
    },
    {
      "cell_type": "code",
      "metadata": {
        "id": "ioaqgyZg9ZBn",
        "outputId": "8b3cedd4-03cd-436a-bd0f-3c23f75b884d",
        "colab": {
          "base_uri": "https://localhost:8080/",
          "height": 502
        }
      },
      "source": [
        "# 4.17 실제 주택 가격과 예측 주택 가격 시각화\n",
        "import matplotlib.pyplot as plt\n",
        "\n",
        "pred_Y = model.predict(test_X)\n",
        "\n",
        "plt.figure(figsize=(8,8))\n",
        "plt.plot(test_Y, pred_Y, 'b.')\n",
        "plt.axis([min(test_Y), max(test_Y), min(test_Y), max(test_Y)])\n",
        "\n",
        "# y=x에 해당하는 대각선\n",
        "plt.plot([min(test_Y), max(test_Y)], [min(test_Y), max(test_Y)], ls=\"--\", c=\".5\")\n",
        "plt.xlabel('test_Y')\n",
        "plt.ylabel('pred_Y')\n",
        "\n",
        "plt.show()"
      ],
      "execution_count": 16,
      "outputs": [
        {
          "output_type": "display_data",
          "data": {
            "image/png": "[encoded data removed]",
            "text/plain": [
              "<Figure size 576x576 with 1 Axes>"
            ]
          },
          "metadata": {
            "tags": [],
            "needs_background": "light"
          }
        }
      ]
    },
    {
      "cell_type": "code",
      "metadata": {
        "id": "o2XEtVPY9c8H",
        "outputId": "333ab6bd-08b9-436d-8a9f-fb93f08a8b7f",
        "colab": {
          "base_uri": "https://localhost:8080/"
        }
      },
      "source": [
        "# 4.18 모델 재정의 및 학습\n",
        "model = tf.keras.Sequential([\n",
        "    tf.keras.layers.Dense(units=52, activation='relu', input_shape=(13,)),\n",
        "    tf.keras.layers.Dense(units=39, activation='relu'),\n",
        "    tf.keras.layers.Dense(units=26, activation='relu'),\n",
        "    tf.keras.layers.Dense(units=1)\n",
        "])\n",
        "\n",
        "model.compile(optimizer=tf.keras.optimizers.Adam(lr=0.07), loss='mse')\n",
        "\n",
        "history = model.fit(train_X, train_Y, epochs=25, batch_size=32, validation_split=0.25,\n",
        "                    callbacks=[tf.keras.callbacks.EarlyStopping(patience=3, monitor='val_loss')])"
      ],
      "execution_count": 17,
      "outputs": [
        {
          "output_type": "stream",
          "text": [
            "Epoch 1/25\n",
            "10/10 [==============================] - 0s 11ms/step - loss: 1.0535 - val_loss: 0.4140\n",
            "Epoch 2/25\n",
            "10/10 [==============================] - 0s 3ms/step - loss: 0.4039 - val_loss: 0.3288\n",
            "Epoch 3/25\n",
            "10/10 [==============================] - 0s 3ms/step - loss: 0.3336 - val_loss: 0.4818\n",
            "Epoch 4/25\n",
            "10/10 [==============================] - 0s 3ms/step - loss: 0.3260 - val_loss: 0.3194\n",
            "Epoch 5/25\n",
            "10/10 [==============================] - 0s 3ms/step - loss: 0.2487 - val_loss: 0.3316\n",
            "Epoch 6/25\n",
            "10/10 [==============================] - 0s 3ms/step - loss: 0.1917 - val_loss: 0.1736\n",
            "Epoch 7/25\n",
            "10/10 [==============================] - 0s 3ms/step - loss: 0.1808 - val_loss: 0.2812\n",
            "Epoch 8/25\n",
            "10/10 [==============================] - 0s 3ms/step - loss: 0.1546 - val_loss: 0.1507\n",
            "Epoch 9/25\n",
            "10/10 [==============================] - 0s 3ms/step - loss: 0.1482 - val_loss: 0.1450\n",
            "Epoch 10/25\n",
            "10/10 [==============================] - 0s 3ms/step - loss: 0.1290 - val_loss: 0.2740\n",
            "Epoch 11/25\n",
            "10/10 [==============================] - 0s 3ms/step - loss: 0.1770 - val_loss: 0.2337\n",
            "Epoch 12/25\n",
            "10/10 [==============================] - 0s 3ms/step - loss: 0.1642 - val_loss: 0.2169\n"
          ],
          "name": "stdout"
        }
      ]
    },
    {
      "cell_type": "code",
      "metadata": {
        "id": "me3_yvPF9emg",
        "outputId": "020abae4-dc67-4d6b-cdbe-d293202d455b",
        "colab": {
          "base_uri": "https://localhost:8080/",
          "height": 279
        }
      },
      "source": [
        "# 4.19 회귀 모델 학습 결과 시각화\n",
        "import matplotlib.pyplot as plt\n",
        "plt.plot(history.history['loss'], 'b-', label='loss')\n",
        "plt.plot(history.history['val_loss'], 'r--', label='val_loss')\n",
        "plt.xlabel('Epoch')\n",
        "plt.legend()\n",
        "plt.show()"
      ],
      "execution_count": 18,
      "outputs": [
        {
          "output_type": "display_data",
          "data": {
            "image/png": "[encoded data removed]",
            "text/plain": [
              "<Figure size 432x288 with 1 Axes>"
            ]
          },
          "metadata": {
            "tags": [],
            "needs_background": "light"
          }
        }
      ]
    },
    {
      "cell_type": "code",
      "metadata": {
        "id": "VDonWTCb9hNh",
        "outputId": "03eab148-5766-4158-f9d5-2c604efae426",
        "colab": {
          "base_uri": "https://localhost:8080/"
        }
      },
      "source": [
        "# 4.20 회귀 모델 평가\n",
        "model.evaluate(test_X, test_Y)"
      ],
      "execution_count": 19,
      "outputs": [
        {
          "output_type": "stream",
          "text": [
            "4/4 [==============================] - 0s 2ms/step - loss: 0.2143\n"
          ],
          "name": "stdout"
        },
        {
          "output_type": "execute_result",
          "data": {
            "text/plain": [
              "0.2142942100763321"
            ]
          },
          "metadata": {
            "tags": []
          },
          "execution_count": 19
        }
      ]
    },
    {
      "cell_type": "code",
      "metadata": {
        "id": "rHdKzDe49jYX",
        "outputId": "77fef5f5-51e6-47bc-825a-a36c451760ea",
        "colab": {
          "base_uri": "https://localhost:8080/",
          "height": 502
        }
      },
      "source": [
        "# 4.21 실제 주택 가격과 예측 주택 가격 시각화\n",
        "import matplotlib.pyplot as plt\n",
        "\n",
        "pred_Y = model.predict(test_X)\n",
        "\n",
        "plt.figure(figsize=(8,8))\n",
        "plt.plot(test_Y, pred_Y, 'b.')\n",
        "plt.axis([min(test_Y), max(test_Y), min(test_Y), max(test_Y)])\n",
        "\n",
        "plt.plot([min(test_Y), max(test_Y)], [min(test_Y), max(test_Y)], ls=\"--\", c=\".3\")\n",
        "plt.xlabel('test_Y')\n",
        "plt.ylabel('pred_Y')\n",
        "\n",
        "plt.show()"
      ],
      "execution_count": 20,
      "outputs": [
        {
          "output_type": "display_data",
          "data": {
            "image/png": "[encoded data removed]",
            "text/plain": [
              "<Figure size 576x576 with 1 Axes>"
            ]
          },
          "metadata": {
            "tags": [],
            "needs_background": "light"
          }
        }
      ]
    },
    {
      "cell_type": "code",
      "metadata": {
        "id": "8TxgiY-g9kuN",
        "outputId": "69fb63ae-bf41-499f-8fea-34ad4762e088",
        "colab": {
          "base_uri": "https://localhost:8080/"
        }
      },
      "source": [
        "# 모델 재정의 및 학습, dropout 사용\n",
        "model = tf.keras.Sequential([\n",
        "    tf.keras.layers.Dense(units=52, activation='relu', input_shape=(13,)),\n",
        "    tf.keras.layers.Dropout(.1),\n",
        "    tf.keras.layers.Dense(units=39, activation='relu'),\n",
        "    tf.keras.layers.Dense(units=26, activation='relu'),\n",
        "    tf.keras.layers.Dropout(.1),\n",
        "    tf.keras.layers.Dense(units=1)\n",
        "])\n",
        "\n",
        "model.compile(optimizer=tf.keras.optimizers.Adam(lr=0.07), loss='mse')\n",
        "\n",
        "history = model.fit(train_X, train_Y, epochs=25, batch_size=32, validation_split=0.25,\n",
        "                    callbacks=[tf.keras.callbacks.EarlyStopping(patience=4, monitor='val_loss')])"
      ],
      "execution_count": 21,
      "outputs": [
        {
          "output_type": "stream",
          "text": [
            "Epoch 1/25\n",
            "10/10 [==============================] - 0s 11ms/step - loss: 1.8489 - val_loss: 0.8446\n",
            "Epoch 2/25\n",
            "10/10 [==============================] - 0s 3ms/step - loss: 0.4311 - val_loss: 0.3871\n",
            "Epoch 3/25\n",
            "10/10 [==============================] - 0s 3ms/step - loss: 0.2999 - val_loss: 0.5018\n",
            "Epoch 4/25\n",
            "10/10 [==============================] - 0s 3ms/step - loss: 0.3040 - val_loss: 0.2655\n",
            "Epoch 5/25\n",
            "10/10 [==============================] - 0s 3ms/step - loss: 0.2461 - val_loss: 0.1864\n",
            "Epoch 6/25\n",
            "10/10 [==============================] - 0s 3ms/step - loss: 0.1817 - val_loss: 0.2580\n",
            "Epoch 7/25\n",
            "10/10 [==============================] - 0s 4ms/step - loss: 0.2372 - val_loss: 0.3442\n",
            "Epoch 8/25\n",
            "10/10 [==============================] - 0s 3ms/step - loss: 0.3386 - val_loss: 0.3006\n",
            "Epoch 9/25\n",
            "10/10 [==============================] - 0s 3ms/step - loss: 0.4278 - val_loss: 0.7425\n"
          ],
          "name": "stdout"
        }
      ]
    },
    {
      "cell_type": "code",
      "metadata": {
        "id": "kk9voik29mFq",
        "outputId": "e81d6d31-cc66-4938-faa1-7d20c4621ad2",
        "colab": {
          "base_uri": "https://localhost:8080/",
          "height": 279
        }
      },
      "source": [
        "# 4.19 회귀 모델 학습 결과 시각화\n",
        "import matplotlib.pyplot as plt\n",
        "plt.plot(history.history['loss'], 'b-', label='loss')\n",
        "plt.plot(history.history['val_loss'], 'r--', label='val_loss')\n",
        "plt.xlabel('Epoch')\n",
        "plt.legend()\n",
        "plt.show()"
      ],
      "execution_count": 22,
      "outputs": [
        {
          "output_type": "display_data",
          "data": {
            "image/png": "[encoded data removed]",
            "text/plain": [
              "<Figure size 432x288 with 1 Axes>"
            ]
          },
          "metadata": {
            "tags": [],
            "needs_background": "light"
          }
        }
      ]
    },
    {
      "cell_type": "code",
      "metadata": {
        "id": "MlDoZzXw9nx4",
        "outputId": "2ffc988e-9df4-4d8d-e12c-baf121ce2d26",
        "colab": {
          "base_uri": "https://localhost:8080/"
        }
      },
      "source": [
        "# 4.20 회귀 모델 평가\n",
        "model.evaluate(test_X, test_Y)"
      ],
      "execution_count": 23,
      "outputs": [
        {
          "output_type": "stream",
          "text": [
            "4/4 [==============================] - 0s 3ms/step - loss: 0.5549\n"
          ],
          "name": "stdout"
        },
        {
          "output_type": "execute_result",
          "data": {
            "text/plain": [
              "0.5549285411834717"
            ]
          },
          "metadata": {
            "tags": []
          },
          "execution_count": 23
        }
      ]
    },
    {
      "cell_type": "code",
      "metadata": {
        "id": "cISz9QgP9o1k",
        "outputId": "4e0708c4-b386-4523-abe5-09ebfd49fc6c",
        "colab": {
          "base_uri": "https://localhost:8080/",
          "height": 540
        }
      },
      "source": [
        "# 4.21 실제 주택 가격과 예측 주택 가격 시각화\n",
        "import matplotlib.pyplot as plt\n",
        "\n",
        "pred_Y = model.predict(test_X)\n",
        "\n",
        "plt.figure(figsize=(8,8))\n",
        "plt.plot(test_Y, pred_Y, 'b.')\n",
        "plt.axis([min(test_Y), max(test_Y), min(test_Y), max(test_Y)])\n",
        "\n",
        "plt.plot([min(test_Y), max(test_Y)], [min(test_Y), max(test_Y)], ls=\"--\", c=\".3\")\n",
        "plt.xlabel('test_Y')\n",
        "plt.ylabel('pred_Y')\n",
        "\n",
        "plt.show()"
      ],
      "execution_count": 24,
      "outputs": [
        {
          "output_type": "stream",
          "text": [
            "WARNING:tensorflow:5 out of the last 22 calls to <function Model.make_predict_function.<locals>.predict_function at 0x7f9b8e7be1e0> triggered tf.function retracing. Tracing is expensive and the excessive number of tracings could be due to (1) creating @tf.function repeatedly in a loop, (2) passing tensors with different shapes, (3) passing Python objects instead of tensors. For (1), please define your @tf.function outside of the loop. For (2), @tf.function has experimental_relax_shapes=True option that relaxes argument shapes that can avoid unnecessary retracing. For (3), please refer to https://www.tensorflow.org/tutorials/customization/performance#python_or_tensor_args and https://www.tensorflow.org/api_docs/python/tf/function for  more details.\n"
          ],
          "name": "stdout"
        },
        {
          "output_type": "display_data",
          "data": {
            "image/png": "[encoded data removed]",
            "text/plain": [
              "<Figure size 576x576 with 1 Axes>"
            ]
          },
          "metadata": {
            "tags": [],
            "needs_background": "light"
          }
        }
      ]
    }
  ]
}