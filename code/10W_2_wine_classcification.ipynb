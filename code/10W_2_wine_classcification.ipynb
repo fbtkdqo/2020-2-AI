{
  "nbformat": 4,
  "nbformat_minor": 0,
  "metadata": {
    "colab": {
      "name": "10W-2-wine-classcification.ipynb",
      "provenance": [],
      "collapsed_sections": [],
      "include_colab_link": true
    },
    "kernelspec": {
      "name": "python3",
      "display_name": "Python 3"
    }
  },
  "cells": [
    {
      "cell_type": "markdown",
      "metadata": {
        "id": "view-in-github",
        "colab_type": "text"
      },
      "source": [
        "<a href=\"https://colab.research.google.com/github/fbtkdqo/2020-2-AI/blob/master/code/10W_2_wine_classcification.ipynb\" target=\"_parent\"><img src=\"https://colab.research.google.com/assets/colab-badge.svg\" alt=\"Open In Colab\"/></a>"
      ]
    },
    {
      "cell_type": "markdown",
      "metadata": {
        "id": "UxZYhfpLENtB"
      },
      "source": [
        "5.1 이항 분류"
      ]
    },
    {
      "cell_type": "code",
      "metadata": {
        "id": "BMQ0nWzoEPn3"
      },
      "source": [
        "# 텐서플로 2 버전 선택\n",
        "try:\n",
        "    # %tensorflow_version only exists in Colab.\n",
        "    %tensorflow_version 2.x\n",
        "except Exception:\n",
        "    pass"
      ],
      "execution_count": 1,
      "outputs": []
    },
    {
      "cell_type": "code",
      "metadata": {
        "id": "w2fdguMaERPx",
        "colab": {
          "base_uri": "https://localhost:8080/"
        },
        "outputId": "2e9ba864-b70d-469a-e0e4-5c200ec9c673"
      },
      "source": [
        "# 5.1 와인 데이터셋 불러오기\n",
        "import pandas as pd\n",
        "red = pd.read_csv('http://archive.ics.uci.edu/ml/machine-learning-databases/wine-quality/winequality-red.csv', sep=';')\n",
        "white = pd.read_csv('http://archive.ics.uci.edu/ml/machine-learning-databases/wine-quality/winequality-white.csv', sep=';')\n",
        "print(red.head())\n",
        "print(white.head())"
      ],
      "execution_count": 2,
      "outputs": [
        {
          "output_type": "stream",
          "text": [
            "   fixed acidity  volatile acidity  citric acid  ...  sulphates  alcohol  quality\n",
            "0            7.4              0.70         0.00  ...       0.56      9.4        5\n",
            "1            7.8              0.88         0.00  ...       0.68      9.8        5\n",
            "2            7.8              0.76         0.04  ...       0.65      9.8        5\n",
            "3           11.2              0.28         0.56  ...       0.58      9.8        6\n",
            "4            7.4              0.70         0.00  ...       0.56      9.4        5\n",
            "\n",
            "[5 rows x 12 columns]\n",
            "   fixed acidity  volatile acidity  citric acid  ...  sulphates  alcohol  quality\n",
            "0            7.0              0.27         0.36  ...       0.45      8.8        6\n",
            "1            6.3              0.30         0.34  ...       0.49      9.5        6\n",
            "2            8.1              0.28         0.40  ...       0.44     10.1        6\n",
            "3            7.2              0.23         0.32  ...       0.40      9.9        6\n",
            "4            7.2              0.23         0.32  ...       0.40      9.9        6\n",
            "\n",
            "[5 rows x 12 columns]\n"
          ],
          "name": "stdout"
        }
      ]
    },
    {
      "cell_type": "code",
      "metadata": {
        "id": "7mxK3uCpEUa_",
        "colab": {
          "base_uri": "https://localhost:8080/"
        },
        "outputId": "37944133-1559-4fd1-a6db-21d76c6ad6b8"
      },
      "source": [
        "print(red.shape)\n",
        "print(white.shape)"
      ],
      "execution_count": 3,
      "outputs": [
        {
          "output_type": "stream",
          "text": [
            "(1599, 12)\n",
            "(4898, 12)\n"
          ],
          "name": "stdout"
        }
      ]
    },
    {
      "cell_type": "code",
      "metadata": {
        "id": "Ht0vMFqAEVsW",
        "colab": {
          "base_uri": "https://localhost:8080/"
        },
        "outputId": "15ea865c-b263-466f-afdd-c8a7f1232c70"
      },
      "source": [
        "# 5.2 와인 데이터셋 합치기\n",
        "red['type'] = 0\n",
        "white['type'] = 1\n",
        "print(red.head(2))\n",
        "print(white.head(2))\n",
        "\n",
        "wine = pd.concat([red, white])\n",
        "print(wine.describe())"
      ],
      "execution_count": 4,
      "outputs": [
        {
          "output_type": "stream",
          "text": [
            "   fixed acidity  volatile acidity  citric acid  ...  alcohol  quality  type\n",
            "0            7.4              0.70          0.0  ...      9.4        5     0\n",
            "1            7.8              0.88          0.0  ...      9.8        5     0\n",
            "\n",
            "[2 rows x 13 columns]\n",
            "   fixed acidity  volatile acidity  citric acid  ...  alcohol  quality  type\n",
            "0            7.0              0.27         0.36  ...      8.8        6     1\n",
            "1            6.3              0.30         0.34  ...      9.5        6     1\n",
            "\n",
            "[2 rows x 13 columns]\n",
            "       fixed acidity  volatile acidity  ...      quality         type\n",
            "count    6497.000000       6497.000000  ...  6497.000000  6497.000000\n",
            "mean        7.215307          0.339666  ...     5.818378     0.753886\n",
            "std         1.296434          0.164636  ...     0.873255     0.430779\n",
            "min         3.800000          0.080000  ...     3.000000     0.000000\n",
            "25%         6.400000          0.230000  ...     5.000000     1.000000\n",
            "50%         7.000000          0.290000  ...     6.000000     1.000000\n",
            "75%         7.700000          0.400000  ...     6.000000     1.000000\n",
            "max        15.900000          1.580000  ...     9.000000     1.000000\n",
            "\n",
            "[8 rows x 13 columns]\n"
          ],
          "name": "stdout"
        }
      ]
    },
    {
      "cell_type": "code",
      "metadata": {
        "id": "mtGQMxuUEXKK",
        "colab": {
          "base_uri": "https://localhost:8080/",
          "height": 318
        },
        "outputId": "7e68f37f-e99c-4be1-b4b4-39e1555f1548"
      },
      "source": [
        "# 5.3 레드 와인과 화이트 와인 type 히스토그램\n",
        "import matplotlib.pyplot as plt\n",
        "plt.hist(wine['type'])\n",
        "plt.xticks([0, 1])\n",
        "#plt.xticks([0, 1], ['red', 'white'])\n",
        "plt.show()\n",
        "\n",
        "print(wine['type'].value_counts())"
      ],
      "execution_count": 5,
      "outputs": [
        {
          "output_type": "display_data",
          "data": {
            "image/png": "[encoded data removed]",
            "text/plain": [
              "<Figure size 432x288 with 1 Axes>"
            ]
          },
          "metadata": {
            "tags": [],
            "needs_background": "light"
          }
        },
        {
          "output_type": "stream",
          "text": [
            "1    4898\n",
            "0    1599\n",
            "Name: type, dtype: int64\n"
          ],
          "name": "stdout"
        }
      ]
    },
    {
      "cell_type": "code",
      "metadata": {
        "id": "_MzOiiFHEYNs",
        "colab": {
          "base_uri": "https://localhost:8080/"
        },
        "outputId": "5745638c-831d-4e5b-d8aa-f723b52114c0"
      },
      "source": [
        "# 5.4 데이터 요약 정보 확인\n",
        "print(wine.info())"
      ],
      "execution_count": 6,
      "outputs": [
        {
          "output_type": "stream",
          "text": [
            "<class 'pandas.core.frame.DataFrame'>\n",
            "Int64Index: 6497 entries, 0 to 4897\n",
            "Data columns (total 13 columns):\n",
            " #   Column                Non-Null Count  Dtype  \n",
            "---  ------                --------------  -----  \n",
            " 0   fixed acidity         6497 non-null   float64\n",
            " 1   volatile acidity      6497 non-null   float64\n",
            " 2   citric acid           6497 non-null   float64\n",
            " 3   residual sugar        6497 non-null   float64\n",
            " 4   chlorides             6497 non-null   float64\n",
            " 5   free sulfur dioxide   6497 non-null   float64\n",
            " 6   total sulfur dioxide  6497 non-null   float64\n",
            " 7   density               6497 non-null   float64\n",
            " 8   pH                    6497 non-null   float64\n",
            " 9   sulphates             6497 non-null   float64\n",
            " 10  alcohol               6497 non-null   float64\n",
            " 11  quality               6497 non-null   int64  \n",
            " 12  type                  6497 non-null   int64  \n",
            "dtypes: float64(11), int64(2)\n",
            "memory usage: 710.6 KB\n",
            "None\n"
          ],
          "name": "stdout"
        }
      ]
    },
    {
      "cell_type": "code",
      "metadata": {
        "id": "Yjy1bCNCEZZ1",
        "colab": {
          "base_uri": "https://localhost:8080/"
        },
        "outputId": "59cd2bde-f738-407d-e461-2d3ead460ac7"
      },
      "source": [
        "# 5.5 데이터 정규화\n",
        "wine_norm = (wine - wine.min()) / (wine.max() - wine.min())\n",
        "print(wine_norm.head())\n",
        "print(wine_norm.describe())"
      ],
      "execution_count": 7,
      "outputs": [
        {
          "output_type": "stream",
          "text": [
            "   fixed acidity  volatile acidity  citric acid  ...   alcohol   quality  type\n",
            "0       0.297521          0.413333     0.000000  ...  0.202899  0.333333   0.0\n",
            "1       0.330579          0.533333     0.000000  ...  0.260870  0.333333   0.0\n",
            "2       0.330579          0.453333     0.024096  ...  0.260870  0.333333   0.0\n",
            "3       0.611570          0.133333     0.337349  ...  0.260870  0.500000   0.0\n",
            "4       0.297521          0.413333     0.000000  ...  0.202899  0.333333   0.0\n",
            "\n",
            "[5 rows x 13 columns]\n",
            "       fixed acidity  volatile acidity  ...      quality         type\n",
            "count    6497.000000       6497.000000  ...  6497.000000  6497.000000\n",
            "mean        0.282257          0.173111  ...     0.469730     0.753886\n",
            "std         0.107143          0.109758  ...     0.145543     0.430779\n",
            "min         0.000000          0.000000  ...     0.000000     0.000000\n",
            "25%         0.214876          0.100000  ...     0.333333     1.000000\n",
            "50%         0.264463          0.140000  ...     0.500000     1.000000\n",
            "75%         0.322314          0.213333  ...     0.500000     1.000000\n",
            "max         1.000000          1.000000  ...     1.000000     1.000000\n",
            "\n",
            "[8 rows x 13 columns]\n"
          ],
          "name": "stdout"
        }
      ]
    },
    {
      "cell_type": "code",
      "metadata": {
        "id": "QPZej58AEbPb",
        "colab": {
          "base_uri": "https://localhost:8080/"
        },
        "outputId": "4253922d-d16f-4792-8582-41735dd04af9"
      },
      "source": [
        "# 5.6 데이터 섞은 후 numpy array로 변환\n",
        "import numpy as np\n",
        "wine_shuffle = wine_norm.sample(frac=1)\n",
        "print(wine_shuffle.head())\n",
        "wine_np = wine_shuffle.to_numpy()\n",
        "print(wine_np[:5])"
      ],
      "execution_count": 8,
      "outputs": [
        {
          "output_type": "stream",
          "text": [
            "      fixed acidity  volatile acidity  citric acid  ...   alcohol   quality  type\n",
            "4076       0.297521          0.193333     0.156627  ...  0.347826  0.333333   1.0\n",
            "1344       0.289256          0.100000     0.222892  ...  0.608696  0.833333   1.0\n",
            "3361       0.214876          0.060000     0.162651  ...  0.275362  0.500000   1.0\n",
            "4100       0.206612          0.140000     0.138554  ...  0.376812  0.500000   1.0\n",
            "112        0.380165          0.346667     0.060241  ...  0.260870  0.333333   0.0\n",
            "\n",
            "[5 rows x 13 columns]\n",
            "[[0.29752066 0.19333333 0.15662651 0.13803681 0.06810631 0.11111111\n",
            "  0.29493088 0.17293233 0.31782946 0.13483146 0.34782609 0.33333333\n",
            "  1.        ]\n",
            " [0.2892562  0.1        0.22289157 0.01993865 0.05315615 0.17361111\n",
            "  0.36635945 0.07113939 0.41860465 0.1011236  0.60869565 0.83333333\n",
            "  1.        ]\n",
            " [0.21487603 0.06       0.1626506  0.14263804 0.06312292 0.08680556\n",
            "  0.21889401 0.17061885 0.48062016 0.15730337 0.27536232 0.5\n",
            "  1.        ]\n",
            " [0.20661157 0.14       0.13855422 0.20858896 0.04651163 0.07986111\n",
            "  0.21428571 0.15750916 0.27906977 0.08988764 0.37681159 0.5\n",
            "  1.        ]\n",
            " [0.38016529 0.34666667 0.06024096 0.02453988 0.12624585 0.04513889\n",
            "  0.24193548 0.1791016  0.33333333 0.24719101 0.26086957 0.33333333\n",
            "  0.        ]]\n"
          ],
          "name": "stdout"
        }
      ]
    },
    {
      "cell_type": "code",
      "metadata": {
        "id": "nIpYuZlaEdrO",
        "colab": {
          "base_uri": "https://localhost:8080/"
        },
        "outputId": "e0120bc8-9f4c-4345-ec00-f80bd18267c0"
      },
      "source": [
        "# 5.7 train 데이터와 test 데이터로 분리\n",
        "import tensorflow as tf\n",
        "train_idx = int(len(wine_np) * 0.8)\n",
        "train_X, train_Y = wine_np[:train_idx, :-1], wine_np[:train_idx, -1]\n",
        "test_X, test_Y = wine_np[train_idx:, :-1], wine_np[train_idx:, -1]\n",
        "print(train_X[0])\n",
        "print(train_Y[0])\n",
        "print(test_X[0])\n",
        "print(test_Y[0])\n",
        "train_Y = tf.keras.utils.to_categorical(train_Y, num_classes=2)\n",
        "test_Y = tf.keras.utils.to_categorical(test_Y, num_classes=2)\n",
        "print(train_Y[0])\n",
        "print(test_Y[0])"
      ],
      "execution_count": 9,
      "outputs": [
        {
          "output_type": "stream",
          "text": [
            "[0.29752066 0.19333333 0.15662651 0.13803681 0.06810631 0.11111111\n",
            " 0.29493088 0.17293233 0.31782946 0.13483146 0.34782609 0.33333333]\n",
            "1.0\n",
            "[0.33057851 0.24       0.1686747  0.03220859 0.15116279 0.05902778\n",
            " 0.20506912 0.18295739 0.3875969  0.25280899 0.20289855 0.33333333]\n",
            "0.0\n",
            "[0. 1.]\n",
            "[1. 0.]\n"
          ],
          "name": "stdout"
        }
      ]
    },
    {
      "cell_type": "code",
      "metadata": {
        "id": "3h8LJiQ0EfWz",
        "colab": {
          "base_uri": "https://localhost:8080/"
        },
        "outputId": "5f2c9c70-92c2-4497-d01d-d712f09ffd96"
      },
      "source": [
        "# 5.8 와인 데이터셋 분류 모델 생성\n",
        "import tensorflow as tf\n",
        "model = tf.keras.Sequential([\n",
        "    tf.keras.layers.Dense(units=48, activation='relu', input_shape=(12,)),\n",
        "    tf.keras.layers.Dense(units=24, activation='relu'),\n",
        "    tf.keras.layers.Dense(units=12, activation='relu'),\n",
        "    tf.keras.layers.Dense(units=2, activation='softmax')\n",
        "])\n",
        "\n",
        "model.compile(optimizer=tf.keras.optimizers.Adam(lr=0.07), loss='categorical_crossentropy', metrics=['accuracy'])\n",
        "\n",
        "model.summary()"
      ],
      "execution_count": 10,
      "outputs": [
        {
          "output_type": "stream",
          "text": [
            "Model: \"sequential\"\n",
            "_________________________________________________________________\n",
            "Layer (type)                 Output Shape              Param #   \n",
            "=================================================================\n",
            "dense (Dense)                (None, 48)                624       \n",
            "_________________________________________________________________\n",
            "dense_1 (Dense)              (None, 24)                1176      \n",
            "_________________________________________________________________\n",
            "dense_2 (Dense)              (None, 12)                300       \n",
            "_________________________________________________________________\n",
            "dense_3 (Dense)              (None, 2)                 26        \n",
            "=================================================================\n",
            "Total params: 2,126\n",
            "Trainable params: 2,126\n",
            "Non-trainable params: 0\n",
            "_________________________________________________________________\n"
          ],
          "name": "stdout"
        }
      ]
    },
    {
      "cell_type": "code",
      "metadata": {
        "id": "CjRsH_UkEguP",
        "colab": {
          "base_uri": "https://localhost:8080/",
          "height": 279
        },
        "outputId": "0214f2a0-e6e1-437b-c9ee-b2f35ff794aa"
      },
      "source": [
        "# 그림 5.5 출력 코드\n",
        "import matplotlib.pyplot as plt\n",
        "import math\n",
        "import numpy as np\n",
        "x = np.arange(-2, 2, 0.01)\n",
        "e_x = math.e ** x\n",
        "\n",
        "plt.axhline(0, color='gray')\n",
        "plt.axvline(0, color='gray')\n",
        "plt.plot(x, x, 'b-', label='y=x')\n",
        "plt.plot(x, e_x, 'g.', label='y=e^x')\n",
        "plt.xlabel('X')\n",
        "plt.ylabel('Y')\n",
        "plt.legend()\n",
        "plt.show()"
      ],
      "execution_count": 11,
      "outputs": [
        {
          "output_type": "display_data",
          "data": {
            "image/png": "[encoded data removed]",
            "text/plain": [
              "<Figure size 432x288 with 1 Axes>"
            ]
          },
          "metadata": {
            "tags": [],
            "needs_background": "light"
          }
        }
      ]
    },
    {
      "cell_type": "code",
      "metadata": {
        "id": "CWLejRkWEi-0",
        "colab": {
          "base_uri": "https://localhost:8080/"
        },
        "outputId": "eaf077e3-6c72-4fd5-bb78-49630d6f27fb"
      },
      "source": [
        "# 5.9 와인 데이터셋 분류 모델 학습\n",
        "history = model.fit(train_X, train_Y, epochs=25, batch_size=32, validation_split=0.25)"
      ],
      "execution_count": 12,
      "outputs": [
        {
          "output_type": "stream",
          "text": [
            "Epoch 1/25\n",
            "122/122 [==============================] - 0s 3ms/step - loss: 0.1430 - accuracy: 0.9461 - val_loss: 0.0386 - val_accuracy: 0.9892\n",
            "Epoch 2/25\n",
            "122/122 [==============================] - 0s 1ms/step - loss: 0.0775 - accuracy: 0.9784 - val_loss: 0.0303 - val_accuracy: 0.9900\n",
            "Epoch 3/25\n",
            "122/122 [==============================] - 0s 1ms/step - loss: 0.0506 - accuracy: 0.9864 - val_loss: 0.0227 - val_accuracy: 0.9915\n",
            "Epoch 4/25\n",
            "122/122 [==============================] - 0s 2ms/step - loss: 0.0484 - accuracy: 0.9892 - val_loss: 0.0480 - val_accuracy: 0.9846\n",
            "Epoch 5/25\n",
            "122/122 [==============================] - 0s 1ms/step - loss: 0.0580 - accuracy: 0.9841 - val_loss: 0.0311 - val_accuracy: 0.9885\n",
            "Epoch 6/25\n",
            "122/122 [==============================] - 0s 2ms/step - loss: 0.0533 - accuracy: 0.9882 - val_loss: 0.0267 - val_accuracy: 0.9923\n",
            "Epoch 7/25\n",
            "122/122 [==============================] - 0s 2ms/step - loss: 0.0439 - accuracy: 0.9882 - val_loss: 0.0466 - val_accuracy: 0.9831\n",
            "Epoch 8/25\n",
            "122/122 [==============================] - 0s 2ms/step - loss: 0.0497 - accuracy: 0.9879 - val_loss: 0.0312 - val_accuracy: 0.9931\n",
            "Epoch 9/25\n",
            "122/122 [==============================] - 0s 2ms/step - loss: 0.1094 - accuracy: 0.9677 - val_loss: 0.0486 - val_accuracy: 0.9846\n",
            "Epoch 10/25\n",
            "122/122 [==============================] - 0s 2ms/step - loss: 0.0774 - accuracy: 0.9797 - val_loss: 0.0458 - val_accuracy: 0.9915\n",
            "Epoch 11/25\n",
            "122/122 [==============================] - 0s 1ms/step - loss: 0.0372 - accuracy: 0.9918 - val_loss: 0.0382 - val_accuracy: 0.9869\n",
            "Epoch 12/25\n",
            "122/122 [==============================] - 0s 2ms/step - loss: 0.0429 - accuracy: 0.9931 - val_loss: 0.0440 - val_accuracy: 0.9854\n",
            "Epoch 13/25\n",
            "122/122 [==============================] - 0s 1ms/step - loss: 0.0394 - accuracy: 0.9915 - val_loss: 0.0187 - val_accuracy: 0.9946\n",
            "Epoch 14/25\n",
            "122/122 [==============================] - 0s 1ms/step - loss: 0.0439 - accuracy: 0.9908 - val_loss: 0.0232 - val_accuracy: 0.9915\n",
            "Epoch 15/25\n",
            "122/122 [==============================] - 0s 1ms/step - loss: 0.0635 - accuracy: 0.9831 - val_loss: 0.0263 - val_accuracy: 0.9931\n",
            "Epoch 16/25\n",
            "122/122 [==============================] - 0s 1ms/step - loss: 0.0511 - accuracy: 0.9887 - val_loss: 0.0274 - val_accuracy: 0.9923\n",
            "Epoch 17/25\n",
            "122/122 [==============================] - 0s 1ms/step - loss: 0.0366 - accuracy: 0.9908 - val_loss: 0.0301 - val_accuracy: 0.9938\n",
            "Epoch 18/25\n",
            "122/122 [==============================] - 0s 2ms/step - loss: 0.0323 - accuracy: 0.9931 - val_loss: 0.0342 - val_accuracy: 0.9931\n",
            "Epoch 19/25\n",
            "122/122 [==============================] - 0s 2ms/step - loss: 0.0327 - accuracy: 0.9941 - val_loss: 0.0228 - val_accuracy: 0.9946\n",
            "Epoch 20/25\n",
            "122/122 [==============================] - 0s 1ms/step - loss: 0.0479 - accuracy: 0.9890 - val_loss: 0.0299 - val_accuracy: 0.9923\n",
            "Epoch 21/25\n",
            "122/122 [==============================] - 0s 2ms/step - loss: 0.0312 - accuracy: 0.9923 - val_loss: 0.0687 - val_accuracy: 0.9892\n",
            "Epoch 22/25\n",
            "122/122 [==============================] - 0s 1ms/step - loss: 0.0441 - accuracy: 0.9887 - val_loss: 0.0221 - val_accuracy: 0.9938\n",
            "Epoch 23/25\n",
            "122/122 [==============================] - 0s 1ms/step - loss: 0.0345 - accuracy: 0.9923 - val_loss: 0.0357 - val_accuracy: 0.9938\n",
            "Epoch 24/25\n",
            "122/122 [==============================] - 0s 1ms/step - loss: 0.0330 - accuracy: 0.9928 - val_loss: 0.0210 - val_accuracy: 0.9954\n",
            "Epoch 25/25\n",
            "122/122 [==============================] - 0s 1ms/step - loss: 0.0267 - accuracy: 0.9944 - val_loss: 0.0226 - val_accuracy: 0.9946\n"
          ],
          "name": "stdout"
        }
      ]
    },
    {
      "cell_type": "code",
      "metadata": {
        "id": "bQaYBvn9EkyG",
        "colab": {
          "base_uri": "https://localhost:8080/",
          "height": 283
        },
        "outputId": "c62b9f27-18ce-4a23-cd1f-51b5aa867983"
      },
      "source": [
        "# 5.10 분류 모델 학습 결과 시각화\n",
        "import matplotlib.pyplot as plt\n",
        "plt.figure(figsize=(12, 4))\n",
        "\n",
        "plt.subplot(1, 2, 1)\n",
        "plt.plot(history.history['loss'], 'b-', label='loss')\n",
        "plt.plot(history.history['val_loss'], 'r--', label='val_loss')\n",
        "plt.xlabel('Epoch')\n",
        "plt.legend()\n",
        "\n",
        "plt.subplot(1, 2, 2)\n",
        "plt.plot(history.history['accuracy'], 'g-', label='accuracy')\n",
        "plt.plot(history.history['val_accuracy'], 'k--', label='val_accuracy')\n",
        "plt.xlabel('Epoch')\n",
        "plt.ylim(0.7, 1)\n",
        "plt.legend()\n",
        "\n",
        "plt.show()"
      ],
      "execution_count": 13,
      "outputs": [
        {
          "output_type": "display_data",
          "data": {
            "image/png": "[encoded data removed]",
            "text/plain": [
              "<Figure size 864x288 with 2 Axes>"
            ]
          },
          "metadata": {
            "tags": [],
            "needs_background": "light"
          }
        }
      ]
    },
    {
      "cell_type": "code",
      "metadata": {
        "id": "aoqwbfIVEl3g",
        "colab": {
          "base_uri": "https://localhost:8080/"
        },
        "outputId": "2eb4d2c5-d69b-4df7-d370-82f1ae1874c2"
      },
      "source": [
        "# 5.11 분류 모델 평가\n",
        "model.evaluate(test_X, test_Y)"
      ],
      "execution_count": 14,
      "outputs": [
        {
          "output_type": "stream",
          "text": [
            "41/41 [==============================] - 0s 812us/step - loss: 0.0393 - accuracy: 0.9908\n"
          ],
          "name": "stdout"
        },
        {
          "output_type": "execute_result",
          "data": {
            "text/plain": [
              "[0.039266083389520645, 0.9907692074775696]"
            ]
          },
          "metadata": {
            "tags": []
          },
          "execution_count": 14
        }
      ]
    },
    {
      "cell_type": "markdown",
      "metadata": {
        "id": "7K1N1h3nEmpO"
      },
      "source": [
        "5.2 다항 분류"
      ]
    },
    {
      "cell_type": "code",
      "metadata": {
        "id": "uBmPOrpUEoq7",
        "colab": {
          "base_uri": "https://localhost:8080/"
        },
        "outputId": "36127576-4709-48f4-bd1f-e1e178295bab"
      },
      "source": [
        "# 5.12 품질 데이터 확인\n",
        "print(wine['quality'].describe())\n",
        "print(wine['quality'].value_counts())"
      ],
      "execution_count": 15,
      "outputs": [
        {
          "output_type": "stream",
          "text": [
            "count    6497.000000\n",
            "mean        5.818378\n",
            "std         0.873255\n",
            "min         3.000000\n",
            "25%         5.000000\n",
            "50%         6.000000\n",
            "75%         6.000000\n",
            "max         9.000000\n",
            "Name: quality, dtype: float64\n",
            "6    2836\n",
            "5    2138\n",
            "7    1079\n",
            "4     216\n",
            "8     193\n",
            "3      30\n",
            "9       5\n",
            "Name: quality, dtype: int64\n"
          ],
          "name": "stdout"
        }
      ]
    },
    {
      "cell_type": "code",
      "metadata": {
        "id": "KAiug4Q_Ep9J",
        "colab": {
          "base_uri": "https://localhost:8080/",
          "height": 265
        },
        "outputId": "d22b79a4-ed5a-44dd-beee-c036336a6cdd"
      },
      "source": [
        "# 5.13 품질 히스토그램 시각화\n",
        "import matplotlib.pyplot as plt\n",
        "plt.hist(wine['quality'], bins=7, rwidth=0.8)\n",
        "plt.show()"
      ],
      "execution_count": 16,
      "outputs": [
        {
          "output_type": "display_data",
          "data": {
            "image/png": "[encoded data removed]",
            "text/plain": [
              "<Figure size 432x288 with 1 Axes>"
            ]
          },
          "metadata": {
            "tags": [],
            "needs_background": "light"
          }
        }
      ]
    },
    {
      "cell_type": "code",
      "metadata": {
        "id": "1f8kre5ZErgc",
        "colab": {
          "base_uri": "https://localhost:8080/"
        },
        "outputId": "7027c5fd-5c9b-41f9-c421-7139be4e7dc9"
      },
      "source": [
        "# 5.14 품질을 3개의 범주(좋음, 보통, 나쁨)로 재분류\n",
        "wine.loc[wine['quality'] <= 5, 'new_quality'] = 0\n",
        "wine.loc[wine['quality'] == 6, 'new_quality'] = 1\n",
        "wine.loc[wine['quality'] >= 7, 'new_quality'] = 2\n",
        "\n",
        "print(wine['new_quality'].describe())\n",
        "print(wine['new_quality'].value_counts())"
      ],
      "execution_count": 17,
      "outputs": [
        {
          "output_type": "stream",
          "text": [
            "count    6497.000000\n",
            "mean        0.829614\n",
            "std         0.731124\n",
            "min         0.000000\n",
            "25%         0.000000\n",
            "50%         1.000000\n",
            "75%         1.000000\n",
            "max         2.000000\n",
            "Name: new_quality, dtype: float64\n",
            "1.0    2836\n",
            "0.0    2384\n",
            "2.0    1277\n",
            "Name: new_quality, dtype: int64\n"
          ],
          "name": "stdout"
        }
      ]
    },
    {
      "cell_type": "code",
      "metadata": {
        "id": "34YekVMaEtjU"
      },
      "source": [
        "# 5.15 데이터 정규화 및 train, test 데이터 분리\n",
        "del wine['quality']\n",
        "wine_norm = (wine - wine.min()) / (wine.max() - wine.min())\n",
        "wine_shuffle = wine_norm.sample(frac=1)\n",
        "wine_np = wine_shuffle.to_numpy()\n",
        "\n",
        "train_idx = int(len(wine_np) * 0.8)\n",
        "train_X, train_Y = wine_np[:train_idx, :-1], wine_np[:train_idx, -1]\n",
        "test_X, test_Y = wine_np[train_idx:, :-1], wine_np[train_idx:, -1]\n",
        "train_Y = tf.keras.utils.to_categorical(train_Y, num_classes=3)\n",
        "test_Y = tf.keras.utils.to_categorical(test_Y, num_classes=3)"
      ],
      "execution_count": 18,
      "outputs": []
    },
    {
      "cell_type": "code",
      "metadata": {
        "id": "21KKMlAWEu50",
        "colab": {
          "base_uri": "https://localhost:8080/"
        },
        "outputId": "cfa28886-9bb6-48a0-d71c-49ea8a44a6a4"
      },
      "source": [
        "# 5.16 와인 데이터셋 다항 분류 모델 생성 및 학습\n",
        "model = tf.keras.Sequential([\n",
        "    tf.keras.layers.Dense(units=48, activation='relu', input_shape=(12,)),\n",
        "    tf.keras.layers.Dense(units=24, activation='relu'),\n",
        "    tf.keras.layers.Dense(units=12, activation='relu'),\n",
        "    tf.keras.layers.Dense(units=3, activation='softmax')\n",
        "])\n",
        "\n",
        "model.compile(optimizer=tf.keras.optimizers.Adam(lr=0.07), loss='categorical_crossentropy', metrics=['accuracy'])\n",
        "\n",
        "history = model.fit(train_X, train_Y, epochs=25, batch_size=32, validation_split=0.25)"
      ],
      "execution_count": 19,
      "outputs": [
        {
          "output_type": "stream",
          "text": [
            "Epoch 1/25\n",
            "122/122 [==============================] - 0s 3ms/step - loss: 0.4610 - accuracy: 0.8016 - val_loss: 0.4487 - val_accuracy: 0.7908\n",
            "Epoch 2/25\n",
            "122/122 [==============================] - 0s 2ms/step - loss: 0.4246 - accuracy: 0.8037 - val_loss: 0.4303 - val_accuracy: 0.7908\n",
            "Epoch 3/25\n",
            "122/122 [==============================] - 0s 1ms/step - loss: 0.4167 - accuracy: 0.8016 - val_loss: 0.4247 - val_accuracy: 0.7908\n",
            "Epoch 4/25\n",
            "122/122 [==============================] - 0s 2ms/step - loss: 0.4139 - accuracy: 0.7996 - val_loss: 0.4342 - val_accuracy: 0.7908\n",
            "Epoch 5/25\n",
            "122/122 [==============================] - 0s 1ms/step - loss: 0.4104 - accuracy: 0.8065 - val_loss: 0.4268 - val_accuracy: 0.7977\n",
            "Epoch 6/25\n",
            "122/122 [==============================] - 0s 2ms/step - loss: 0.4049 - accuracy: 0.8047 - val_loss: 0.4461 - val_accuracy: 0.7908\n",
            "Epoch 7/25\n",
            "122/122 [==============================] - 0s 2ms/step - loss: 0.4118 - accuracy: 0.8037 - val_loss: 0.4246 - val_accuracy: 0.7931\n",
            "Epoch 8/25\n",
            "122/122 [==============================] - 0s 2ms/step - loss: 0.4111 - accuracy: 0.8083 - val_loss: 0.4261 - val_accuracy: 0.7908\n",
            "Epoch 9/25\n",
            "122/122 [==============================] - 0s 2ms/step - loss: 0.4050 - accuracy: 0.8078 - val_loss: 0.4193 - val_accuracy: 0.7908\n",
            "Epoch 10/25\n",
            "122/122 [==============================] - 0s 2ms/step - loss: 0.4096 - accuracy: 0.8022 - val_loss: 0.4598 - val_accuracy: 0.7908\n",
            "Epoch 11/25\n",
            "122/122 [==============================] - 0s 2ms/step - loss: 0.4047 - accuracy: 0.8109 - val_loss: 0.4233 - val_accuracy: 0.7908\n",
            "Epoch 12/25\n",
            "122/122 [==============================] - 0s 2ms/step - loss: 0.4107 - accuracy: 0.8042 - val_loss: 0.4310 - val_accuracy: 0.7908\n",
            "Epoch 13/25\n",
            "122/122 [==============================] - 0s 2ms/step - loss: 0.4063 - accuracy: 0.8073 - val_loss: 0.4343 - val_accuracy: 0.7908\n",
            "Epoch 14/25\n",
            "122/122 [==============================] - 0s 2ms/step - loss: 0.4017 - accuracy: 0.8065 - val_loss: 0.4163 - val_accuracy: 0.7931\n",
            "Epoch 15/25\n",
            "122/122 [==============================] - 0s 1ms/step - loss: 0.4013 - accuracy: 0.8109 - val_loss: 0.4077 - val_accuracy: 0.8069\n",
            "Epoch 16/25\n",
            "122/122 [==============================] - 0s 2ms/step - loss: 0.3923 - accuracy: 0.8101 - val_loss: 0.4530 - val_accuracy: 0.7908\n",
            "Epoch 17/25\n",
            "122/122 [==============================] - 0s 2ms/step - loss: 0.4079 - accuracy: 0.8034 - val_loss: 0.4158 - val_accuracy: 0.7908\n",
            "Epoch 18/25\n",
            "122/122 [==============================] - 0s 2ms/step - loss: 0.3972 - accuracy: 0.8119 - val_loss: 0.4271 - val_accuracy: 0.7908\n",
            "Epoch 19/25\n",
            "122/122 [==============================] - 0s 2ms/step - loss: 0.4010 - accuracy: 0.8160 - val_loss: 0.5181 - val_accuracy: 0.7908\n",
            "Epoch 20/25\n",
            "122/122 [==============================] - 0s 1ms/step - loss: 0.4085 - accuracy: 0.8106 - val_loss: 0.4145 - val_accuracy: 0.7908\n",
            "Epoch 21/25\n",
            "122/122 [==============================] - 0s 2ms/step - loss: 0.3967 - accuracy: 0.8091 - val_loss: 0.4154 - val_accuracy: 0.7908\n",
            "Epoch 22/25\n",
            "122/122 [==============================] - 0s 2ms/step - loss: 0.3947 - accuracy: 0.8099 - val_loss: 0.4131 - val_accuracy: 0.7908\n",
            "Epoch 23/25\n",
            "122/122 [==============================] - 0s 1ms/step - loss: 0.4083 - accuracy: 0.8037 - val_loss: 0.4356 - val_accuracy: 0.7908\n",
            "Epoch 24/25\n",
            "122/122 [==============================] - 0s 1ms/step - loss: 0.3936 - accuracy: 0.8124 - val_loss: 0.4295 - val_accuracy: 0.8015\n",
            "Epoch 25/25\n",
            "122/122 [==============================] - 0s 1ms/step - loss: 0.4075 - accuracy: 0.8132 - val_loss: 0.4097 - val_accuracy: 0.7908\n"
          ],
          "name": "stdout"
        }
      ]
    },
    {
      "cell_type": "code",
      "metadata": {
        "id": "ibZ60QLaEwo1",
        "colab": {
          "base_uri": "https://localhost:8080/",
          "height": 283
        },
        "outputId": "af1b61c6-e25c-4b5c-b9e1-45cfaace8002"
      },
      "source": [
        "# 5.17 다항 분류 모델 학습 결과 시각화\n",
        "import matplotlib.pyplot as plt\n",
        "plt.figure(figsize=(12, 4))\n",
        "\n",
        "plt.subplot(1, 2, 1)\n",
        "plt.plot(history.history['loss'], 'b-', label='loss')\n",
        "plt.plot(history.history['val_loss'], 'r--', label='val_loss')\n",
        "plt.xlabel('Epoch')\n",
        "plt.legend()\n",
        "\n",
        "plt.subplot(1, 2, 2)\n",
        "plt.plot(history.history['accuracy'], 'g-', label='accuracy')\n",
        "plt.plot(history.history['val_accuracy'], 'k--', label='val_accuracy')\n",
        "plt.xlabel('Epoch')\n",
        "plt.ylim(0.7, 1)\n",
        "plt.legend()\n",
        "\n",
        "plt.show()"
      ],
      "execution_count": 20,
      "outputs": [
        {
          "output_type": "display_data",
          "data": {
            "image/png": "[encoded data removed]",
            "text/plain": [
              "<Figure size 864x288 with 2 Axes>"
            ]
          },
          "metadata": {
            "tags": [],
            "needs_background": "light"
          }
        }
      ]
    },
    {
      "cell_type": "code",
      "metadata": {
        "id": "IKEfQOt2ExxN",
        "colab": {
          "base_uri": "https://localhost:8080/"
        },
        "outputId": "e08e5b55-2b63-4177-cd20-6adb69619e1c"
      },
      "source": [
        "# 5.18 다항 분류 모델 평가\n",
        "model.evaluate(test_X, test_Y)"
      ],
      "execution_count": 21,
      "outputs": [
        {
          "output_type": "stream",
          "text": [
            "41/41 [==============================] - 0s 993us/step - loss: 0.3746 - accuracy: 0.8054\n"
          ],
          "name": "stdout"
        },
        {
          "output_type": "execute_result",
          "data": {
            "text/plain": [
              "[0.3745844066143036, 0.805384635925293]"
            ]
          },
          "metadata": {
            "tags": []
          },
          "execution_count": 21
        }
      ]
    },
    {
      "cell_type": "markdown",
      "metadata": {
        "id": "wrwb3VMgEzFc"
      },
      "source": [
        "5.3 Fashion MNIST"
      ]
    },
    {
      "cell_type": "code",
      "metadata": {
        "id": "dUBbC_9TEzkt",
        "colab": {
          "base_uri": "https://localhost:8080/"
        },
        "outputId": "cd6366b7-5cd5-4d89-fae8-985146b6a477"
      },
      "source": [
        "# 5.19 Fashion MNIST 데이터셋 불러오기\n",
        "fashion_mnist = tf.keras.datasets.fashion_mnist\n",
        "(train_X, train_Y), (test_X, test_Y) = fashion_mnist.load_data()\n",
        "\n",
        "print(len(train_X), len(test_X))"
      ],
      "execution_count": 22,
      "outputs": [
        {
          "output_type": "stream",
          "text": [
            "Downloading data from https://storage.googleapis.com/tensorflow/tf-keras-datasets/train-labels-idx1-ubyte.gz\n",
            "32768/29515 [=================================] - 0s 0us/step\n",
            "Downloading data from https://storage.googleapis.com/tensorflow/tf-keras-datasets/train-images-idx3-ubyte.gz\n",
            "26427392/26421880 [==============================] - 0s 0us/step\n",
            "Downloading data from https://storage.googleapis.com/tensorflow/tf-keras-datasets/t10k-labels-idx1-ubyte.gz\n",
            "8192/5148 [===============================================] - 0s 0us/step\n",
            "Downloading data from https://storage.googleapis.com/tensorflow/tf-keras-datasets/t10k-images-idx3-ubyte.gz\n",
            "4423680/4422102 [==============================] - 0s 0us/step\n",
            "60000 10000\n"
          ],
          "name": "stdout"
        }
      ]
    },
    {
      "cell_type": "code",
      "metadata": {
        "id": "AQd40VAYE1hx",
        "colab": {
          "base_uri": "https://localhost:8080/",
          "height": 283
        },
        "outputId": "ce5f8897-26ec-4df8-ae3e-b32812bb7b43"
      },
      "source": [
        "# 5.20 데이터 확인\n",
        "import matplotlib.pyplot as plt\n",
        "plt.imshow(train_X[0], cmap='gray')\n",
        "plt.colorbar()\n",
        "plt.show()\n",
        "\n",
        "print(train_Y[0])"
      ],
      "execution_count": 23,
      "outputs": [
        {
          "output_type": "display_data",
          "data": {
            "image/png": "[encoded data removed]",
            "text/plain": [
              "<Figure size 432x288 with 2 Axes>"
            ]
          },
          "metadata": {
            "tags": [],
            "needs_background": "light"
          }
        },
        {
          "output_type": "stream",
          "text": [
            "9\n"
          ],
          "name": "stdout"
        }
      ]
    },
    {
      "cell_type": "code",
      "metadata": {
        "id": "Gt6R5u66E2oO",
        "colab": {
          "base_uri": "https://localhost:8080/"
        },
        "outputId": "ef7a3c73-9855-4e72-a950-e9bc8e1cf792"
      },
      "source": [
        "# 5.21 데이터 정규화\n",
        "train_X = train_X / 255.0\n",
        "test_X = test_X / 255.0\n",
        "\n",
        "print(train_X[0])"
      ],
      "execution_count": 24,
      "outputs": [
        {
          "output_type": "stream",
          "text": [
            "[[0.         0.         0.         0.         0.         0.\n",
            "  0.         0.         0.         0.         0.         0.\n",
            "  0.         0.         0.         0.         0.         0.\n",
            "  0.         0.         0.         0.         0.         0.\n",
            "  0.         0.         0.         0.        ]\n",
            " [0.         0.         0.         0.         0.         0.\n",
            "  0.         0.         0.         0.         0.         0.\n",
            "  0.         0.         0.         0.         0.         0.\n",
            "  0.         0.         0.         0.         0.         0.\n",
            "  0.         0.         0.         0.        ]\n",
            " [0.         0.         0.         0.         0.         0.\n",
            "  0.         0.         0.         0.         0.         0.\n",
            "  0.         0.         0.         0.         0.         0.\n",
            "  0.         0.         0.         0.         0.         0.\n",
            "  0.         0.         0.         0.        ]\n",
            " [0.         0.         0.         0.         0.         0.\n",
            "  0.         0.         0.         0.         0.         0.\n",
            "  0.00392157 0.         0.         0.05098039 0.28627451 0.\n",
            "  0.         0.00392157 0.01568627 0.         0.         0.\n",
            "  0.         0.00392157 0.00392157 0.        ]\n",
            " [0.         0.         0.         0.         0.         0.\n",
            "  0.         0.         0.         0.         0.         0.\n",
            "  0.01176471 0.         0.14117647 0.53333333 0.49803922 0.24313725\n",
            "  0.21176471 0.         0.         0.         0.00392157 0.01176471\n",
            "  0.01568627 0.         0.         0.01176471]\n",
            " [0.         0.         0.         0.         0.         0.\n",
            "  0.         0.         0.         0.         0.         0.\n",
            "  0.02352941 0.         0.4        0.8        0.69019608 0.5254902\n",
            "  0.56470588 0.48235294 0.09019608 0.         0.         0.\n",
            "  0.         0.04705882 0.03921569 0.        ]\n",
            " [0.         0.         0.         0.         0.         0.\n",
            "  0.         0.         0.         0.         0.         0.\n",
            "  0.         0.         0.60784314 0.9254902  0.81176471 0.69803922\n",
            "  0.41960784 0.61176471 0.63137255 0.42745098 0.25098039 0.09019608\n",
            "  0.30196078 0.50980392 0.28235294 0.05882353]\n",
            " [0.         0.         0.         0.         0.         0.\n",
            "  0.         0.         0.         0.         0.         0.00392157\n",
            "  0.         0.27058824 0.81176471 0.8745098  0.85490196 0.84705882\n",
            "  0.84705882 0.63921569 0.49803922 0.4745098  0.47843137 0.57254902\n",
            "  0.55294118 0.34509804 0.6745098  0.25882353]\n",
            " [0.         0.         0.         0.         0.         0.\n",
            "  0.         0.         0.         0.00392157 0.00392157 0.00392157\n",
            "  0.         0.78431373 0.90980392 0.90980392 0.91372549 0.89803922\n",
            "  0.8745098  0.8745098  0.84313725 0.83529412 0.64313725 0.49803922\n",
            "  0.48235294 0.76862745 0.89803922 0.        ]\n",
            " [0.         0.         0.         0.         0.         0.\n",
            "  0.         0.         0.         0.         0.         0.\n",
            "  0.         0.71764706 0.88235294 0.84705882 0.8745098  0.89411765\n",
            "  0.92156863 0.89019608 0.87843137 0.87058824 0.87843137 0.86666667\n",
            "  0.8745098  0.96078431 0.67843137 0.        ]\n",
            " [0.         0.         0.         0.         0.         0.\n",
            "  0.         0.         0.         0.         0.         0.\n",
            "  0.         0.75686275 0.89411765 0.85490196 0.83529412 0.77647059\n",
            "  0.70588235 0.83137255 0.82352941 0.82745098 0.83529412 0.8745098\n",
            "  0.8627451  0.95294118 0.79215686 0.        ]\n",
            " [0.         0.         0.         0.         0.         0.\n",
            "  0.         0.         0.         0.00392157 0.01176471 0.\n",
            "  0.04705882 0.85882353 0.8627451  0.83137255 0.85490196 0.75294118\n",
            "  0.6627451  0.89019608 0.81568627 0.85490196 0.87843137 0.83137255\n",
            "  0.88627451 0.77254902 0.81960784 0.20392157]\n",
            " [0.         0.         0.         0.         0.         0.\n",
            "  0.         0.         0.         0.         0.02352941 0.\n",
            "  0.38823529 0.95686275 0.87058824 0.8627451  0.85490196 0.79607843\n",
            "  0.77647059 0.86666667 0.84313725 0.83529412 0.87058824 0.8627451\n",
            "  0.96078431 0.46666667 0.65490196 0.21960784]\n",
            " [0.         0.         0.         0.         0.         0.\n",
            "  0.         0.         0.         0.01568627 0.         0.\n",
            "  0.21568627 0.9254902  0.89411765 0.90196078 0.89411765 0.94117647\n",
            "  0.90980392 0.83529412 0.85490196 0.8745098  0.91764706 0.85098039\n",
            "  0.85098039 0.81960784 0.36078431 0.        ]\n",
            " [0.         0.         0.00392157 0.01568627 0.02352941 0.02745098\n",
            "  0.00784314 0.         0.         0.         0.         0.\n",
            "  0.92941176 0.88627451 0.85098039 0.8745098  0.87058824 0.85882353\n",
            "  0.87058824 0.86666667 0.84705882 0.8745098  0.89803922 0.84313725\n",
            "  0.85490196 1.         0.30196078 0.        ]\n",
            " [0.         0.01176471 0.         0.         0.         0.\n",
            "  0.         0.         0.         0.24313725 0.56862745 0.8\n",
            "  0.89411765 0.81176471 0.83529412 0.86666667 0.85490196 0.81568627\n",
            "  0.82745098 0.85490196 0.87843137 0.8745098  0.85882353 0.84313725\n",
            "  0.87843137 0.95686275 0.62352941 0.        ]\n",
            " [0.         0.         0.         0.         0.07058824 0.17254902\n",
            "  0.32156863 0.41960784 0.74117647 0.89411765 0.8627451  0.87058824\n",
            "  0.85098039 0.88627451 0.78431373 0.80392157 0.82745098 0.90196078\n",
            "  0.87843137 0.91764706 0.69019608 0.7372549  0.98039216 0.97254902\n",
            "  0.91372549 0.93333333 0.84313725 0.        ]\n",
            " [0.         0.22352941 0.73333333 0.81568627 0.87843137 0.86666667\n",
            "  0.87843137 0.81568627 0.8        0.83921569 0.81568627 0.81960784\n",
            "  0.78431373 0.62352941 0.96078431 0.75686275 0.80784314 0.8745098\n",
            "  1.         1.         0.86666667 0.91764706 0.86666667 0.82745098\n",
            "  0.8627451  0.90980392 0.96470588 0.        ]\n",
            " [0.01176471 0.79215686 0.89411765 0.87843137 0.86666667 0.82745098\n",
            "  0.82745098 0.83921569 0.80392157 0.80392157 0.80392157 0.8627451\n",
            "  0.94117647 0.31372549 0.58823529 1.         0.89803922 0.86666667\n",
            "  0.7372549  0.60392157 0.74901961 0.82352941 0.8        0.81960784\n",
            "  0.87058824 0.89411765 0.88235294 0.        ]\n",
            " [0.38431373 0.91372549 0.77647059 0.82352941 0.87058824 0.89803922\n",
            "  0.89803922 0.91764706 0.97647059 0.8627451  0.76078431 0.84313725\n",
            "  0.85098039 0.94509804 0.25490196 0.28627451 0.41568627 0.45882353\n",
            "  0.65882353 0.85882353 0.86666667 0.84313725 0.85098039 0.8745098\n",
            "  0.8745098  0.87843137 0.89803922 0.11372549]\n",
            " [0.29411765 0.8        0.83137255 0.8        0.75686275 0.80392157\n",
            "  0.82745098 0.88235294 0.84705882 0.7254902  0.77254902 0.80784314\n",
            "  0.77647059 0.83529412 0.94117647 0.76470588 0.89019608 0.96078431\n",
            "  0.9372549  0.8745098  0.85490196 0.83137255 0.81960784 0.87058824\n",
            "  0.8627451  0.86666667 0.90196078 0.2627451 ]\n",
            " [0.18823529 0.79607843 0.71764706 0.76078431 0.83529412 0.77254902\n",
            "  0.7254902  0.74509804 0.76078431 0.75294118 0.79215686 0.83921569\n",
            "  0.85882353 0.86666667 0.8627451  0.9254902  0.88235294 0.84705882\n",
            "  0.78039216 0.80784314 0.72941176 0.70980392 0.69411765 0.6745098\n",
            "  0.70980392 0.80392157 0.80784314 0.45098039]\n",
            " [0.         0.47843137 0.85882353 0.75686275 0.70196078 0.67058824\n",
            "  0.71764706 0.76862745 0.8        0.82352941 0.83529412 0.81176471\n",
            "  0.82745098 0.82352941 0.78431373 0.76862745 0.76078431 0.74901961\n",
            "  0.76470588 0.74901961 0.77647059 0.75294118 0.69019608 0.61176471\n",
            "  0.65490196 0.69411765 0.82352941 0.36078431]\n",
            " [0.         0.         0.29019608 0.74117647 0.83137255 0.74901961\n",
            "  0.68627451 0.6745098  0.68627451 0.70980392 0.7254902  0.7372549\n",
            "  0.74117647 0.7372549  0.75686275 0.77647059 0.8        0.81960784\n",
            "  0.82352941 0.82352941 0.82745098 0.7372549  0.7372549  0.76078431\n",
            "  0.75294118 0.84705882 0.66666667 0.        ]\n",
            " [0.00784314 0.         0.         0.         0.25882353 0.78431373\n",
            "  0.87058824 0.92941176 0.9372549  0.94901961 0.96470588 0.95294118\n",
            "  0.95686275 0.86666667 0.8627451  0.75686275 0.74901961 0.70196078\n",
            "  0.71372549 0.71372549 0.70980392 0.69019608 0.65098039 0.65882353\n",
            "  0.38823529 0.22745098 0.         0.        ]\n",
            " [0.         0.         0.         0.         0.         0.\n",
            "  0.         0.15686275 0.23921569 0.17254902 0.28235294 0.16078431\n",
            "  0.1372549  0.         0.         0.         0.         0.\n",
            "  0.         0.         0.         0.         0.         0.\n",
            "  0.         0.         0.         0.        ]\n",
            " [0.         0.         0.         0.         0.         0.\n",
            "  0.         0.         0.         0.         0.         0.\n",
            "  0.         0.         0.         0.         0.         0.\n",
            "  0.         0.         0.         0.         0.         0.\n",
            "  0.         0.         0.         0.        ]\n",
            " [0.         0.         0.         0.         0.         0.\n",
            "  0.         0.         0.         0.         0.         0.\n",
            "  0.         0.         0.         0.         0.         0.\n",
            "  0.         0.         0.         0.         0.         0.\n",
            "  0.         0.         0.         0.        ]]\n"
          ],
          "name": "stdout"
        }
      ]
    },
    {
      "cell_type": "code",
      "metadata": {
        "id": "GXhCzgnbE4ss",
        "colab": {
          "base_uri": "https://localhost:8080/"
        },
        "outputId": "a5005b3d-a999-4090-f3d9-31a59b93552f"
      },
      "source": [
        "# 5.22 Fashion MNIST 분류 모델\n",
        "model = tf.keras.Sequential([\n",
        "    tf.keras.layers.Flatten(input_shape=(28,28)),\n",
        "    tf.keras.layers.Dense(units=128, activation='relu'),\n",
        "    tf.keras.layers.Dense(units=10, activation='softmax')\n",
        "])\n",
        "\n",
        "model.compile(optimizer=tf.keras.optimizers.Adam(), \n",
        "              loss='sparse_categorical_crossentropy', \n",
        "              metrics=['accuracy'])\n",
        "\n",
        "model.summary()"
      ],
      "execution_count": 25,
      "outputs": [
        {
          "output_type": "stream",
          "text": [
            "Model: \"sequential_2\"\n",
            "_________________________________________________________________\n",
            "Layer (type)                 Output Shape              Param #   \n",
            "=================================================================\n",
            "flatten (Flatten)            (None, 784)               0         \n",
            "_________________________________________________________________\n",
            "dense_8 (Dense)              (None, 128)               100480    \n",
            "_________________________________________________________________\n",
            "dense_9 (Dense)              (None, 10)                1290      \n",
            "=================================================================\n",
            "Total params: 101,770\n",
            "Trainable params: 101,770\n",
            "Non-trainable params: 0\n",
            "_________________________________________________________________\n"
          ],
          "name": "stdout"
        }
      ]
    },
    {
      "cell_type": "code",
      "metadata": {
        "id": "ncEnrwdxE6D3",
        "colab": {
          "base_uri": "https://localhost:8080/"
        },
        "outputId": "03ba55be-bf2a-4211-861e-3abea3d8517d"
      },
      "source": [
        "# 5.23 Fashion MNIST 분류 모델 학습\n",
        "history = model.fit(train_X, train_Y, epochs=25, validation_split=0.25)"
      ],
      "execution_count": 26,
      "outputs": [
        {
          "output_type": "stream",
          "text": [
            "Epoch 1/25\n",
            "1407/1407 [==============================] - 3s 2ms/step - loss: 0.5292 - accuracy: 0.8151 - val_loss: 0.4699 - val_accuracy: 0.8261\n",
            "Epoch 2/25\n",
            "1407/1407 [==============================] - 3s 2ms/step - loss: 0.3952 - accuracy: 0.8585 - val_loss: 0.3829 - val_accuracy: 0.8599\n",
            "Epoch 3/25\n",
            "1407/1407 [==============================] - 3s 2ms/step - loss: 0.3581 - accuracy: 0.8703 - val_loss: 0.3599 - val_accuracy: 0.8710\n",
            "Epoch 4/25\n",
            "1407/1407 [==============================] - 3s 2ms/step - loss: 0.3271 - accuracy: 0.8812 - val_loss: 0.3494 - val_accuracy: 0.8729\n",
            "Epoch 5/25\n",
            "1407/1407 [==============================] - 3s 2ms/step - loss: 0.3073 - accuracy: 0.8870 - val_loss: 0.3382 - val_accuracy: 0.8791\n",
            "Epoch 6/25\n",
            "1407/1407 [==============================] - 3s 2ms/step - loss: 0.2886 - accuracy: 0.8943 - val_loss: 0.3417 - val_accuracy: 0.8775\n",
            "Epoch 7/25\n",
            "1407/1407 [==============================] - 3s 2ms/step - loss: 0.2783 - accuracy: 0.8965 - val_loss: 0.3346 - val_accuracy: 0.8782\n",
            "Epoch 8/25\n",
            "1407/1407 [==============================] - 3s 2ms/step - loss: 0.2654 - accuracy: 0.9015 - val_loss: 0.3418 - val_accuracy: 0.8794\n",
            "Epoch 9/25\n",
            "1407/1407 [==============================] - 3s 2ms/step - loss: 0.2554 - accuracy: 0.9039 - val_loss: 0.3417 - val_accuracy: 0.8807\n",
            "Epoch 10/25\n",
            "1407/1407 [==============================] - 3s 2ms/step - loss: 0.2448 - accuracy: 0.9096 - val_loss: 0.3271 - val_accuracy: 0.8845\n",
            "Epoch 11/25\n",
            "1407/1407 [==============================] - 3s 2ms/step - loss: 0.2371 - accuracy: 0.9110 - val_loss: 0.3273 - val_accuracy: 0.8856\n",
            "Epoch 12/25\n",
            "1407/1407 [==============================] - 3s 2ms/step - loss: 0.2276 - accuracy: 0.9141 - val_loss: 0.3257 - val_accuracy: 0.8863\n",
            "Epoch 13/25\n",
            "1407/1407 [==============================] - 3s 2ms/step - loss: 0.2204 - accuracy: 0.9179 - val_loss: 0.3258 - val_accuracy: 0.8853\n",
            "Epoch 14/25\n",
            "1407/1407 [==============================] - 3s 2ms/step - loss: 0.2116 - accuracy: 0.9214 - val_loss: 0.3245 - val_accuracy: 0.8882\n",
            "Epoch 15/25\n",
            "1407/1407 [==============================] - 3s 2ms/step - loss: 0.2053 - accuracy: 0.9238 - val_loss: 0.3473 - val_accuracy: 0.8833\n",
            "Epoch 16/25\n",
            "1407/1407 [==============================] - 3s 2ms/step - loss: 0.1988 - accuracy: 0.9254 - val_loss: 0.3312 - val_accuracy: 0.8888\n",
            "Epoch 17/25\n",
            "1407/1407 [==============================] - 3s 2ms/step - loss: 0.1957 - accuracy: 0.9270 - val_loss: 0.3462 - val_accuracy: 0.8847\n",
            "Epoch 18/25\n",
            "1407/1407 [==============================] - 3s 2ms/step - loss: 0.1898 - accuracy: 0.9285 - val_loss: 0.3388 - val_accuracy: 0.8896\n",
            "Epoch 19/25\n",
            "1407/1407 [==============================] - 4s 3ms/step - loss: 0.1819 - accuracy: 0.9329 - val_loss: 0.3429 - val_accuracy: 0.8889\n",
            "Epoch 20/25\n",
            "1407/1407 [==============================] - 4s 3ms/step - loss: 0.1791 - accuracy: 0.9346 - val_loss: 0.3389 - val_accuracy: 0.8909\n",
            "Epoch 21/25\n",
            "1407/1407 [==============================] - 4s 3ms/step - loss: 0.1722 - accuracy: 0.9363 - val_loss: 0.3782 - val_accuracy: 0.8865\n",
            "Epoch 22/25\n",
            "1407/1407 [==============================] - 3s 2ms/step - loss: 0.1670 - accuracy: 0.9370 - val_loss: 0.3651 - val_accuracy: 0.8913\n",
            "Epoch 23/25\n",
            "1407/1407 [==============================] - 3s 2ms/step - loss: 0.1606 - accuracy: 0.9395 - val_loss: 0.3507 - val_accuracy: 0.8929\n",
            "Epoch 24/25\n",
            "1407/1407 [==============================] - 3s 2ms/step - loss: 0.1595 - accuracy: 0.9399 - val_loss: 0.3487 - val_accuracy: 0.8939\n",
            "Epoch 25/25\n",
            "1407/1407 [==============================] - 3s 2ms/step - loss: 0.1570 - accuracy: 0.9412 - val_loss: 0.3694 - val_accuracy: 0.8929\n"
          ],
          "name": "stdout"
        }
      ]
    },
    {
      "cell_type": "code",
      "metadata": {
        "id": "HnZLTNYyE7iz",
        "colab": {
          "base_uri": "https://localhost:8080/",
          "height": 283
        },
        "outputId": "637f87c2-25a0-41c2-a8ef-6249154a4159"
      },
      "source": [
        "# 5.24 Fashion MNIST 분류 모델 학습 결과 시각화\n",
        "import matplotlib.pyplot as plt\n",
        "plt.figure(figsize=(12, 4))\n",
        "\n",
        "plt.subplot(1, 2, 1)\n",
        "plt.plot(history.history['loss'], 'b-', label='loss')\n",
        "plt.plot(history.history['val_loss'], 'r--', label='val_loss')\n",
        "plt.xlabel('Epoch')\n",
        "plt.legend()\n",
        "\n",
        "plt.subplot(1, 2, 2)\n",
        "plt.plot(history.history['accuracy'], 'g-', label='accuracy')\n",
        "plt.plot(history.history['val_accuracy'], 'k--', label='val_accuracy')\n",
        "plt.xlabel('Epoch')\n",
        "plt.ylim(0.7, 1)\n",
        "plt.legend()\n",
        "\n",
        "plt.show()"
      ],
      "execution_count": 27,
      "outputs": [
        {
          "output_type": "display_data",
          "data": {
            "image/png": "[encoded data removed]",
            "text/plain": [
              "<Figure size 864x288 with 2 Axes>"
            ]
          },
          "metadata": {
            "tags": [],
            "needs_background": "light"
          }
        }
      ]
    },
    {
      "cell_type": "code",
      "metadata": {
        "id": "c2OG2H5ZE-I7",
        "colab": {
          "base_uri": "https://localhost:8080/"
        },
        "outputId": "b1f888e8-38ab-4ca5-edfb-b1719d73c696"
      },
      "source": [
        "# 5.25 Fashion MNIST 분류 모델 평가\n",
        "model.evaluate(test_X, test_Y)"
      ],
      "execution_count": 28,
      "outputs": [
        {
          "output_type": "stream",
          "text": [
            "313/313 [==============================] - 0s 1ms/step - loss: 0.3992 - accuracy: 0.8825\n"
          ],
          "name": "stdout"
        },
        {
          "output_type": "execute_result",
          "data": {
            "text/plain": [
              "[0.39917078614234924, 0.8824999928474426]"
            ]
          },
          "metadata": {
            "tags": []
          },
          "execution_count": 28
        }
      ]
    }
  ]
}