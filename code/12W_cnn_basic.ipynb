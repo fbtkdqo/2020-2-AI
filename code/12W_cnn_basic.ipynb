{
  "nbformat": 4,
  "nbformat_minor": 0,
  "metadata": {
    "colab": {
      "name": "12W-cnn-basic.ipynb",
      "provenance": [],
      "collapsed_sections": [],
      "include_colab_link": true
    },
    "kernelspec": {
      "name": "python3",
      "display_name": "Python 3"
    }
  },
  "cells": [
    {
      "cell_type": "markdown",
      "metadata": {
        "id": "view-in-github",
        "colab_type": "text"
      },
      "source": [
        "<a href=\"https://colab.research.google.com/github/fbtkdqo/2020-2-AI/blob/master/code/12W_cnn_basic.ipynb\" target=\"_parent\"><img src=\"https://colab.research.google.com/assets/colab-badge.svg\" alt=\"Open In Colab\"/></a>"
      ]
    },
    {
      "cell_type": "code",
      "metadata": {
        "id": "VVB5r0g2CLGj"
      },
      "source": [
        "# %matplotlib inline\n",
        "import numpy as np\n",
        "import tensorflow as tf\n",
        "import matplotlib.pyplot as plt"
      ],
      "execution_count": 1,
      "outputs": []
    },
    {
      "cell_type": "code",
      "metadata": {
        "id": "Q6xHSn-2CQRI",
        "colab": {
          "base_uri": "https://localhost:8080/"
        },
        "outputId": "20f23368-6929-430f-c122-a08c0403e1ee"
      },
      "source": [
        "image = np.array([[[1,2,3],\n",
        "                   [4,5,6], \n",
        "                   [7,8,9]]], dtype=np.float32)\n",
        "image.shape"
      ],
      "execution_count": 2,
      "outputs": [
        {
          "output_type": "execute_result",
          "data": {
            "text/plain": [
              "(1, 3, 3)"
            ]
          },
          "metadata": {
            "tags": []
          },
          "execution_count": 2
        }
      ]
    },
    {
      "cell_type": "code",
      "metadata": {
        "id": "zzbkqE6JCQU3",
        "colab": {
          "base_uri": "https://localhost:8080/"
        },
        "outputId": "6e51bccb-c64d-45e8-a19f-9bc16ac6f0c4"
      },
      "source": [
        "image = image.reshape(-1, 3, 3, 1)\n",
        "'''\n",
        "image = np.array([[[[1],[2],[3]],\n",
        "                   [[4],[5],[6]], \n",
        "                   [[7],[8],[9]]]], dtype=np.float32)\n",
        "'''\n",
        "image.shape"
      ],
      "execution_count": 3,
      "outputs": [
        {
          "output_type": "execute_result",
          "data": {
            "text/plain": [
              "(1, 3, 3, 1)"
            ]
          },
          "metadata": {
            "tags": []
          },
          "execution_count": 3
        }
      ]
    },
    {
      "cell_type": "code",
      "metadata": {
        "id": "oAdHFLScCQX8",
        "colab": {
          "base_uri": "https://localhost:8080/",
          "height": 483
        },
        "outputId": "121f9819-ee9b-4cc1-86fb-7bf4dd1259ac"
      },
      "source": [
        "print(image)\n",
        "plt.imshow(image.reshape(3,3), cmap='Greys')"
      ],
      "execution_count": 4,
      "outputs": [
        {
          "output_type": "stream",
          "text": [
            "[[[[1.]\n",
            "   [2.]\n",
            "   [3.]]\n",
            "\n",
            "  [[4.]\n",
            "   [5.]\n",
            "   [6.]]\n",
            "\n",
            "  [[7.]\n",
            "   [8.]\n",
            "   [9.]]]]\n"
          ],
          "name": "stdout"
        },
        {
          "output_type": "execute_result",
          "data": {
            "text/plain": [
              "<matplotlib.image.AxesImage at 0x7fab64695128>"
            ]
          },
          "metadata": {
            "tags": []
          },
          "execution_count": 4
        },
        {
          "output_type": "display_data",
          "data": {
            "image/png": "[encoded data removed]",
            "text/plain": [
              "<Figure size 432x288 with 1 Axes>"
            ]
          },
          "metadata": {
            "tags": [],
            "needs_background": "light"
          }
        }
      ]
    },
    {
      "cell_type": "code",
      "metadata": {
        "id": "P3cbHADUCV9g",
        "colab": {
          "base_uri": "https://localhost:8080/",
          "height": 305
        },
        "outputId": "2414314c-15b8-4e87-9656-0a1a79beae68"
      },
      "source": [
        "image = np.array([[[[1],[2],[3]],\n",
        "                   [[4],[5],[6]], \n",
        "                   [[7],[8],[9]]]], dtype=np.float32)\n",
        "print(image.shape)\n",
        "plt.imshow(image.reshape(3,3), cmap='Greys')"
      ],
      "execution_count": 5,
      "outputs": [
        {
          "output_type": "stream",
          "text": [
            "(1, 3, 3, 1)\n"
          ],
          "name": "stdout"
        },
        {
          "output_type": "execute_result",
          "data": {
            "text/plain": [
              "<matplotlib.image.AxesImage at 0x7fab641e15f8>"
            ]
          },
          "metadata": {
            "tags": []
          },
          "execution_count": 5
        },
        {
          "output_type": "display_data",
          "data": {
            "image/png": "[encoded data removed]",
            "text/plain": [
              "<Figure size 432x288 with 1 Axes>"
            ]
          },
          "metadata": {
            "tags": [],
            "needs_background": "light"
          }
        }
      ]
    },
    {
      "cell_type": "code",
      "metadata": {
        "id": "Kf0OuG4UCW_Z",
        "colab": {
          "base_uri": "https://localhost:8080/"
        },
        "outputId": "3aafe865-2144-4570-a951-538a9f69b91b"
      },
      "source": [
        "print(image)"
      ],
      "execution_count": 6,
      "outputs": [
        {
          "output_type": "stream",
          "text": [
            "[[[[1.]\n",
            "   [2.]\n",
            "   [3.]]\n",
            "\n",
            "  [[4.]\n",
            "   [5.]\n",
            "   [6.]]\n",
            "\n",
            "  [[7.]\n",
            "   [8.]\n",
            "   [9.]]]]\n"
          ],
          "name": "stdout"
        }
      ]
    },
    {
      "cell_type": "code",
      "metadata": {
        "id": "JuG8DSAECYwD",
        "colab": {
          "base_uri": "https://localhost:8080/"
        },
        "outputId": "93eddc03-1161-4760-f511-c760a918ee37"
      },
      "source": [
        "image = np.array([[[[1],[2],[3]],\n",
        "                   [[4],[5],[6]], \n",
        "                   [[7],[8],[9]]]], dtype=np.float32)\n",
        "print(\"image.shape\", image.shape)\n",
        "\n",
        "# wight가 커널\n",
        "weight = tf.constant([[[[1.]],[[1.]]],\n",
        "                      [[[1.]],[[1.]]]])\n",
        "print(\"weight.shape\", weight.shape)\n",
        "\n",
        "conv2d = tf.nn.conv2d(image, weight, strides=[1, 1, 1, 1], padding='VALID')\n",
        "print(\"conv2d.shape\", conv2d.shape)\n",
        "\n",
        "conv2d_img = np.swapaxes(conv2d, 0, 3)\n",
        "print(\"conv2d_img.shape\", conv2d_img.shape)\n",
        "print(type(conv2d_img))\n",
        "print(conv2d_img)"
      ],
      "execution_count": 7,
      "outputs": [
        {
          "output_type": "stream",
          "text": [
            "image.shape (1, 3, 3, 1)\n",
            "weight.shape (2, 2, 1, 1)\n",
            "conv2d.shape (1, 2, 2, 1)\n",
            "conv2d_img.shape (1, 2, 2, 1)\n",
            "<class 'numpy.ndarray'>\n",
            "[[[[12.]\n",
            "   [16.]]\n",
            "\n",
            "  [[24.]\n",
            "   [28.]]]]\n"
          ],
          "name": "stdout"
        }
      ]
    },
    {
      "cell_type": "code",
      "metadata": {
        "id": "gE0rOF5PCaIZ",
        "colab": {
          "base_uri": "https://localhost:8080/",
          "height": 305
        },
        "outputId": "870ff05b-4004-4cec-8a54-f58fae8a31d6"
      },
      "source": [
        "for i, one_img in enumerate(conv2d_img):\n",
        "    print(one_img.reshape(2,2))\n",
        "    plt.subplot(1, 1, i+1)\n",
        "    plt.imshow(one_img.reshape(2,2), cmap='gray')"
      ],
      "execution_count": 8,
      "outputs": [
        {
          "output_type": "stream",
          "text": [
            "[[12. 16.]\n",
            " [24. 28.]]\n"
          ],
          "name": "stdout"
        },
        {
          "output_type": "display_data",
          "data": {
            "image/png": "[encoded data removed]",
            "text/plain": [
              "<Figure size 432x288 with 1 Axes>"
            ]
          },
          "metadata": {
            "tags": [],
            "needs_background": "light"
          }
        }
      ]
    },
    {
      "cell_type": "code",
      "metadata": {
        "id": "bB7Y_VFJCbzY",
        "colab": {
          "base_uri": "https://localhost:8080/"
        },
        "outputId": "3452c5d4-1c1e-40e8-fab6-ae259a173389"
      },
      "source": [
        "x_in = np.array([[\n",
        "  [[2], [1], [2], [0], [1]],\n",
        "  [[1], [3], [2], [2], [3]],\n",
        "  [[1], [1], [3], [3], [0]],\n",
        "  [[2], [2], [0], [1], [1]],\n",
        "  [[0], [0], [3], [1], [2]], ]])\n",
        "x = tf.constant(x_in, dtype=tf.float32)\n",
        "print(x.shape)\n",
        "\n",
        "# 2 x 2 커널 2개 적용\n",
        "kernel_in = np.array([\n",
        " [ [[2, 0.1]],[[3, 0.2]] ],\n",
        " [ [[0, 0.3]],[[1, 0.4]] ], ])\n",
        "kernel = tf.constant(kernel_in, dtype=tf.float32)\n",
        "print(kernel)"
      ],
      "execution_count": 9,
      "outputs": [
        {
          "output_type": "stream",
          "text": [
            "(1, 5, 5, 1)\n",
            "tf.Tensor(\n",
            "[[[[2.  0.1]]\n",
            "\n",
            "  [[3.  0.2]]]\n",
            "\n",
            "\n",
            " [[[0.  0.3]]\n",
            "\n",
            "  [[1.  0.4]]]], shape=(2, 2, 1, 2), dtype=float32)\n"
          ],
          "name": "stdout"
        }
      ]
    },
    {
      "cell_type": "code",
      "metadata": {
        "id": "KyP_fuWaCdhJ",
        "colab": {
          "base_uri": "https://localhost:8080/"
        },
        "outputId": "d28b05f5-df33-4705-90c7-138eff14b7dc"
      },
      "source": [
        "conv2d = tf.nn.conv2d(x, kernel, strides=[1, 1, 1, 1], padding='VALID')\n",
        "print(\"conv2d.shape\", conv2d.shape) #1, 4, 4, 2 = 채널, 가로, 세로, 특징 수\n",
        "print(conv2d)"
      ],
      "execution_count": 10,
      "outputs": [
        {
          "output_type": "stream",
          "text": [
            "conv2d.shape (1, 4, 4, 2)\n",
            "tf.Tensor(\n",
            "[[[[10.         1.9      ]\n",
            "   [10.         2.2      ]\n",
            "   [ 6.         1.6      ]\n",
            "   [ 6.         2.       ]]\n",
            "\n",
            "  [[12.         1.4      ]\n",
            "   [15.         2.2      ]\n",
            "   [13.         2.7      ]\n",
            "   [13.         1.7      ]]\n",
            "\n",
            "  [[ 7.         1.7      ]\n",
            "   [11.         1.3000001]\n",
            "   [16.         1.3      ]\n",
            "   [ 7.         1.       ]]\n",
            "\n",
            "  [[10.         0.6      ]\n",
            "   [ 7.         1.4000001]\n",
            "   [ 4.         1.5      ]\n",
            "   [ 7.         1.4      ]]]], shape=(1, 4, 4, 2), dtype=float32)\n"
          ],
          "name": "stdout"
        }
      ]
    },
    {
      "cell_type": "code",
      "metadata": {
        "id": "hYtAQzpmCesB",
        "colab": {
          "base_uri": "https://localhost:8080/"
        },
        "outputId": "b837639e-12ef-400a-e61c-b30de906763d"
      },
      "source": [
        "# (1, 4, 4, 2) = 채널, 가로, 세로, 특징 수\n",
        "# 채널과 특징을 교환하여 그림을 그리도록 하기 위해\n",
        "conv2d_img = np.swapaxes(conv2d, 0, 3)\n",
        "print(\"conv2d.shape\", conv2d_img.shape) #2, 4, 4, 1 = 특징 수, 가로, 세로, 채널\n",
        "print(conv2d_img)"
      ],
      "execution_count": 11,
      "outputs": [
        {
          "output_type": "stream",
          "text": [
            "conv2d.shape (2, 4, 4, 1)\n",
            "[[[[10.       ]\n",
            "   [10.       ]\n",
            "   [ 6.       ]\n",
            "   [ 6.       ]]\n",
            "\n",
            "  [[12.       ]\n",
            "   [15.       ]\n",
            "   [13.       ]\n",
            "   [13.       ]]\n",
            "\n",
            "  [[ 7.       ]\n",
            "   [11.       ]\n",
            "   [16.       ]\n",
            "   [ 7.       ]]\n",
            "\n",
            "  [[10.       ]\n",
            "   [ 7.       ]\n",
            "   [ 4.       ]\n",
            "   [ 7.       ]]]\n",
            "\n",
            "\n",
            " [[[ 1.9      ]\n",
            "   [ 2.2      ]\n",
            "   [ 1.6      ]\n",
            "   [ 2.       ]]\n",
            "\n",
            "  [[ 1.4      ]\n",
            "   [ 2.2      ]\n",
            "   [ 2.7      ]\n",
            "   [ 1.7      ]]\n",
            "\n",
            "  [[ 1.7      ]\n",
            "   [ 1.3000001]\n",
            "   [ 1.3      ]\n",
            "   [ 1.       ]]\n",
            "\n",
            "  [[ 0.6      ]\n",
            "   [ 1.4000001]\n",
            "   [ 1.5      ]\n",
            "   [ 1.4      ]]]]\n"
          ],
          "name": "stdout"
        }
      ]
    },
    {
      "cell_type": "code",
      "metadata": {
        "id": "DLYLioZiCgTF",
        "colab": {
          "base_uri": "https://localhost:8080/",
          "height": 342
        },
        "outputId": "6596363d-304f-40dd-c758-19fc98675ae0"
      },
      "source": [
        "for i, one_img in enumerate(conv2d_img):\n",
        "    print(one_img.reshape(4,4))\n",
        "    plt.subplot(1,2,i+1), plt.imshow(one_img.reshape(4,4), cmap='gray')"
      ],
      "execution_count": 12,
      "outputs": [
        {
          "output_type": "stream",
          "text": [
            "[[10. 10.  6.  6.]\n",
            " [12. 15. 13. 13.]\n",
            " [ 7. 11. 16.  7.]\n",
            " [10.  7.  4.  7.]]\n",
            "[[1.9       2.2       1.6       2.       ]\n",
            " [1.4       2.2       2.7       1.7      ]\n",
            " [1.7       1.3000001 1.3       1.       ]\n",
            " [0.6       1.4000001 1.5       1.4      ]]\n"
          ],
          "name": "stdout"
        },
        {
          "output_type": "display_data",
          "data": {
            "image/png": "[encoded data removed]",
            "text/plain": [
              "<Figure size 432x288 with 2 Axes>"
            ]
          },
          "metadata": {
            "tags": [],
            "needs_background": "light"
          }
        }
      ]
    },
    {
      "cell_type": "code",
      "metadata": {
        "id": "Xht9oAy4Chxk",
        "colab": {
          "base_uri": "https://localhost:8080/",
          "height": 311
        },
        "outputId": "c4c3f326-ad6d-4641-8773-33a5ebe2e01e"
      },
      "source": [
        "image = np.array([[[[1],[2],[3]],\n",
        "                   [[4],[5],[6]], \n",
        "                   [[7],[8],[9]]]], dtype=np.float32)\n",
        "print(\"image.shape\", image.shape)\n",
        "\n",
        "weight = tf.constant([[[[1.]],[[1.]]],\n",
        "                      [[[1.]],[[1.]]]])\n",
        "print(\"weight.shape\", weight.shape)\n",
        "\n",
        "conv2d = tf.nn.conv2d(image, weight, strides=[1, 1, 1, 1], padding='SAME')\n",
        "print(\"conv2d.shape\", conv2d.shape)\n",
        "\n",
        "conv2d_img = np.swapaxes(conv2d, 0, 3)\n",
        "for i, one_img in enumerate(conv2d_img):\n",
        "    print(one_img.reshape(3,3))\n",
        "    plt.subplot(1,2,i+1), plt.imshow(one_img.reshape(3,3), cmap='gray')"
      ],
      "execution_count": 13,
      "outputs": [
        {
          "output_type": "stream",
          "text": [
            "image.shape (1, 3, 3, 1)\n",
            "weight.shape (2, 2, 1, 1)\n",
            "conv2d.shape (1, 3, 3, 1)\n",
            "[[12. 16.  9.]\n",
            " [24. 28. 15.]\n",
            " [15. 17.  9.]]\n"
          ],
          "name": "stdout"
        },
        {
          "output_type": "display_data",
          "data": {
            "image/png": "[encoded data removed]",
            "text/plain": [
              "<Figure size 432x288 with 1 Axes>"
            ]
          },
          "metadata": {
            "tags": [],
            "needs_background": "light"
          }
        }
      ]
    },
    {
      "cell_type": "code",
      "metadata": {
        "id": "xUwDFs1tCnZb",
        "colab": {
          "base_uri": "https://localhost:8080/",
          "height": 359
        },
        "outputId": "287cc7fa-dc85-438b-8fe1-95980a77ab74"
      },
      "source": [
        "image = np.array([[[[1],[2],[3]],\n",
        "                   [[4],[5],[6]], \n",
        "                   [[7],[8],[9]]]], dtype=np.float32)\n",
        "# print(\"imag:\\n\", image)\n",
        "print(\"image.shape\", image.shape)\n",
        "\n",
        "weight = tf.constant([[[[1.,10.,-1.]],[[1.,10.,-1.]]],\n",
        "                      [[[1.,10.,-1.]],[[1.,10.,-1.]]]])\n",
        "print(\"weight.shape\", weight.shape)\n",
        "\n",
        "conv2d = tf.nn.conv2d(image, weight, strides=[1, 1, 1, 1], padding='SAME')\n",
        "print(\"conv2d.shape\", conv2d.shape)\n",
        "\n",
        "conv2d_img = np.swapaxes(conv2d, 0, 3)\n",
        "for i, one_img in enumerate(conv2d_img):\n",
        "    print(one_img.reshape(3,3))\n",
        "    plt.subplot(1,3,i+1), plt.imshow(one_img.reshape(3,3), cmap='gray')"
      ],
      "execution_count": 14,
      "outputs": [
        {
          "output_type": "stream",
          "text": [
            "image.shape (1, 3, 3, 1)\n",
            "weight.shape (2, 2, 1, 3)\n",
            "conv2d.shape (1, 3, 3, 3)\n",
            "[[12. 16.  9.]\n",
            " [24. 28. 15.]\n",
            " [15. 17.  9.]]\n",
            "[[120. 160.  90.]\n",
            " [240. 280. 150.]\n",
            " [150. 170.  90.]]\n",
            "[[-12. -16.  -9.]\n",
            " [-24. -28. -15.]\n",
            " [-15. -17.  -9.]]\n"
          ],
          "name": "stdout"
        },
        {
          "output_type": "display_data",
          "data": {
            "image/png": "[encoded data removed]",
            "text/plain": [
              "<Figure size 432x288 with 3 Axes>"
            ]
          },
          "metadata": {
            "tags": [],
            "needs_background": "light"
          }
        }
      ]
    },
    {
      "cell_type": "code",
      "metadata": {
        "id": "eAuaw-x_Cpoc",
        "colab": {
          "base_uri": "https://localhost:8080/"
        },
        "outputId": "ad767495-1011-4cb9-c5f2-564de732dc99"
      },
      "source": [
        "image = np.array([[[[4],[3]],\n",
        "                    [[2],[1]]]], dtype=np.float32)\n",
        "print(image.shape)\n",
        "pool = tf.nn.max_pool(image, ksize=[1, 2, 2, 1],\n",
        "                    strides=[1, 1, 1, 1], padding='VALID')\n",
        "print(pool.shape)\n",
        "print(pool.numpy())"
      ],
      "execution_count": 15,
      "outputs": [
        {
          "output_type": "stream",
          "text": [
            "(1, 2, 2, 1)\n",
            "(1, 1, 1, 1)\n",
            "[[[[4.]]]]\n"
          ],
          "name": "stdout"
        }
      ]
    },
    {
      "cell_type": "markdown",
      "metadata": {
        "id": "uZ-wyBHUCsb7"
      },
      "source": [
        "SAME: Zero paddings"
      ]
    },
    {
      "cell_type": "code",
      "metadata": {
        "id": "rtWP9LANCuJf",
        "colab": {
          "base_uri": "https://localhost:8080/"
        },
        "outputId": "c4ea6ed9-90dd-4f97-dec9-43e6f32f5ef9"
      },
      "source": [
        "image = np.array([[[[4],[3]],\n",
        "                    [[2],[1]]]], dtype=np.float32)\n",
        "pool = tf.nn.max_pool(image, ksize=[1, 2, 2, 1],\n",
        "                    strides=[1, 1, 1, 1], padding='SAME')\n",
        "print(pool.shape)\n",
        "print(pool.numpy())"
      ],
      "execution_count": 16,
      "outputs": [
        {
          "output_type": "stream",
          "text": [
            "(1, 2, 2, 1)\n",
            "[[[[4.]\n",
            "   [3.]]\n",
            "\n",
            "  [[2.]\n",
            "   [1.]]]]\n"
          ],
          "name": "stdout"
        }
      ]
    },
    {
      "cell_type": "markdown",
      "metadata": {
        "id": "A981KhRcCvRH"
      },
      "source": [
        "MNIST digits"
      ]
    },
    {
      "cell_type": "code",
      "metadata": {
        "id": "FQd0uOdQCx45",
        "colab": {
          "base_uri": "https://localhost:8080/"
        },
        "outputId": "cb526162-b123-4ed0-9643-59ec5b7e1951"
      },
      "source": [
        "import tensorflow as tf\n",
        "mnist = tf.keras.datasets.mnist\n",
        "\n",
        "mnist = mnist.load_data()"
      ],
      "execution_count": 17,
      "outputs": [
        {
          "output_type": "stream",
          "text": [
            "Downloading data from https://storage.googleapis.com/tensorflow/tf-keras-datasets/mnist.npz\n",
            "11493376/11490434 [==============================] - 0s 0us/step\n"
          ],
          "name": "stdout"
        }
      ]
    },
    {
      "cell_type": "code",
      "metadata": {
        "id": "MwOJY2daC0Qu",
        "colab": {
          "base_uri": "https://localhost:8080/",
          "height": 283
        },
        "outputId": "0cf08dc8-dfc6-478d-9dcd-468a146ae7a6"
      },
      "source": [
        "# mnist[0][0][0]: 학습 데이터, 이미지 중, 첫번째  \n",
        "img = mnist[0][0][0].reshape(28,28)\n",
        "plt.imshow(img, cmap='gray')\n",
        "print(img.shape)"
      ],
      "execution_count": 18,
      "outputs": [
        {
          "output_type": "stream",
          "text": [
            "(28, 28)\n"
          ],
          "name": "stdout"
        },
        {
          "output_type": "display_data",
          "data": {
            "image/png": "[encoded data removed]",
            "text/plain": [
              "<Figure size 432x288 with 1 Axes>"
            ]
          },
          "metadata": {
            "tags": [],
            "needs_background": "light"
          }
        }
      ]
    },
    {
      "cell_type": "code",
      "metadata": {
        "id": "fjS4xnvYC2Vw",
        "colab": {
          "base_uri": "https://localhost:8080/",
          "height": 126
        },
        "outputId": "85a7f274-f69c-45ec-d73b-7ce9870cc5cf"
      },
      "source": [
        "# 4차원으로 확장\n",
        "img = img.reshape(-1,28,28,1)\n",
        "# 3 x 3의 필터 5개 생성\n",
        "W1 = tf.Variable(tf.random.normal([3, 3, 1, 5], stddev=0.01))\n",
        "\n",
        "#conv2d = tf.nn.conv2d(img, W1, strides=[1, 2, 2, 1], padding='SAME')\n",
        "conv2d = tf.nn.conv2d(img, W1, strides=2, padding='SAME')\n",
        "print(conv2d.shape)\n",
        "\n",
        "conv2d_img = np.swapaxes(conv2d, 0, 3)\n",
        "for i, one_img in enumerate(conv2d_img):\n",
        "    plt.subplot(1,5,i+1)\n",
        "    plt.imshow(one_img.reshape(14,14), cmap='gray')"
      ],
      "execution_count": 19,
      "outputs": [
        {
          "output_type": "stream",
          "text": [
            "(1, 14, 14, 5)\n"
          ],
          "name": "stdout"
        },
        {
          "output_type": "display_data",
          "data": {
            "image/png": "[encoded data removed]",
            "text/plain": [
              "<Figure size 432x288 with 5 Axes>"
            ]
          },
          "metadata": {
            "tags": [],
            "needs_background": "light"
          }
        }
      ]
    },
    {
      "cell_type": "code",
      "metadata": {
        "id": "sHd52bVeC3mV",
        "colab": {
          "base_uri": "https://localhost:8080/",
          "height": 124
        },
        "outputId": "c7e49d69-67d4-4e8d-afc1-ccd128fbbd37"
      },
      "source": [
        "pool = tf.nn.max_pool(conv2d, ksize=[1, 2, 2, 1], \n",
        "                      strides=[1, 2, 2, 1], padding='SAME')\n",
        "print(pool.shape)\n",
        "\n",
        "pool_img = np.swapaxes(pool, 0, 3)\n",
        "for i, one_img in enumerate(pool_img):\n",
        "    plt.subplot(1,5,i+1)\n",
        "    plt.imshow(one_img.reshape(7, 7), cmap='gray')"
      ],
      "execution_count": 20,
      "outputs": [
        {
          "output_type": "stream",
          "text": [
            "(1, 7, 7, 5)\n"
          ],
          "name": "stdout"
        },
        {
          "output_type": "display_data",
          "data": {
            "image/png": "[encoded data removed]",
            "text/plain": [
              "<Figure size 432x288 with 5 Axes>"
            ]
          },
          "metadata": {
            "tags": [],
            "needs_background": "light"
          }
        }
      ]
    }
  ]
}